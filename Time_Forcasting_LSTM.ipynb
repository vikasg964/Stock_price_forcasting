{
  "nbformat": 4,
  "nbformat_minor": 0,
  "metadata": {
    "colab": {
      "name": "Time-Forcasting_LSTM.ipynb",
      "provenance": [],
      "authorship_tag": "ABX9TyMheKb0212JOAtXjVAglh7x",
      "include_colab_link": true
    },
    "kernelspec": {
      "name": "python3",
      "display_name": "Python 3"
    }
  },
  "cells": [
    {
      "cell_type": "markdown",
      "metadata": {
        "id": "view-in-github",
        "colab_type": "text"
      },
      "source": [
        "<a href=\"https://colab.research.google.com/github/vikasg964/Stock_price_forcasting/blob/main/Time_Forcasting_LSTM.ipynb\" target=\"_parent\"><img src=\"https://colab.research.google.com/assets/colab-badge.svg\" alt=\"Open In Colab\"/></a>"
      ]
    },
    {
      "cell_type": "markdown",
      "metadata": {
        "id": "2F-xZZyYW3uY"
      },
      "source": [
        "Reading the dataset"
      ]
    },
    {
      "cell_type": "code",
      "metadata": {
        "id": "-3PZT0r8YY4R"
      },
      "source": [
        "import pandas as pd\n",
        "import numpy as np\n",
        "import matplotlib.pyplot as plt\n",
        "import scipy.stats as st\n",
        "\n",
        "%matplotlib inline\n",
        "\n",
        "from collections.abc import Sequence\n",
        "from sklearn import preprocessing\n",
        "import matplotlib.pyplot as plt\n",
        "import io\n",
        "import requests\n",
        "import shutil\n",
        "import os\n",
        "\n",
        "from sklearn.model_selection import train_test_split\n",
        "from tensorflow.keras.models import Sequential\n",
        "from tensorflow.keras.layers import Dense, Embedding\n",
        "from tensorflow.keras.layers import LSTM\n",
        "from tensorflow.keras.layers import Dense, Activation\n",
        "from tensorflow.keras.callbacks import EarlyStopping\n",
        "from tensorflow.keras.callbacks import ModelCheckpoint\n",
        "from tensorflow.keras import optimizers\n",
        "from sklearn import metrics"
      ],
      "execution_count": null,
      "outputs": []
    },
    {
      "cell_type": "markdown",
      "metadata": {
        "id": "ZSXi7boxYvKS"
      },
      "source": [
        "Helper Functions"
      ]
    },
    {
      "cell_type": "code",
      "metadata": {
        "id": "YkbztSvcYx67"
      },
      "source": [
        "# Encode text values to dummy variables(i.e. [1,0,0],[0,1,0],[0,0,1] for red,green,blue)\n",
        "def encode_text_dummy(df, name):\n",
        "    dummies = pd.get_dummies(df[name])\n",
        "    for x in dummies.columns:\n",
        "        dummy_name = \"{}-{}\".format(name, x)\n",
        "        df[dummy_name] = dummies[x]\n",
        "    df.drop(name, axis=1, inplace=True)\n",
        "\n",
        "\n",
        "# Encode text values to indexes(i.e. [1],[2],[3] for red,green,blue).\n",
        "def encode_text_index(df, name):\n",
        "    le = preprocessing.LabelEncoder()\n",
        "    df[name] = le.fit_transform(df[name])\n",
        "    return le.classes_\n",
        "\n",
        "\n",
        "# Encode a numeric column as zscores\n",
        "def encode_numeric_zscore(df, name, mean=None, sd=None):\n",
        "    if mean is None:\n",
        "        mean = df[name].mean()\n",
        "\n",
        "    if sd is None:\n",
        "        sd = df[name].std()\n",
        "\n",
        "    df[name] = (df[name] - mean) / sd\n",
        "\n",
        "\n",
        "# Convert all missing values in the specified column to the median\n",
        "def missing_median(df, name):\n",
        "    med = df[name].median()\n",
        "    df[name] = df[name].fillna(med)\n",
        "\n",
        "\n",
        "# Convert all missing values in the specified column to the default\n",
        "def missing_default(df, name, default_value):\n",
        "    df[name] = df[name].fillna(default_value)\n",
        "    \n",
        "# Nicely formatted time string\n",
        "def hms_string(sec_elapsed):\n",
        "    h = int(sec_elapsed / (60 * 60))\n",
        "    m = int((sec_elapsed % (60 * 60)) / 60)\n",
        "    s = sec_elapsed % 60\n",
        "    return \"{}:{:>02}:{:>05.2f}\".format(h, m, s)\n",
        "\n",
        "    # Regression chart.\n",
        "def chart_regression(pred,y,sort=True):\n",
        "    t = pd.DataFrame({'pred' : pred, 'y' : y.flatten()})\n",
        "    if sort:\n",
        "        t.sort_values(by=['y'],inplace=True)\n",
        "    a = plt.plot(t['y'].tolist(),label='expected')\n",
        "    b = plt.plot(t['pred'].tolist(),label='prediction')\n",
        "    plt.ylabel('output')\n",
        "    plt.legend()\n",
        "    plt.show()\n",
        "\n",
        "# Remove all rows where the specified column is +/- sd standard deviations\n",
        "def remove_outliers(df, name, sd):\n",
        "    drop_rows = df.index[(np.abs(df[name] - df[name].mean()) >= (sd * df[name].std()))]\n",
        "    df.drop(drop_rows, axis=0, inplace=True)\n",
        "\n",
        "\n",
        "# Encode a column to a range between normalized_low and normalized_high.\n",
        "def encode_numeric_range(df, name, normalized_low=-1, normalized_high=1,\n",
        "                         data_low=None, data_high=None):\n",
        "    if data_low is None:\n",
        "        data_low = min(df[name])\n",
        "        data_high = max(df[name])\n",
        "\n",
        "    df[name] = ((df[name] - data_low) / (data_high - data_low)) \\\n",
        "               * (normalized_high - normalized_low) + normalized_low"
      ],
      "execution_count": null,
      "outputs": []
    },
    {
      "cell_type": "markdown",
      "metadata": {
        "id": "NuxyO6mOZJjR"
      },
      "source": [
        "Loading the data csv file"
      ]
    },
    {
      "cell_type": "code",
      "metadata": {
        "id": "vSHn2hImZMBm"
      },
      "source": [
        "df_stock = pd.read_csv('/content/CSC215_P2_Stock_Price.csv')"
      ],
      "execution_count": null,
      "outputs": []
    },
    {
      "cell_type": "code",
      "metadata": {
        "id": "an-rrDRmZWVJ",
        "outputId": "8d330c5a-b4e3-47c5-df98-333fa0ce36b1",
        "colab": {
          "base_uri": "https://localhost:8080/"
        }
      },
      "source": [
        "df_stock.shape"
      ],
      "execution_count": null,
      "outputs": [
        {
          "output_type": "execute_result",
          "data": {
            "text/plain": [
              "(4392, 7)"
            ]
          },
          "metadata": {
            "tags": []
          },
          "execution_count": 41
        }
      ]
    },
    {
      "cell_type": "code",
      "metadata": {
        "id": "pSSqVMceZb9i",
        "outputId": "668ed1c5-2d08-42c1-f186-6de96f03145a",
        "colab": {
          "base_uri": "https://localhost:8080/"
        }
      },
      "source": [
        "df_stock.head"
      ],
      "execution_count": null,
      "outputs": [
        {
          "output_type": "execute_result",
          "data": {
            "text/plain": [
              "<bound method NDFrame.head of            Date        Open        High  ...       Close   Adj_Close   Volume\n",
              "0     2000/3/27    3.812500    4.156250  ...    4.125000    4.125000  3675600\n",
              "1     2000/3/28    4.125000    4.125000  ...    4.015625    4.015625  1077600\n",
              "2     2000/3/29    4.000000    4.031250  ...    4.000000    4.000000   437200\n",
              "3     2000/3/30    4.000000    4.000000  ...    3.843750    3.843750  1883600\n",
              "4     2000/3/31    3.734375    3.734375  ...    3.390625    3.390625  7931600\n",
              "...         ...         ...         ...  ...         ...         ...      ...\n",
              "4387   2017/9/1  113.790001  114.099998  ...  113.309998  113.309998   950000\n",
              "4388   2017/9/5  112.519997  113.529999  ...  111.870003  111.870003  1805200\n",
              "4389   2017/9/6  112.029999  112.489998  ...  112.230003  112.230003  2136700\n",
              "4390   2017/9/7  112.459999  112.900002  ...  112.339996  112.339996  1251600\n",
              "4391   2017/9/8  112.300003  114.790001  ...  113.190002  113.190002  1611700\n",
              "\n",
              "[4392 rows x 7 columns]>"
            ]
          },
          "metadata": {
            "tags": []
          },
          "execution_count": 42
        }
      ]
    },
    {
      "cell_type": "markdown",
      "metadata": {
        "id": "wePOmJocZ0oV"
      },
      "source": [
        "Drop Missing values"
      ]
    },
    {
      "cell_type": "code",
      "metadata": {
        "id": "OOmiGfTYaFCx"
      },
      "source": [
        "# storing the original dataset in a different dataframe before dropping the columns \n",
        "df_stock_new = df_stock"
      ],
      "execution_count": null,
      "outputs": []
    },
    {
      "cell_type": "code",
      "metadata": {
        "id": "S2nRflOKajfM",
        "outputId": "dcad503b-df8d-49cd-b7dc-2021ff8de1fe",
        "colab": {
          "base_uri": "https://localhost:8080/"
        }
      },
      "source": [
        "df_stock_new.head"
      ],
      "execution_count": null,
      "outputs": [
        {
          "output_type": "execute_result",
          "data": {
            "text/plain": [
              "<bound method NDFrame.head of            Date        Open        High  ...       Close   Adj_Close   Volume\n",
              "0     2000/3/27    3.812500    4.156250  ...    4.125000    4.125000  3675600\n",
              "1     2000/3/28    4.125000    4.125000  ...    4.015625    4.015625  1077600\n",
              "2     2000/3/29    4.000000    4.031250  ...    4.000000    4.000000   437200\n",
              "3     2000/3/30    4.000000    4.000000  ...    3.843750    3.843750  1883600\n",
              "4     2000/3/31    3.734375    3.734375  ...    3.390625    3.390625  7931600\n",
              "...         ...         ...         ...  ...         ...         ...      ...\n",
              "4387   2017/9/1  113.790001  114.099998  ...  113.309998  113.309998   950000\n",
              "4388   2017/9/5  112.519997  113.529999  ...  111.870003  111.870003  1805200\n",
              "4389   2017/9/6  112.029999  112.489998  ...  112.230003  112.230003  2136700\n",
              "4390   2017/9/7  112.459999  112.900002  ...  112.339996  112.339996  1251600\n",
              "4391   2017/9/8  112.300003  114.790001  ...  113.190002  113.190002  1611700\n",
              "\n",
              "[4392 rows x 7 columns]>"
            ]
          },
          "metadata": {
            "tags": []
          },
          "execution_count": 44
        }
      ]
    },
    {
      "cell_type": "code",
      "metadata": {
        "id": "3chwr_OSazyL"
      },
      "source": [
        "# dropping the columns Date and Adj_Close\n",
        "df_stock_new=df_stock_new.drop(['Date', 'Adj_Close'], axis=1)"
      ],
      "execution_count": null,
      "outputs": []
    },
    {
      "cell_type": "code",
      "metadata": {
        "id": "7wtHfK42a_dF",
        "outputId": "777745f8-79fa-4d4e-f69c-56f4ce297bb2",
        "colab": {
          "base_uri": "https://localhost:8080/"
        }
      },
      "source": [
        "df_stock_new.shape"
      ],
      "execution_count": null,
      "outputs": [
        {
          "output_type": "execute_result",
          "data": {
            "text/plain": [
              "(4392, 5)"
            ]
          },
          "metadata": {
            "tags": []
          },
          "execution_count": 46
        }
      ]
    },
    {
      "cell_type": "code",
      "metadata": {
        "id": "nFURNIQcbL7d",
        "outputId": "b8ffa690-e187-4415-e5c3-ffde38dade4e",
        "colab": {
          "base_uri": "https://localhost:8080/"
        }
      },
      "source": [
        "df_stock_new.isnull().sum()"
      ],
      "execution_count": null,
      "outputs": [
        {
          "output_type": "execute_result",
          "data": {
            "text/plain": [
              "Open      0\n",
              "High      0\n",
              "Low       0\n",
              "Close     0\n",
              "Volume    0\n",
              "dtype: int64"
            ]
          },
          "metadata": {
            "tags": []
          },
          "execution_count": 47
        }
      ]
    },
    {
      "cell_type": "code",
      "metadata": {
        "id": "E61tWwwWbYud"
      },
      "source": [
        "# creating a copy of the column, Close\n",
        "df_stock_new['y'] = df_stock_new['Close']"
      ],
      "execution_count": null,
      "outputs": []
    },
    {
      "cell_type": "code",
      "metadata": {
        "id": "z4DLUGwobrlZ",
        "outputId": "4f5395b8-f762-4428-e594-c3e6f01cf5e3",
        "colab": {
          "base_uri": "https://localhost:8080/"
        }
      },
      "source": [
        "# creating a copy of the column, Close\n",
        "df_stock_new['y'] = df_stock_new['Close']\n",
        "#print first 5 rows in new csv file\n",
        "print(df_stock_new.head())\n",
        "\n",
        "print(\"\\nNumber of col/row currently:\")\n",
        "print(\"Data: \", df_stock_new.shape)"
      ],
      "execution_count": null,
      "outputs": [
        {
          "output_type": "stream",
          "text": [
            "       Open      High       Low     Close   Volume         y\n",
            "0  3.812500  4.156250  3.812500  4.125000  3675600  4.125000\n",
            "1  4.125000  4.125000  4.000000  4.015625  1077600  4.015625\n",
            "2  4.000000  4.031250  3.953125  4.000000   437200  4.000000\n",
            "3  4.000000  4.000000  3.843750  3.843750  1883600  3.843750\n",
            "4  3.734375  3.734375  3.390625  3.390625  7931600  3.390625\n",
            "\n",
            "Number of col/row currently:\n",
            "Data:  (4392, 6)\n"
          ],
          "name": "stdout"
        }
      ]
    },
    {
      "cell_type": "markdown",
      "metadata": {
        "id": "4eSDhriVcEWC"
      },
      "source": [
        "Normalize the features"
      ]
    },
    {
      "cell_type": "code",
      "metadata": {
        "id": "WvE70VcZcHBd",
        "outputId": "a7431da4-f070-409a-fc39-c6eb02e7735d",
        "colab": {
          "base_uri": "https://localhost:8080/"
        }
      },
      "source": [
        "#Normalizing except  last column y\n",
        "for column in df_stock_new.columns:\n",
        "  if  column != 'y':\n",
        "    encode_numeric_zscore(df_stock_new, column)\n",
        "\n",
        "#print first  5 rows in new csv file to check for normalizing\n",
        "print(df_stock_new.head())"
      ],
      "execution_count": null,
      "outputs": [
        {
          "output_type": "stream",
          "text": [
            "       Open      High       Low     Close    Volume         y\n",
            "0 -0.894209 -0.885022 -0.892306 -0.884364  1.104812  4.125000\n",
            "1 -0.883762 -0.886056 -0.885975 -0.888021 -0.497301  4.015625\n",
            "2 -0.887941 -0.889159 -0.887558 -0.888543 -0.892217  4.000000\n",
            "3 -0.887941 -0.890194 -0.891251 -0.893768 -0.000263  3.843750\n",
            "4 -0.896820 -0.898986 -0.906551 -0.908920  3.729366  3.390625\n"
          ],
          "name": "stdout"
        }
      ]
    },
    {
      "cell_type": "code",
      "metadata": {
        "id": "VssAKJvalHj6",
        "outputId": "539c9eb6-28e7-4ff0-c7dd-0db7ac8045ec",
        "colab": {
          "base_uri": "https://localhost:8080/"
        }
      },
      "source": [
        "# Set all column other than y as input or 'x'\n",
        "x = df_stock_new.iloc[:,df_stock_new.columns != 'y']\n",
        "x = np.array(x, dtype=np.float32)\n",
        "\n",
        "# Set the y column as output or 'y'\n",
        "y = np.array(df_stock_new['y'].values, dtype=np.float32)\n",
        "print(x.shape)\n",
        "print(y.shape)"
      ],
      "execution_count": null,
      "outputs": [
        {
          "output_type": "stream",
          "text": [
            "(4392, 5)\n",
            "(4392,)\n"
          ],
          "name": "stdout"
        }
      ]
    },
    {
      "cell_type": "code",
      "metadata": {
        "id": "-BLEgzWxlaHy"
      },
      "source": [
        "def to_sequences(seq_size, data1, data2):\n",
        "    x = []\n",
        "    y = []\n",
        "\n",
        "    for i in range(len(data1)-seq_size):\n",
        "        #print(i)\n",
        "        window = data1[i:(i+seq_size)]\n",
        "        after_window = data2[i+seq_size]\n",
        "        window = [[x] for x in window]\n",
        "        #print(\"{} - {}\".format(window,after_window))\n",
        "        x.append(window)\n",
        "        y.append(after_window)\n",
        "        \n",
        "    return np.array(x), np.array(y)"
      ],
      "execution_count": null,
      "outputs": []
    },
    {
      "cell_type": "code",
      "metadata": {
        "id": "59QOGutGlhKk",
        "outputId": "6689e966-5d89-4695-d0dc-4701a3e68381",
        "colab": {
          "base_uri": "https://localhost:8080/"
        }
      },
      "source": [
        "SEQUENCE_SIZE = 7\n",
        "#x_lstm_seq_test,y_lstm_seq_test = to_sequences(SEQUENCE_SIZE,X_test,y_test)\n",
        "x_lstseq, y_lstseq = to_sequences(SEQUENCE_SIZE, x, y)\n",
        "\n",
        "#print(\"Shape of x_test: {}\".format(x_lstm_seq_test.shape))\n",
        "print(\"Shape of x_lstseq: {}\".format(x_lstseq.shape))\n",
        "#print(\"Shape of y_test: {}\".format(y_lstm_seq_test.shape))\n",
        "print(\"Shape of y_lstseq: {}\".format(y_lstseq.shape))\n",
        "\n",
        "#reshaping the array\n",
        "x_newseq=x_lstseq.reshape(4385,7,5)\n",
        "\n",
        "#print(\"Shape of x_newseq: {}\".format(y_lstm_seq_test.shape))\n",
        "print(\"Shape of x_newseq: {}\".format(x_newseq.shape))"
      ],
      "execution_count": null,
      "outputs": [
        {
          "output_type": "stream",
          "text": [
            "Shape of x_lstseq: (4385, 7, 1, 5)\n",
            "Shape of y_lstseq: (4385,)\n",
            "Shape of x_newseq: (4385, 7, 5)\n"
          ],
          "name": "stdout"
        }
      ]
    },
    {
      "cell_type": "code",
      "metadata": {
        "id": "EiqUJWOfl0G1"
      },
      "source": [
        "\n",
        "x_seq_3d = x_lstseq.reshape(4385,7,5)"
      ],
      "execution_count": null,
      "outputs": []
    },
    {
      "cell_type": "markdown",
      "metadata": {
        "id": "UR4oLNqkiFRS"
      },
      "source": [
        "Split train and test data 70/30"
      ]
    },
    {
      "cell_type": "code",
      "metadata": {
        "id": "rjYo2N13np7l"
      },
      "source": [
        "from sklearn.model_selection import train_test_split\n",
        "X_train,X_test,Y_train,Y_test = train_test_split(x_seq_3d,y_seq,test_size=0.30,random_state=0)"
      ],
      "execution_count": null,
      "outputs": []
    },
    {
      "cell_type": "code",
      "metadata": {
        "id": "jVYYLkclipK8",
        "outputId": "663c09c5-570a-4eee-ac90-9e3259006398",
        "colab": {
          "base_uri": "https://localhost:8080/"
        }
      },
      "source": [
        "X_train.shape"
      ],
      "execution_count": null,
      "outputs": [
        {
          "output_type": "execute_result",
          "data": {
            "text/plain": [
              "(3069, 7, 5)"
            ]
          },
          "metadata": {
            "tags": []
          },
          "execution_count": 73
        }
      ]
    },
    {
      "cell_type": "code",
      "metadata": {
        "id": "dzJ1cT6jiy4E",
        "outputId": "d571ab1a-b7f5-49e3-c395-c27d26d86650",
        "colab": {
          "base_uri": "https://localhost:8080/"
        }
      },
      "source": [
        "\n",
        "X_test.shape"
      ],
      "execution_count": null,
      "outputs": [
        {
          "output_type": "execute_result",
          "data": {
            "text/plain": [
              "(1316, 7, 5)"
            ]
          },
          "metadata": {
            "tags": []
          },
          "execution_count": 74
        }
      ]
    },
    {
      "cell_type": "code",
      "metadata": {
        "id": "jRunsL4ni4xk",
        "outputId": "a6756059-c837-4f3c-9c1f-741a7b7ca73f",
        "colab": {
          "base_uri": "https://localhost:8080/"
        }
      },
      "source": [
        "Y_train.shape"
      ],
      "execution_count": null,
      "outputs": [
        {
          "output_type": "execute_result",
          "data": {
            "text/plain": [
              "(3069,)"
            ]
          },
          "metadata": {
            "tags": []
          },
          "execution_count": 75
        }
      ]
    },
    {
      "cell_type": "code",
      "metadata": {
        "id": "IlvCBrgoi6ah",
        "outputId": "3a9a93f1-3d73-48c1-f1ce-dae7131a6b11",
        "colab": {
          "base_uri": "https://localhost:8080/"
        }
      },
      "source": [
        "Y_test.shape"
      ],
      "execution_count": null,
      "outputs": [
        {
          "output_type": "execute_result",
          "data": {
            "text/plain": [
              "(1316,)"
            ]
          },
          "metadata": {
            "tags": []
          },
          "execution_count": 76
        }
      ]
    },
    {
      "cell_type": "code",
      "metadata": {
        "id": "Xm2WQ_zWjITW",
        "outputId": "f937cfc2-0ebf-4bef-d853-8bea6e5e29ef",
        "colab": {
          "base_uri": "https://localhost:8080/"
        }
      },
      "source": [
        "type(Y_test)\n",
        "type(X_test)\n",
        "type(X_train)\n",
        "type(Y_train)"
      ],
      "execution_count": null,
      "outputs": [
        {
          "output_type": "execute_result",
          "data": {
            "text/plain": [
              "numpy.ndarray"
            ]
          },
          "metadata": {
            "tags": []
          },
          "execution_count": 77
        }
      ]
    },
    {
      "cell_type": "markdown",
      "metadata": {
        "id": "m3ZliBpxjSZA"
      },
      "source": [
        "LSTM"
      ]
    },
    {
      "cell_type": "code",
      "metadata": {
        "id": "Pqp1Rl5Rn6NZ",
        "outputId": "9d165c7c-b063-4ada-d357-e8c86afbbc45",
        "colab": {
          "base_uri": "https://localhost:8080/",
          "height": 1000
        }
      },
      "source": [
        "from tensorflow.keras.models import Sequential\n",
        "from tensorflow.keras.layers import Dense, Embedding\n",
        "from tensorflow.keras.layers import LSTM\n",
        "from tensorflow.keras.callbacks import EarlyStopping\n",
        "from tensorflow.keras.callbacks import ModelCheckpoint\n",
        "from sklearn import metrics\n",
        "\n",
        "optimizers = ['adam','sgd']\n",
        "activation_functions = ['relu','sigmoid','tanh']\n",
        "\n",
        "for opt in optimizers:\n",
        "    for act in activation_functions:\n",
        "\n",
        "        print(\"\\n\\n\\nModel trained for \\\"{}\\\" optimizer and \\\"{}\\\" activation function : \\n\".format(opt,act))\n",
        "        model = Sequential()\n",
        "\n",
        "        model.add(LSTM(64, dropout=0.1, recurrent_dropout=0.1, input_shape=(7,5)))\n",
        "        model.add(Dense(32, activation=act))\n",
        "        model.add(Dense(32, activation=act))\n",
        "        model.add(Dense(1))\n",
        "\n",
        "        model.compile(loss='mean_squared_error', optimizer=opt)\n",
        "        monitor = EarlyStopping(monitor='val_loss', min_delta=1e-3, patience=5, verbose=1, mode='auto')\n",
        "        checkpointer = ModelCheckpoint(filepath=\"best_weights_LSTM.hdf5\", verbose=0, save_best_only=True)\n",
        "\n",
        "        model.fit(X_train,Y_train,validation_data=(X_test,Y_test),callbacks=[monitor, checkpointer],verbose=2, epochs=200)\n",
        "        \n",
        "        model.load_weights('best_weights_LSTM.hdf5')\n",
        "\n",
        "        pred = model.predict(X_test)\n",
        "        \n",
        "        # Measure MSE error.  \n",
        "        mse = metrics.mean_squared_error(pred,Y_test)\n",
        "        print(\"\\n\\nFinal score (MSE): {}\".format(mse))\n",
        "        \n",
        "        # Measure RMSE error.  RMSE is common for regression.\n",
        "        rmse = np.sqrt(metrics.mean_squared_error(pred,Y_test))\n",
        "        print(\"Final score (RMSE): {}\".format(rmse))\n",
        "        \n",
        "        chart_regression(pred.flatten(),Y_test,sort=True)"
      ],
      "execution_count": null,
      "outputs": [
        {
          "output_type": "stream",
          "text": [
            "\n",
            "\n",
            "\n",
            "Model trained for \"adam\" optimizer and \"relu\" activation function : \n",
            "\n",
            "Epoch 1/200\n",
            "96/96 - 1s - loss: 1100.9877 - val_loss: 302.5863\n",
            "Epoch 2/200\n",
            "96/96 - 1s - loss: 152.4775 - val_loss: 23.8968\n",
            "Epoch 3/200\n",
            "96/96 - 1s - loss: 17.6757 - val_loss: 10.6310\n",
            "Epoch 4/200\n",
            "96/96 - 1s - loss: 9.9268 - val_loss: 3.8631\n",
            "Epoch 5/200\n",
            "96/96 - 1s - loss: 6.0187 - val_loss: 3.1654\n",
            "Epoch 6/200\n",
            "96/96 - 1s - loss: 4.3161 - val_loss: 2.0493\n",
            "Epoch 7/200\n",
            "96/96 - 1s - loss: 4.4583 - val_loss: 2.0754\n",
            "Epoch 8/200\n",
            "96/96 - 1s - loss: 4.3936 - val_loss: 2.8586\n",
            "Epoch 9/200\n",
            "96/96 - 1s - loss: 3.9660 - val_loss: 2.9366\n",
            "Epoch 10/200\n",
            "96/96 - 1s - loss: 3.7185 - val_loss: 1.8306\n",
            "Epoch 11/200\n",
            "96/96 - 1s - loss: 3.8311 - val_loss: 2.0814\n",
            "Epoch 12/200\n",
            "96/96 - 1s - loss: 3.4810 - val_loss: 2.1083\n",
            "Epoch 13/200\n",
            "96/96 - 1s - loss: 3.4088 - val_loss: 2.6100\n",
            "Epoch 14/200\n",
            "96/96 - 1s - loss: 3.7959 - val_loss: 2.5824\n",
            "Epoch 15/200\n",
            "96/96 - 1s - loss: 3.3261 - val_loss: 1.8341\n",
            "Epoch 00015: early stopping\n",
            "\n",
            "\n",
            "Final score (MSE): 1.8305951586919222\n",
            "Final score (RMSE): 1.3529948849466957\n"
          ],
          "name": "stdout"
        },
        {
          "output_type": "display_data",
          "data": {
            "image/png": "[encoded data removed]",
            "text/plain": [
              "<Figure size 432x288 with 1 Axes>"
            ]
          },
          "metadata": {
            "tags": [],
            "needs_background": "light"
          }
        },
        {
          "output_type": "stream",
          "text": [
            "\n",
            "\n",
            "\n",
            "Model trained for \"adam\" optimizer and \"sigmoid\" activation function : \n",
            "\n",
            "Epoch 1/200\n",
            "96/96 - 1s - loss: 1729.0018 - val_loss: 1578.9553\n",
            "Epoch 2/200\n",
            "96/96 - 1s - loss: 1543.5763 - val_loss: 1457.5417\n",
            "Epoch 3/200\n",
            "96/96 - 1s - loss: 1439.0481 - val_loss: 1365.4114\n",
            "Epoch 4/200\n",
            "96/96 - 1s - loss: 1353.7389 - val_loss: 1288.3523\n",
            "Epoch 5/200\n",
            "96/96 - 1s - loss: 1277.3613 - val_loss: 1214.9835\n",
            "Epoch 6/200\n",
            "96/96 - 1s - loss: 1204.8575 - val_loss: 1148.7948\n",
            "Epoch 7/200\n",
            "96/96 - 1s - loss: 1144.2052 - val_loss: 1093.2644\n",
            "Epoch 8/200\n",
            "96/96 - 1s - loss: 1090.6238 - val_loss: 1046.9056\n",
            "Epoch 9/200\n",
            "96/96 - 1s - loss: 1048.4855 - val_loss: 1010.5466\n",
            "Epoch 10/200\n",
            "96/96 - 1s - loss: 1015.1860 - val_loss: 980.6501\n",
            "Epoch 11/200\n",
            "96/96 - 1s - loss: 985.5242 - val_loss: 953.4443\n",
            "Epoch 12/200\n",
            "96/96 - 1s - loss: 960.8499 - val_loss: 934.0208\n",
            "Epoch 13/200\n",
            "96/96 - 1s - loss: 943.3941 - val_loss: 919.8475\n",
            "Epoch 14/200\n",
            "96/96 - 1s - loss: 844.4377 - val_loss: 755.8063\n",
            "Epoch 15/200\n",
            "96/96 - 1s - loss: 746.7536 - val_loss: 696.2364\n",
            "Epoch 16/200\n",
            "96/96 - 1s - loss: 690.0008 - val_loss: 643.3786\n",
            "Epoch 17/200\n",
            "96/96 - 1s - loss: 641.3749 - val_loss: 599.5314\n",
            "Epoch 18/200\n",
            "96/96 - 1s - loss: 599.4028 - val_loss: 561.2161\n",
            "Epoch 19/200\n",
            "96/96 - 1s - loss: 562.3174 - val_loss: 526.3423\n",
            "Epoch 20/200\n",
            "96/96 - 1s - loss: 529.0908 - val_loss: 495.1071\n",
            "Epoch 21/200\n",
            "96/96 - 1s - loss: 499.4640 - val_loss: 467.4998\n",
            "Epoch 22/200\n",
            "96/96 - 1s - loss: 473.0695 - val_loss: 443.3140\n",
            "Epoch 23/200\n",
            "96/96 - 1s - loss: 447.2352 - val_loss: 416.3540\n",
            "Epoch 24/200\n",
            "96/96 - 1s - loss: 420.6501 - val_loss: 392.0132\n",
            "Epoch 25/200\n",
            "96/96 - 1s - loss: 397.2998 - val_loss: 370.2038\n",
            "Epoch 26/200\n",
            "96/96 - 1s - loss: 375.4834 - val_loss: 348.9702\n",
            "Epoch 27/200\n",
            "96/96 - 1s - loss: 354.8305 - val_loss: 329.0915\n",
            "Epoch 28/200\n",
            "96/96 - 1s - loss: 335.2314 - val_loss: 310.3250\n",
            "Epoch 29/200\n",
            "96/96 - 1s - loss: 316.7177 - val_loss: 292.2985\n",
            "Epoch 30/200\n",
            "96/96 - 1s - loss: 299.1169 - val_loss: 275.0818\n",
            "Epoch 31/200\n",
            "96/96 - 1s - loss: 282.3398 - val_loss: 258.9198\n",
            "Epoch 32/200\n",
            "96/96 - 1s - loss: 266.4016 - val_loss: 243.6663\n",
            "Epoch 33/200\n",
            "96/96 - 1s - loss: 251.2134 - val_loss: 228.7274\n",
            "Epoch 34/200\n",
            "96/96 - 1s - loss: 236.7106 - val_loss: 214.9161\n",
            "Epoch 35/200\n",
            "96/96 - 1s - loss: 222.9032 - val_loss: 202.1115\n",
            "Epoch 36/200\n",
            "96/96 - 1s - loss: 209.9252 - val_loss: 189.3973\n",
            "Epoch 37/200\n",
            "96/96 - 1s - loss: 197.5839 - val_loss: 177.5361\n",
            "Epoch 38/200\n",
            "96/96 - 1s - loss: 185.9108 - val_loss: 166.5881\n",
            "Epoch 39/200\n",
            "96/96 - 1s - loss: 174.9603 - val_loss: 156.3844\n",
            "Epoch 40/200\n",
            "96/96 - 1s - loss: 164.4331 - val_loss: 146.4721\n",
            "Epoch 41/200\n",
            "96/96 - 1s - loss: 154.7070 - val_loss: 137.3764\n",
            "Epoch 42/200\n",
            "96/96 - 1s - loss: 145.4917 - val_loss: 128.8589\n",
            "Epoch 43/200\n",
            "96/96 - 1s - loss: 136.8683 - val_loss: 121.0866\n",
            "Epoch 44/200\n",
            "96/96 - 1s - loss: 128.6988 - val_loss: 113.3217\n",
            "Epoch 45/200\n",
            "96/96 - 1s - loss: 120.9967 - val_loss: 106.3816\n",
            "Epoch 46/200\n",
            "96/96 - 1s - loss: 113.6700 - val_loss: 99.9380\n",
            "Epoch 47/200\n",
            "96/96 - 1s - loss: 106.6227 - val_loss: 93.5432\n",
            "Epoch 48/200\n",
            "96/96 - 1s - loss: 100.1199 - val_loss: 87.2608\n",
            "Epoch 49/200\n",
            "96/96 - 1s - loss: 93.8432 - val_loss: 82.0287\n",
            "Epoch 50/200\n",
            "96/96 - 1s - loss: 87.9381 - val_loss: 76.2790\n",
            "Epoch 51/200\n",
            "96/96 - 1s - loss: 82.3645 - val_loss: 71.3796\n",
            "Epoch 52/200\n",
            "96/96 - 1s - loss: 77.1751 - val_loss: 66.7477\n",
            "Epoch 53/200\n",
            "96/96 - 1s - loss: 72.3626 - val_loss: 62.1854\n",
            "Epoch 54/200\n",
            "96/96 - 1s - loss: 67.4659 - val_loss: 58.2043\n",
            "Epoch 55/200\n",
            "96/96 - 1s - loss: 63.0476 - val_loss: 54.2288\n",
            "Epoch 56/200\n",
            "96/96 - 1s - loss: 58.9884 - val_loss: 50.3534\n",
            "Epoch 57/200\n",
            "96/96 - 1s - loss: 54.7891 - val_loss: 46.5987\n",
            "Epoch 58/200\n",
            "96/96 - 1s - loss: 51.3144 - val_loss: 43.5703\n",
            "Epoch 59/200\n",
            "96/96 - 1s - loss: 47.8360 - val_loss: 40.4807\n",
            "Epoch 60/200\n",
            "96/96 - 1s - loss: 44.3764 - val_loss: 37.5184\n",
            "Epoch 61/200\n",
            "96/96 - 1s - loss: 41.3331 - val_loss: 34.6443\n",
            "Epoch 62/200\n",
            "96/96 - 1s - loss: 38.4826 - val_loss: 32.2099\n",
            "Epoch 63/200\n",
            "96/96 - 1s - loss: 35.7437 - val_loss: 29.8807\n",
            "Epoch 64/200\n",
            "96/96 - 1s - loss: 33.4208 - val_loss: 27.6657\n",
            "Epoch 65/200\n",
            "96/96 - 1s - loss: 30.7885 - val_loss: 25.3810\n",
            "Epoch 66/200\n",
            "96/96 - 1s - loss: 28.6657 - val_loss: 24.0693\n",
            "Epoch 67/200\n",
            "96/96 - 1s - loss: 26.5508 - val_loss: 22.3865\n",
            "Epoch 68/200\n",
            "96/96 - 1s - loss: 24.7921 - val_loss: 20.4142\n",
            "Epoch 69/200\n",
            "96/96 - 1s - loss: 23.1283 - val_loss: 18.8545\n",
            "Epoch 70/200\n",
            "96/96 - 1s - loss: 21.4245 - val_loss: 17.5773\n",
            "Epoch 71/200\n",
            "96/96 - 1s - loss: 19.8392 - val_loss: 16.0852\n",
            "Epoch 72/200\n",
            "96/96 - 1s - loss: 18.2990 - val_loss: 14.7819\n",
            "Epoch 73/200\n",
            "96/96 - 1s - loss: 17.1399 - val_loss: 13.5237\n",
            "Epoch 74/200\n",
            "96/96 - 1s - loss: 16.0921 - val_loss: 12.5516\n",
            "Epoch 75/200\n",
            "96/96 - 1s - loss: 14.7858 - val_loss: 11.9512\n",
            "Epoch 76/200\n",
            "96/96 - 1s - loss: 13.8079 - val_loss: 10.7479\n",
            "Epoch 77/200\n",
            "96/96 - 1s - loss: 12.7447 - val_loss: 10.0607\n",
            "Epoch 78/200\n",
            "96/96 - 1s - loss: 11.9219 - val_loss: 9.1418\n",
            "Epoch 79/200\n",
            "96/96 - 1s - loss: 10.8491 - val_loss: 8.3330\n",
            "Epoch 80/200\n",
            "96/96 - 1s - loss: 10.1330 - val_loss: 7.6042\n",
            "Epoch 81/200\n",
            "96/96 - 1s - loss: 9.6458 - val_loss: 7.4471\n",
            "Epoch 82/200\n",
            "96/96 - 1s - loss: 8.7048 - val_loss: 6.7071\n",
            "Epoch 83/200\n",
            "96/96 - 1s - loss: 7.9965 - val_loss: 6.2499\n",
            "Epoch 84/200\n",
            "96/96 - 1s - loss: 7.5446 - val_loss: 5.4418\n",
            "Epoch 85/200\n",
            "96/96 - 1s - loss: 7.1456 - val_loss: 5.3841\n",
            "Epoch 86/200\n",
            "96/96 - 1s - loss: 6.6105 - val_loss: 4.7428\n",
            "Epoch 87/200\n",
            "96/96 - 1s - loss: 6.0622 - val_loss: 4.5053\n",
            "Epoch 88/200\n",
            "96/96 - 1s - loss: 5.6457 - val_loss: 4.0935\n",
            "Epoch 89/200\n",
            "96/96 - 1s - loss: 5.4345 - val_loss: 3.9674\n",
            "Epoch 90/200\n",
            "96/96 - 1s - loss: 5.0630 - val_loss: 4.5870\n",
            "Epoch 91/200\n",
            "96/96 - 1s - loss: 4.7496 - val_loss: 3.6259\n",
            "Epoch 92/200\n",
            "96/96 - 1s - loss: 4.3540 - val_loss: 3.8179\n",
            "Epoch 93/200\n",
            "96/96 - 1s - loss: 4.3579 - val_loss: 3.0711\n",
            "Epoch 94/200\n",
            "96/96 - 1s - loss: 4.0776 - val_loss: 2.8254\n",
            "Epoch 95/200\n",
            "96/96 - 1s - loss: 3.6676 - val_loss: 3.0996\n",
            "Epoch 96/200\n",
            "96/96 - 1s - loss: 3.6405 - val_loss: 2.5113\n",
            "Epoch 97/200\n",
            "96/96 - 1s - loss: 3.4614 - val_loss: 2.4678\n",
            "Epoch 98/200\n",
            "96/96 - 1s - loss: 3.1201 - val_loss: 2.4396\n",
            "Epoch 99/200\n",
            "96/96 - 1s - loss: 3.2779 - val_loss: 2.9958\n",
            "Epoch 100/200\n",
            "96/96 - 1s - loss: 2.9951 - val_loss: 2.4578\n",
            "Epoch 101/200\n",
            "96/96 - 1s - loss: 2.7995 - val_loss: 2.3121\n",
            "Epoch 102/200\n",
            "96/96 - 1s - loss: 2.5880 - val_loss: 2.3096\n",
            "Epoch 103/200\n",
            "96/96 - 1s - loss: 2.5705 - val_loss: 2.0377\n",
            "Epoch 104/200\n",
            "96/96 - 1s - loss: 2.9203 - val_loss: 2.4559\n",
            "Epoch 105/200\n",
            "96/96 - 1s - loss: 2.6010 - val_loss: 1.9238\n",
            "Epoch 106/200\n",
            "96/96 - 1s - loss: 2.5875 - val_loss: 2.6606\n",
            "Epoch 107/200\n",
            "96/96 - 1s - loss: 2.5212 - val_loss: 2.0066\n",
            "Epoch 108/200\n",
            "96/96 - 1s - loss: 2.2867 - val_loss: 2.1281\n",
            "Epoch 109/200\n",
            "96/96 - 1s - loss: 2.5030 - val_loss: 1.9610\n",
            "Epoch 110/200\n",
            "96/96 - 1s - loss: 2.4904 - val_loss: 2.6764\n",
            "Epoch 00110: early stopping\n",
            "\n",
            "\n",
            "Final score (MSE): 1.923754039218147\n",
            "Final score (RMSE): 1.3869946067732732\n"
          ],
          "name": "stdout"
        },
        {
          "output_type": "display_data",
          "data": {
            "image/png": "[encoded data removed]",
            "text/plain": [
              "<Figure size 432x288 with 1 Axes>"
            ]
          },
          "metadata": {
            "tags": [],
            "needs_background": "light"
          }
        },
        {
          "output_type": "stream",
          "text": [
            "\n",
            "\n",
            "\n",
            "Model trained for \"adam\" optimizer and \"tanh\" activation function : \n",
            "\n",
            "Epoch 1/200\n",
            "96/96 - 1s - loss: 1546.2350 - val_loss: 1332.8011\n",
            "Epoch 2/200\n",
            "96/96 - 1s - loss: 1290.1577 - val_loss: 1201.6343\n",
            "Epoch 3/200\n",
            "96/96 - 1s - loss: 1168.2974 - val_loss: 1077.2367\n",
            "Epoch 4/200\n",
            "96/96 - 1s - loss: 1049.3524 - val_loss: 972.0665\n",
            "Epoch 5/200\n",
            "96/96 - 1s - loss: 950.2117 - val_loss: 881.4961\n",
            "Epoch 6/200\n",
            "96/96 - 1s - loss: 863.6288 - val_loss: 801.6031\n",
            "Epoch 7/200\n",
            "96/96 - 1s - loss: 787.5251 - val_loss: 731.2625\n",
            "Epoch 8/200\n",
            "96/96 - 1s - loss: 720.1128 - val_loss: 668.8347\n",
            "Epoch 9/200\n",
            "96/96 - 1s - loss: 660.4778 - val_loss: 613.3560\n",
            "Epoch 10/200\n",
            "96/96 - 1s - loss: 607.5816 - val_loss: 564.3433\n",
            "Epoch 11/200\n",
            "96/96 - 1s - loss: 560.8004 - val_loss: 520.0573\n",
            "Epoch 12/200\n",
            "96/96 - 1s - loss: 518.6246 - val_loss: 481.0093\n",
            "Epoch 13/200\n",
            "96/96 - 1s - loss: 480.5018 - val_loss: 445.0957\n",
            "Epoch 14/200\n",
            "96/96 - 1s - loss: 445.6951 - val_loss: 412.4583\n",
            "Epoch 15/200\n",
            "96/96 - 1s - loss: 414.0127 - val_loss: 382.1293\n",
            "Epoch 16/200\n",
            "96/96 - 1s - loss: 384.7294 - val_loss: 354.5322\n",
            "Epoch 17/200\n",
            "96/96 - 1s - loss: 357.6825 - val_loss: 329.3503\n",
            "Epoch 18/200\n",
            "96/96 - 1s - loss: 332.3890 - val_loss: 304.5163\n",
            "Epoch 19/200\n",
            "96/96 - 1s - loss: 308.6525 - val_loss: 282.8196\n",
            "Epoch 20/200\n",
            "96/96 - 1s - loss: 286.5672 - val_loss: 260.7745\n",
            "Epoch 21/200\n",
            "96/96 - 1s - loss: 265.7485 - val_loss: 240.5530\n",
            "Epoch 22/200\n",
            "96/96 - 1s - loss: 246.3739 - val_loss: 222.1165\n",
            "Epoch 23/200\n",
            "96/96 - 1s - loss: 228.2539 - val_loss: 204.5640\n",
            "Epoch 24/200\n",
            "96/96 - 1s - loss: 211.1356 - val_loss: 188.4119\n",
            "Epoch 25/200\n",
            "96/96 - 1s - loss: 195.1810 - val_loss: 173.2625\n",
            "Epoch 26/200\n",
            "96/96 - 1s - loss: 180.3789 - val_loss: 160.0061\n",
            "Epoch 27/200\n",
            "96/96 - 1s - loss: 166.8383 - val_loss: 147.2935\n",
            "Epoch 28/200\n",
            "96/96 - 1s - loss: 154.3090 - val_loss: 136.4803\n",
            "Epoch 29/200\n",
            "96/96 - 1s - loss: 142.6814 - val_loss: 125.2068\n",
            "Epoch 30/200\n",
            "96/96 - 1s - loss: 131.9948 - val_loss: 115.8812\n",
            "Epoch 31/200\n",
            "96/96 - 1s - loss: 121.8436 - val_loss: 106.2668\n",
            "Epoch 32/200\n",
            "96/96 - 1s - loss: 112.6758 - val_loss: 97.8778\n",
            "Epoch 33/200\n",
            "96/96 - 1s - loss: 104.0268 - val_loss: 90.0431\n",
            "Epoch 34/200\n",
            "96/96 - 1s - loss: 96.0155 - val_loss: 82.5975\n",
            "Epoch 35/200\n",
            "96/96 - 1s - loss: 88.5401 - val_loss: 76.2237\n",
            "Epoch 36/200\n",
            "96/96 - 1s - loss: 81.7451 - val_loss: 70.1474\n",
            "Epoch 37/200\n",
            "96/96 - 1s - loss: 75.4439 - val_loss: 64.1811\n",
            "Epoch 38/200\n",
            "96/96 - 1s - loss: 69.4033 - val_loss: 58.9780\n",
            "Epoch 39/200\n",
            "96/96 - 1s - loss: 63.5919 - val_loss: 54.1274\n",
            "Epoch 40/200\n",
            "96/96 - 1s - loss: 58.4201 - val_loss: 49.2384\n",
            "Epoch 41/200\n",
            "96/96 - 1s - loss: 54.0099 - val_loss: 45.3339\n",
            "Epoch 42/200\n",
            "96/96 - 1s - loss: 49.5628 - val_loss: 41.2024\n",
            "Epoch 43/200\n",
            "96/96 - 1s - loss: 45.2679 - val_loss: 37.6257\n",
            "Epoch 44/200\n",
            "96/96 - 1s - loss: 41.5237 - val_loss: 34.3125\n",
            "Epoch 45/200\n",
            "96/96 - 1s - loss: 38.1070 - val_loss: 31.3957\n",
            "Epoch 46/200\n",
            "96/96 - 1s - loss: 35.0177 - val_loss: 28.5177\n",
            "Epoch 47/200\n",
            "96/96 - 1s - loss: 32.2594 - val_loss: 26.4141\n",
            "Epoch 48/200\n",
            "96/96 - 1s - loss: 29.6802 - val_loss: 23.8256\n",
            "Epoch 49/200\n",
            "96/96 - 1s - loss: 26.9762 - val_loss: 22.1064\n",
            "Epoch 50/200\n",
            "96/96 - 1s - loss: 24.8178 - val_loss: 19.8679\n",
            "Epoch 51/200\n",
            "96/96 - 1s - loss: 22.6972 - val_loss: 18.8754\n",
            "Epoch 52/200\n",
            "96/96 - 1s - loss: 20.9413 - val_loss: 16.9769\n",
            "Epoch 53/200\n",
            "96/96 - 1s - loss: 18.9783 - val_loss: 16.3294\n",
            "Epoch 54/200\n",
            "96/96 - 1s - loss: 17.5420 - val_loss: 13.9462\n",
            "Epoch 55/200\n",
            "96/96 - 1s - loss: 16.0167 - val_loss: 12.5008\n",
            "Epoch 56/200\n",
            "96/96 - 1s - loss: 14.7974 - val_loss: 11.9057\n",
            "Epoch 57/200\n",
            "96/96 - 1s - loss: 13.3760 - val_loss: 10.5545\n",
            "Epoch 58/200\n",
            "96/96 - 1s - loss: 12.4144 - val_loss: 9.5726\n",
            "Epoch 59/200\n",
            "96/96 - 1s - loss: 11.2515 - val_loss: 8.9507\n",
            "Epoch 60/200\n",
            "96/96 - 1s - loss: 10.3195 - val_loss: 8.4810\n",
            "Epoch 61/200\n",
            "96/96 - 1s - loss: 9.5021 - val_loss: 7.6763\n",
            "Epoch 62/200\n",
            "96/96 - 1s - loss: 8.8568 - val_loss: 7.5301\n",
            "Epoch 63/200\n",
            "96/96 - 1s - loss: 8.4503 - val_loss: 5.9148\n",
            "Epoch 64/200\n",
            "96/96 - 1s - loss: 7.5317 - val_loss: 5.4860\n",
            "Epoch 65/200\n",
            "96/96 - 1s - loss: 6.7623 - val_loss: 4.8212\n",
            "Epoch 66/200\n",
            "96/96 - 1s - loss: 6.4747 - val_loss: 4.7782\n",
            "Epoch 67/200\n",
            "96/96 - 1s - loss: 6.0408 - val_loss: 4.2166\n",
            "Epoch 68/200\n",
            "96/96 - 1s - loss: 5.7242 - val_loss: 3.8221\n",
            "Epoch 69/200\n",
            "96/96 - 1s - loss: 4.8369 - val_loss: 3.6609\n",
            "Epoch 70/200\n",
            "96/96 - 1s - loss: 4.7027 - val_loss: 3.3583\n",
            "Epoch 71/200\n",
            "96/96 - 1s - loss: 4.7363 - val_loss: 3.0512\n",
            "Epoch 72/200\n",
            "96/96 - 1s - loss: 4.0272 - val_loss: 2.9179\n",
            "Epoch 73/200\n",
            "96/96 - 1s - loss: 3.7980 - val_loss: 2.6203\n",
            "Epoch 74/200\n",
            "96/96 - 1s - loss: 3.8567 - val_loss: 2.5305\n",
            "Epoch 75/200\n",
            "96/96 - 1s - loss: 3.4489 - val_loss: 2.4639\n",
            "Epoch 76/200\n",
            "96/96 - 1s - loss: 3.5144 - val_loss: 2.2715\n",
            "Epoch 77/200\n",
            "96/96 - 1s - loss: 3.4666 - val_loss: 2.1960\n",
            "Epoch 78/200\n",
            "96/96 - 1s - loss: 3.6121 - val_loss: 2.4091\n",
            "Epoch 79/200\n",
            "96/96 - 1s - loss: 2.9694 - val_loss: 2.1034\n",
            "Epoch 80/200\n",
            "96/96 - 1s - loss: 2.9977 - val_loss: 2.3124\n",
            "Epoch 81/200\n",
            "96/96 - 1s - loss: 2.8005 - val_loss: 1.9859\n",
            "Epoch 82/200\n",
            "96/96 - 1s - loss: 3.0025 - val_loss: 1.8026\n",
            "Epoch 83/200\n",
            "96/96 - 1s - loss: 2.7114 - val_loss: 2.1849\n",
            "Epoch 84/200\n",
            "96/96 - 1s - loss: 2.5815 - val_loss: 1.6959\n",
            "Epoch 85/200\n",
            "96/96 - 1s - loss: 2.6014 - val_loss: 1.8330\n",
            "Epoch 86/200\n",
            "96/96 - 1s - loss: 2.8044 - val_loss: 2.0664\n",
            "Epoch 87/200\n",
            "96/96 - 1s - loss: 2.6282 - val_loss: 1.8574\n",
            "Epoch 88/200\n",
            "96/96 - 1s - loss: 2.9080 - val_loss: 2.3992\n",
            "Epoch 89/200\n",
            "96/96 - 1s - loss: 2.6548 - val_loss: 2.3934\n",
            "Epoch 00089: early stopping\n",
            "\n",
            "\n",
            "Final score (MSE): 1.6959185517731266\n",
            "Final score (RMSE): 1.3022743765325058\n"
          ],
          "name": "stdout"
        },
        {
          "output_type": "display_data",
          "data": {
            "image/png": "[encoded data removed]",
            "text/plain": [
              "<Figure size 432x288 with 1 Axes>"
            ]
          },
          "metadata": {
            "tags": [],
            "needs_background": "light"
          }
        },
        {
          "output_type": "stream",
          "text": [
            "\n",
            "\n",
            "\n",
            "Model trained for \"sgd\" optimizer and \"relu\" activation function : \n",
            "\n",
            "Epoch 1/200\n",
            "96/96 - 1s - loss: nan - val_loss: nan\n",
            "Epoch 2/200\n",
            "96/96 - 1s - loss: nan - val_loss: nan\n",
            "Epoch 3/200\n",
            "96/96 - 1s - loss: nan - val_loss: nan\n",
            "Epoch 4/200\n",
            "96/96 - 1s - loss: nan - val_loss: nan\n",
            "Epoch 5/200\n",
            "96/96 - 1s - loss: nan - val_loss: nan\n",
            "Epoch 00005: early stopping\n",
            "\n",
            "\n",
            "Final score (MSE): 4391.512751126149\n",
            "Final score (RMSE): 66.26848988113544\n"
          ],
          "name": "stdout"
        },
        {
          "output_type": "display_data",
          "data": {
            "image/png": "[encoded data removed]",
            "text/plain": [
              "<Figure size 432x288 with 1 Axes>"
            ]
          },
          "metadata": {
            "tags": [],
            "needs_background": "light"
          }
        },
        {
          "output_type": "stream",
          "text": [
            "\n",
            "\n",
            "\n",
            "Model trained for \"sgd\" optimizer and \"sigmoid\" activation function : \n",
            "\n",
            "Epoch 1/200\n",
            "96/96 - 1s - loss: 221.9275 - val_loss: 26.7523\n",
            "Epoch 2/200\n",
            "96/96 - 1s - loss: 28.4307 - val_loss: 96.0170\n",
            "Epoch 3/200\n",
            "96/96 - 1s - loss: 20.5096 - val_loss: 4.5335\n",
            "Epoch 4/200\n",
            "96/96 - 1s - loss: 8.4044 - val_loss: 14.4432\n",
            "Epoch 5/200\n",
            "96/96 - 1s - loss: 9.0404 - val_loss: 10.9906\n",
            "Epoch 6/200\n",
            "96/96 - 1s - loss: 6.9284 - val_loss: 8.5970\n",
            "Epoch 7/200\n",
            "96/96 - 1s - loss: 5.5019 - val_loss: 5.4861\n",
            "Epoch 8/200\n",
            "96/96 - 1s - loss: 6.1209 - val_loss: 2.7095\n",
            "Epoch 9/200\n",
            "96/96 - 1s - loss: 5.1588 - val_loss: 2.8353\n",
            "Epoch 10/200\n",
            "96/96 - 1s - loss: 4.8995 - val_loss: 2.2362\n",
            "Epoch 11/200\n",
            "96/96 - 1s - loss: 4.4543 - val_loss: 5.1078\n",
            "Epoch 12/200\n",
            "96/96 - 1s - loss: 4.2892 - val_loss: 3.3173\n",
            "Epoch 13/200\n",
            "96/96 - 1s - loss: 4.1443 - val_loss: 3.2624\n",
            "Epoch 14/200\n",
            "96/96 - 1s - loss: 3.9675 - val_loss: 2.2587\n",
            "Epoch 15/200\n",
            "96/96 - 1s - loss: 3.8203 - val_loss: 2.6159\n",
            "Epoch 00015: early stopping\n",
            "\n",
            "\n",
            "Final score (MSE): 2.236171753061279\n",
            "Final score (RMSE): 1.4953834802689505\n"
          ],
          "name": "stdout"
        },
        {
          "output_type": "display_data",
          "data": {
            "image/png": "[encoded data removed]",
            "text/plain": [
              "<Figure size 432x288 with 1 Axes>"
            ]
          },
          "metadata": {
            "tags": [],
            "needs_background": "light"
          }
        },
        {
          "output_type": "stream",
          "text": [
            "\n",
            "\n",
            "\n",
            "Model trained for \"sgd\" optimizer and \"tanh\" activation function : \n",
            "\n",
            "Epoch 1/200\n",
            "96/96 - 1s - loss: 670.2385 - val_loss: 442.7309\n",
            "Epoch 2/200\n",
            "96/96 - 1s - loss: 262.3752 - val_loss: 276.2396\n",
            "Epoch 3/200\n",
            "96/96 - 1s - loss: 198.7172 - val_loss: 108.6841\n",
            "Epoch 4/200\n",
            "96/96 - 1s - loss: 120.3571 - val_loss: 67.9712\n",
            "Epoch 5/200\n",
            "96/96 - 1s - loss: 57.1996 - val_loss: 38.0109\n",
            "Epoch 6/200\n",
            "96/96 - 1s - loss: 45.8561 - val_loss: 22.7720\n",
            "Epoch 7/200\n",
            "96/96 - 1s - loss: 85.0637 - val_loss: 47.0585\n",
            "Epoch 8/200\n",
            "96/96 - 1s - loss: 36.1881 - val_loss: 43.1155\n",
            "Epoch 9/200\n",
            "96/96 - 1s - loss: 47.7667 - val_loss: 23.0159\n",
            "Epoch 10/200\n",
            "96/96 - 1s - loss: 29.9474 - val_loss: 19.0920\n",
            "Epoch 11/200\n",
            "96/96 - 1s - loss: 50.2467 - val_loss: 36.7073\n",
            "Epoch 12/200\n",
            "96/96 - 1s - loss: 29.7395 - val_loss: 13.9922\n",
            "Epoch 13/200\n",
            "96/96 - 1s - loss: 32.8561 - val_loss: 37.4188\n",
            "Epoch 14/200\n",
            "96/96 - 1s - loss: 26.4263 - val_loss: 18.6382\n",
            "Epoch 15/200\n",
            "96/96 - 1s - loss: 21.1157 - val_loss: 30.3653\n",
            "Epoch 16/200\n",
            "96/96 - 1s - loss: 19.5520 - val_loss: 13.9277\n",
            "Epoch 17/200\n",
            "96/96 - 1s - loss: 16.6708 - val_loss: 15.3870\n",
            "Epoch 18/200\n",
            "96/96 - 1s - loss: 16.7383 - val_loss: 13.3343\n",
            "Epoch 19/200\n",
            "96/96 - 1s - loss: 16.6864 - val_loss: 21.7698\n",
            "Epoch 20/200\n",
            "96/96 - 1s - loss: 18.6846 - val_loss: 9.6732\n",
            "Epoch 21/200\n",
            "96/96 - 1s - loss: 15.0531 - val_loss: 8.6751\n",
            "Epoch 22/200\n",
            "96/96 - 1s - loss: 22.6409 - val_loss: 21.8083\n",
            "Epoch 23/200\n",
            "96/96 - 1s - loss: 22.8394 - val_loss: 69.1427\n",
            "Epoch 24/200\n",
            "96/96 - 1s - loss: 17.4172 - val_loss: 9.7627\n",
            "Epoch 25/200\n",
            "96/96 - 1s - loss: 8.3241 - val_loss: 9.4355\n",
            "Epoch 26/200\n",
            "96/96 - 1s - loss: 8.3085 - val_loss: 5.6808\n",
            "Epoch 27/200\n",
            "96/96 - 1s - loss: 7.7561 - val_loss: 5.2185\n",
            "Epoch 28/200\n",
            "96/96 - 1s - loss: 5.8436 - val_loss: 4.9142\n",
            "Epoch 29/200\n",
            "96/96 - 1s - loss: 5.7932 - val_loss: 4.0273\n",
            "Epoch 30/200\n",
            "96/96 - 1s - loss: 5.1207 - val_loss: 4.0958\n",
            "Epoch 31/200\n",
            "96/96 - 1s - loss: 4.9423 - val_loss: 3.0274\n",
            "Epoch 32/200\n",
            "96/96 - 1s - loss: 5.0206 - val_loss: 3.6408\n",
            "Epoch 33/200\n",
            "96/96 - 1s - loss: 4.7754 - val_loss: 3.1429\n",
            "Epoch 34/200\n",
            "96/96 - 1s - loss: 4.9017 - val_loss: 4.3392\n",
            "Epoch 35/200\n",
            "96/96 - 1s - loss: 4.4646 - val_loss: 6.6551\n",
            "Epoch 36/200\n",
            "96/96 - 1s - loss: 4.5976 - val_loss: 3.8226\n",
            "Epoch 00036: early stopping\n",
            "\n",
            "\n",
            "Final score (MSE): 3.02742425805491\n",
            "Final score (RMSE): 1.739949498708198\n"
          ],
          "name": "stdout"
        },
        {
          "output_type": "display_data",
          "data": {
            "image/png": "[encoded data removed]",
            "text/plain": [
              "<Figure size 432x288 with 1 Axes>"
            ]
          },
          "metadata": {
            "tags": [],
            "needs_background": "light"
          }
        }
      ]
    }
  ]
}