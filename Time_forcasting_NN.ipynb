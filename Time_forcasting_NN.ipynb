{
  "nbformat": 4,
  "nbformat_minor": 0,
  "metadata": {
    "colab": {
      "name": "Time_forcasting_NN.ipynb",
      "provenance": [],
      "authorship_tag": "ABX9TyMUqFtxzR506Ms/+CSr7n6g",
      "include_colab_link": true
    },
    "kernelspec": {
      "name": "python3",
      "display_name": "Python 3"
    }
  },
  "cells": [
    {
      "cell_type": "markdown",
      "metadata": {
        "id": "view-in-github",
        "colab_type": "text"
      },
      "source": [
        "<a href=\"https://colab.research.google.com/github/vikasg964/Stock_price_forcasting/blob/main/Time_forcasting_NN.ipynb\" target=\"_parent\"><img src=\"https://colab.research.google.com/assets/colab-badge.svg\" alt=\"Open In Colab\"/></a>"
      ]
    },
    {
      "cell_type": "markdown",
      "metadata": {
        "id": "n4jbz0Bnt5jc"
      },
      "source": [
        "Imports"
      ]
    },
    {
      "cell_type": "code",
      "metadata": {
        "id": "Yvepzgx_t7du"
      },
      "source": [
        "import pandas as pd\n",
        "import numpy as np\n",
        "import matplotlib.pyplot as plt\n",
        "import scipy.stats as st\n",
        "\n",
        "%matplotlib inline\n",
        "\n",
        "from collections.abc import Sequence\n",
        "from sklearn import preprocessing\n",
        "import matplotlib.pyplot as plt\n",
        "import io\n",
        "import requests\n",
        "import shutil\n",
        "import os\n",
        "\n",
        "from sklearn.model_selection import train_test_split\n",
        "from tensorflow.keras.models import Sequential\n",
        "from tensorflow.keras.layers import Dense, Embedding\n",
        "from tensorflow.keras.layers import LSTM\n",
        "from tensorflow.keras.layers import Dense, Activation\n",
        "from tensorflow.keras.callbacks import EarlyStopping\n",
        "from tensorflow.keras.callbacks import ModelCheckpoint\n",
        "from tensorflow.keras import optimizers\n",
        "from sklearn import metrics"
      ],
      "execution_count": null,
      "outputs": []
    },
    {
      "cell_type": "markdown",
      "metadata": {
        "id": "jyrCEFGcuC9f"
      },
      "source": [
        "Helper Functions"
      ]
    },
    {
      "cell_type": "code",
      "metadata": {
        "id": "rMHiw3pVuGKA"
      },
      "source": [
        "# Encode text values to dummy variables(i.e. [1,0,0],[0,1,0],[0,0,1] for red,green,blue)\n",
        "def encode_text_dummy(df, name):\n",
        "    dummies = pd.get_dummies(df[name])\n",
        "    for x in dummies.columns:\n",
        "        dummy_name = \"{}-{}\".format(name, x)\n",
        "        df[dummy_name] = dummies[x]\n",
        "    df.drop(name, axis=1, inplace=True)\n",
        "\n",
        "\n",
        "# Encode text values to indexes(i.e. [1],[2],[3] for red,green,blue).\n",
        "def encode_text_index(df, name):\n",
        "    le = preprocessing.LabelEncoder()\n",
        "    df[name] = le.fit_transform(df[name])\n",
        "    return le.classes_\n",
        "\n",
        "\n",
        "# Encode a numeric column as zscores\n",
        "def encode_numeric_zscore(df, name, mean=None, sd=None):\n",
        "    if mean is None:\n",
        "        mean = df[name].mean()\n",
        "\n",
        "    if sd is None:\n",
        "        sd = df[name].std()\n",
        "\n",
        "    df[name] = (df[name] - mean) / sd\n",
        "\n",
        "\n",
        "# Convert all missing values in the specified column to the median\n",
        "def missing_median(df, name):\n",
        "    med = df[name].median()\n",
        "    df[name] = df[name].fillna(med)\n",
        "\n",
        "\n",
        "# Convert all missing values in the specified column to the default\n",
        "def missing_default(df, name, default_value):\n",
        "    df[name] = df[name].fillna(default_value)\n",
        "    \n",
        "# Nicely formatted time string\n",
        "def hms_string(sec_elapsed):\n",
        "    h = int(sec_elapsed / (60 * 60))\n",
        "    m = int((sec_elapsed % (60 * 60)) / 60)\n",
        "    s = sec_elapsed % 60\n",
        "    return \"{}:{:>02}:{:>05.2f}\".format(h, m, s)\n",
        "\n",
        "    # Regression chart.\n",
        "def chart_regression(pred,y,sort=True):\n",
        "    t = pd.DataFrame({'pred' : pred, 'y' : y.flatten()})\n",
        "    if sort:\n",
        "        t.sort_values(by=['y'],inplace=True)\n",
        "    a = plt.plot(t['y'].tolist(),label='expected')\n",
        "    b = plt.plot(t['pred'].tolist(),label='prediction')\n",
        "    plt.ylabel('output')\n",
        "    plt.legend()\n",
        "    plt.show()\n",
        "\n",
        "# Remove all rows where the specified column is +/- sd standard deviations\n",
        "def remove_outliers(df, name, sd):\n",
        "    drop_rows = df.index[(np.abs(df[name] - df[name].mean()) >= (sd * df[name].std()))]\n",
        "    df.drop(drop_rows, axis=0, inplace=True)\n",
        "\n",
        "\n",
        "# Encode a column to a range between normalized_low and normalized_high.\n",
        "def encode_numeric_range(df, name, normalized_low=-1, normalized_high=1,\n",
        "                         data_low=None, data_high=None):\n",
        "    if data_low is None:\n",
        "        data_low = min(df[name])\n",
        "        data_high = max(df[name])\n",
        "\n",
        "    df[name] = ((df[name] - data_low) / (data_high - data_low)) \\\n",
        "               * (normalized_high - normalized_low) + normalized_low"
      ],
      "execution_count": null,
      "outputs": []
    },
    {
      "cell_type": "markdown",
      "metadata": {
        "id": "G46AeTpEuSLd"
      },
      "source": [
        "Reading the dataset"
      ]
    },
    {
      "cell_type": "code",
      "metadata": {
        "id": "kKWOsFgpuUwz"
      },
      "source": [
        "df_stock = pd.read_csv('/content/CSC215_P2_Stock_Price.csv')"
      ],
      "execution_count": null,
      "outputs": []
    },
    {
      "cell_type": "code",
      "metadata": {
        "id": "zRaeDqgyue6n",
        "outputId": "f0f317b7-d5f5-4020-b96c-0b566d175774",
        "colab": {
          "base_uri": "https://localhost:8080/"
        }
      },
      "source": [
        "df_stock.head"
      ],
      "execution_count": null,
      "outputs": [
        {
          "output_type": "execute_result",
          "data": {
            "text/plain": [
              "<bound method NDFrame.head of            Date        Open        High  ...   Adj_Close   Volume           y\n",
              "0     2000/3/27    3.812500    4.156250  ...    4.125000  3675600    4.125000\n",
              "1     2000/3/28    4.125000    4.125000  ...    4.015625  1077600    4.015625\n",
              "2     2000/3/29    4.000000    4.031250  ...    4.000000   437200    4.000000\n",
              "3     2000/3/30    4.000000    4.000000  ...    3.843750  1883600    3.843750\n",
              "4     2000/3/31    3.734375    3.734375  ...    3.390625  7931600    3.390625\n",
              "...         ...         ...         ...  ...         ...      ...         ...\n",
              "4387   2017/9/1  113.790001  114.099998  ...  113.309998   950000  113.309998\n",
              "4388   2017/9/5  112.519997  113.529999  ...  111.870003  1805200  111.870003\n",
              "4389   2017/9/6  112.029999  112.489998  ...  112.230003  2136700  112.230003\n",
              "4390   2017/9/7  112.459999  112.900002  ...  112.339996  1251600  112.339996\n",
              "4391   2017/9/8  112.300003  114.790001  ...  113.190002  1611700  113.190002\n",
              "\n",
              "[4392 rows x 8 columns]>"
            ]
          },
          "metadata": {
            "tags": []
          },
          "execution_count": 11
        }
      ]
    },
    {
      "cell_type": "code",
      "metadata": {
        "id": "7G9hIUN3ujR6",
        "outputId": "f4e22155-6260-4640-8ff5-84ba811158c5",
        "colab": {
          "base_uri": "https://localhost:8080/"
        }
      },
      "source": [
        "df_stock.shape"
      ],
      "execution_count": null,
      "outputs": [
        {
          "output_type": "execute_result",
          "data": {
            "text/plain": [
              "(4392, 8)"
            ]
          },
          "metadata": {
            "tags": []
          },
          "execution_count": 13
        }
      ]
    },
    {
      "cell_type": "markdown",
      "metadata": {
        "id": "QqJyl3zpvkqH"
      },
      "source": [
        "Drop date and Adj_close"
      ]
    },
    {
      "cell_type": "code",
      "metadata": {
        "id": "F7NZ3qn3voqz",
        "outputId": "83ca0636-b66a-4068-b5ab-3bde2aca7dd0",
        "colab": {
          "base_uri": "https://localhost:8080/",
          "height": 191
        }
      },
      "source": [
        "\n",
        "# storing the original dataset in a different dataframe before dropping the columns \n",
        "df_stock_new = df_stock\n",
        "df_stock_new.head()"
      ],
      "execution_count": null,
      "outputs": [
        {
          "output_type": "execute_result",
          "data": {
            "text/html": [
              "<div>\n",
              "<style scoped>\n",
              "    .dataframe tbody tr th:only-of-type {\n",
              "        vertical-align: middle;\n",
              "    }\n",
              "\n",
              "    .dataframe tbody tr th {\n",
              "        vertical-align: top;\n",
              "    }\n",
              "\n",
              "    .dataframe thead th {\n",
              "        text-align: right;\n",
              "    }\n",
              "</style>\n",
              "<table border=\"1\" class=\"dataframe\">\n",
              "  <thead>\n",
              "    <tr style=\"text-align: right;\">\n",
              "      <th></th>\n",
              "      <th>Date</th>\n",
              "      <th>Open</th>\n",
              "      <th>High</th>\n",
              "      <th>Low</th>\n",
              "      <th>Close</th>\n",
              "      <th>Adj_Close</th>\n",
              "      <th>Volume</th>\n",
              "      <th>y</th>\n",
              "    </tr>\n",
              "  </thead>\n",
              "  <tbody>\n",
              "    <tr>\n",
              "      <th>0</th>\n",
              "      <td>2000/3/27</td>\n",
              "      <td>3.812500</td>\n",
              "      <td>4.156250</td>\n",
              "      <td>3.812500</td>\n",
              "      <td>4.125000</td>\n",
              "      <td>4.125000</td>\n",
              "      <td>3675600</td>\n",
              "      <td>4.125000</td>\n",
              "    </tr>\n",
              "    <tr>\n",
              "      <th>1</th>\n",
              "      <td>2000/3/28</td>\n",
              "      <td>4.125000</td>\n",
              "      <td>4.125000</td>\n",
              "      <td>4.000000</td>\n",
              "      <td>4.015625</td>\n",
              "      <td>4.015625</td>\n",
              "      <td>1077600</td>\n",
              "      <td>4.015625</td>\n",
              "    </tr>\n",
              "    <tr>\n",
              "      <th>2</th>\n",
              "      <td>2000/3/29</td>\n",
              "      <td>4.000000</td>\n",
              "      <td>4.031250</td>\n",
              "      <td>3.953125</td>\n",
              "      <td>4.000000</td>\n",
              "      <td>4.000000</td>\n",
              "      <td>437200</td>\n",
              "      <td>4.000000</td>\n",
              "    </tr>\n",
              "    <tr>\n",
              "      <th>3</th>\n",
              "      <td>2000/3/30</td>\n",
              "      <td>4.000000</td>\n",
              "      <td>4.000000</td>\n",
              "      <td>3.843750</td>\n",
              "      <td>3.843750</td>\n",
              "      <td>3.843750</td>\n",
              "      <td>1883600</td>\n",
              "      <td>3.843750</td>\n",
              "    </tr>\n",
              "    <tr>\n",
              "      <th>4</th>\n",
              "      <td>2000/3/31</td>\n",
              "      <td>3.734375</td>\n",
              "      <td>3.734375</td>\n",
              "      <td>3.390625</td>\n",
              "      <td>3.390625</td>\n",
              "      <td>3.390625</td>\n",
              "      <td>7931600</td>\n",
              "      <td>3.390625</td>\n",
              "    </tr>\n",
              "  </tbody>\n",
              "</table>\n",
              "</div>"
            ],
            "text/plain": [
              "        Date      Open      High  ...  Adj_Close   Volume         y\n",
              "0  2000/3/27  3.812500  4.156250  ...   4.125000  3675600  4.125000\n",
              "1  2000/3/28  4.125000  4.125000  ...   4.015625  1077600  4.015625\n",
              "2  2000/3/29  4.000000  4.031250  ...   4.000000   437200  4.000000\n",
              "3  2000/3/30  4.000000  4.000000  ...   3.843750  1883600  3.843750\n",
              "4  2000/3/31  3.734375  3.734375  ...   3.390625  7931600  3.390625\n",
              "\n",
              "[5 rows x 8 columns]"
            ]
          },
          "metadata": {
            "tags": []
          },
          "execution_count": 14
        }
      ]
    },
    {
      "cell_type": "code",
      "metadata": {
        "id": "PMaFTkL2ve8y",
        "outputId": "a57ec75c-dfbb-4e74-bbc6-82613a8eb2cc",
        "colab": {
          "base_uri": "https://localhost:8080/"
        }
      },
      "source": [
        "df_stock_new.isnull().sum()"
      ],
      "execution_count": null,
      "outputs": [
        {
          "output_type": "execute_result",
          "data": {
            "text/plain": [
              "Date         0\n",
              "Open         0\n",
              "High         0\n",
              "Low          0\n",
              "Close        0\n",
              "Adj_Close    0\n",
              "Volume       0\n",
              "y            0\n",
              "dtype: int64"
            ]
          },
          "metadata": {
            "tags": []
          },
          "execution_count": 15
        }
      ]
    },
    {
      "cell_type": "code",
      "metadata": {
        "id": "QudJrZJj4hi6",
        "outputId": "87cf2408-59d0-4c37-c5a7-8bb5e1500623",
        "colab": {
          "base_uri": "https://localhost:8080/",
          "height": 191
        }
      },
      "source": [
        "# dropping the columns Date and Adj_Close\n",
        "df_stock_new=df_stock_new.drop(['Date', 'Adj_Close'], axis=1)\n",
        "df_stock_new.head()"
      ],
      "execution_count": null,
      "outputs": [
        {
          "output_type": "execute_result",
          "data": {
            "text/html": [
              "<div>\n",
              "<style scoped>\n",
              "    .dataframe tbody tr th:only-of-type {\n",
              "        vertical-align: middle;\n",
              "    }\n",
              "\n",
              "    .dataframe tbody tr th {\n",
              "        vertical-align: top;\n",
              "    }\n",
              "\n",
              "    .dataframe thead th {\n",
              "        text-align: right;\n",
              "    }\n",
              "</style>\n",
              "<table border=\"1\" class=\"dataframe\">\n",
              "  <thead>\n",
              "    <tr style=\"text-align: right;\">\n",
              "      <th></th>\n",
              "      <th>Open</th>\n",
              "      <th>High</th>\n",
              "      <th>Low</th>\n",
              "      <th>Close</th>\n",
              "      <th>Volume</th>\n",
              "      <th>y</th>\n",
              "    </tr>\n",
              "  </thead>\n",
              "  <tbody>\n",
              "    <tr>\n",
              "      <th>0</th>\n",
              "      <td>3.812500</td>\n",
              "      <td>4.156250</td>\n",
              "      <td>3.812500</td>\n",
              "      <td>4.125000</td>\n",
              "      <td>3675600</td>\n",
              "      <td>4.125000</td>\n",
              "    </tr>\n",
              "    <tr>\n",
              "      <th>1</th>\n",
              "      <td>4.125000</td>\n",
              "      <td>4.125000</td>\n",
              "      <td>4.000000</td>\n",
              "      <td>4.015625</td>\n",
              "      <td>1077600</td>\n",
              "      <td>4.015625</td>\n",
              "    </tr>\n",
              "    <tr>\n",
              "      <th>2</th>\n",
              "      <td>4.000000</td>\n",
              "      <td>4.031250</td>\n",
              "      <td>3.953125</td>\n",
              "      <td>4.000000</td>\n",
              "      <td>437200</td>\n",
              "      <td>4.000000</td>\n",
              "    </tr>\n",
              "    <tr>\n",
              "      <th>3</th>\n",
              "      <td>4.000000</td>\n",
              "      <td>4.000000</td>\n",
              "      <td>3.843750</td>\n",
              "      <td>3.843750</td>\n",
              "      <td>1883600</td>\n",
              "      <td>3.843750</td>\n",
              "    </tr>\n",
              "    <tr>\n",
              "      <th>4</th>\n",
              "      <td>3.734375</td>\n",
              "      <td>3.734375</td>\n",
              "      <td>3.390625</td>\n",
              "      <td>3.390625</td>\n",
              "      <td>7931600</td>\n",
              "      <td>3.390625</td>\n",
              "    </tr>\n",
              "  </tbody>\n",
              "</table>\n",
              "</div>"
            ],
            "text/plain": [
              "       Open      High       Low     Close   Volume         y\n",
              "0  3.812500  4.156250  3.812500  4.125000  3675600  4.125000\n",
              "1  4.125000  4.125000  4.000000  4.015625  1077600  4.015625\n",
              "2  4.000000  4.031250  3.953125  4.000000   437200  4.000000\n",
              "3  4.000000  4.000000  3.843750  3.843750  1883600  3.843750\n",
              "4  3.734375  3.734375  3.390625  3.390625  7931600  3.390625"
            ]
          },
          "metadata": {
            "tags": []
          },
          "execution_count": 20
        }
      ]
    },
    {
      "cell_type": "code",
      "metadata": {
        "id": "mX6ER4ddx3wY"
      },
      "source": [
        "# creating a copy of the column, Close\n",
        "df_stock_new['y'] = df_stock_new['Close']"
      ],
      "execution_count": null,
      "outputs": []
    },
    {
      "cell_type": "code",
      "metadata": {
        "id": "CqXQS4KXyAVV",
        "outputId": "892ee040-fc23-4a75-91ad-03f9bfe5cb56",
        "colab": {
          "base_uri": "https://localhost:8080/",
          "height": 191
        }
      },
      "source": [
        "df_stock_new.head()"
      ],
      "execution_count": null,
      "outputs": [
        {
          "output_type": "execute_result",
          "data": {
            "text/html": [
              "<div>\n",
              "<style scoped>\n",
              "    .dataframe tbody tr th:only-of-type {\n",
              "        vertical-align: middle;\n",
              "    }\n",
              "\n",
              "    .dataframe tbody tr th {\n",
              "        vertical-align: top;\n",
              "    }\n",
              "\n",
              "    .dataframe thead th {\n",
              "        text-align: right;\n",
              "    }\n",
              "</style>\n",
              "<table border=\"1\" class=\"dataframe\">\n",
              "  <thead>\n",
              "    <tr style=\"text-align: right;\">\n",
              "      <th></th>\n",
              "      <th>Open</th>\n",
              "      <th>High</th>\n",
              "      <th>Low</th>\n",
              "      <th>Close</th>\n",
              "      <th>Volume</th>\n",
              "      <th>y</th>\n",
              "    </tr>\n",
              "  </thead>\n",
              "  <tbody>\n",
              "    <tr>\n",
              "      <th>0</th>\n",
              "      <td>3.812500</td>\n",
              "      <td>4.156250</td>\n",
              "      <td>3.812500</td>\n",
              "      <td>4.125000</td>\n",
              "      <td>3675600</td>\n",
              "      <td>4.125000</td>\n",
              "    </tr>\n",
              "    <tr>\n",
              "      <th>1</th>\n",
              "      <td>4.125000</td>\n",
              "      <td>4.125000</td>\n",
              "      <td>4.000000</td>\n",
              "      <td>4.015625</td>\n",
              "      <td>1077600</td>\n",
              "      <td>4.015625</td>\n",
              "    </tr>\n",
              "    <tr>\n",
              "      <th>2</th>\n",
              "      <td>4.000000</td>\n",
              "      <td>4.031250</td>\n",
              "      <td>3.953125</td>\n",
              "      <td>4.000000</td>\n",
              "      <td>437200</td>\n",
              "      <td>4.000000</td>\n",
              "    </tr>\n",
              "    <tr>\n",
              "      <th>3</th>\n",
              "      <td>4.000000</td>\n",
              "      <td>4.000000</td>\n",
              "      <td>3.843750</td>\n",
              "      <td>3.843750</td>\n",
              "      <td>1883600</td>\n",
              "      <td>3.843750</td>\n",
              "    </tr>\n",
              "    <tr>\n",
              "      <th>4</th>\n",
              "      <td>3.734375</td>\n",
              "      <td>3.734375</td>\n",
              "      <td>3.390625</td>\n",
              "      <td>3.390625</td>\n",
              "      <td>7931600</td>\n",
              "      <td>3.390625</td>\n",
              "    </tr>\n",
              "  </tbody>\n",
              "</table>\n",
              "</div>"
            ],
            "text/plain": [
              "       Open      High       Low     Close   Volume         y\n",
              "0  3.812500  4.156250  3.812500  4.125000  3675600  4.125000\n",
              "1  4.125000  4.125000  4.000000  4.015625  1077600  4.015625\n",
              "2  4.000000  4.031250  3.953125  4.000000   437200  4.000000\n",
              "3  4.000000  4.000000  3.843750  3.843750  1883600  3.843750\n",
              "4  3.734375  3.734375  3.390625  3.390625  7931600  3.390625"
            ]
          },
          "metadata": {
            "tags": []
          },
          "execution_count": 22
        }
      ]
    },
    {
      "cell_type": "markdown",
      "metadata": {
        "id": "xd_okh7u4qWp"
      },
      "source": [
        "Normalize the columns"
      ]
    },
    {
      "cell_type": "code",
      "metadata": {
        "id": "G8DKFIU04vLG",
        "outputId": "fdbfe270-d51a-4176-e3af-d9e8be8ab92d",
        "colab": {
          "base_uri": "https://localhost:8080/"
        }
      },
      "source": [
        "#Normalizing except  last column y\n",
        "for column in df_stock_new.columns:\n",
        "  if  column != 'y':\n",
        "    encode_numeric_zscore(df_stock_new, column)\n",
        "\n",
        "#print first  5 rows in new csv file to check for normalizing\n",
        "print(df_stock_new.head())"
      ],
      "execution_count": null,
      "outputs": [
        {
          "output_type": "stream",
          "text": [
            "       Open      High       Low     Close    Volume         y\n",
            "0 -0.894209 -0.885022 -0.892306 -0.884364  1.104812  4.125000\n",
            "1 -0.883762 -0.886056 -0.885975 -0.888021 -0.497301  4.015625\n",
            "2 -0.887941 -0.889159 -0.887558 -0.888543 -0.892217  4.000000\n",
            "3 -0.887941 -0.890194 -0.891251 -0.893768 -0.000263  3.843750\n",
            "4 -0.896820 -0.898986 -0.906551 -0.908920  3.729366  3.390625\n"
          ],
          "name": "stdout"
        }
      ]
    },
    {
      "cell_type": "code",
      "metadata": {
        "id": "YJRyZbdO5LaY",
        "outputId": "83f8c9f9-230a-4fc9-e375-8281791fb264",
        "colab": {
          "base_uri": "https://localhost:8080/"
        }
      },
      "source": [
        "# Set all column other than y as input or 'x'\n",
        "x = df_stock_new.iloc[:,df_stock_new.columns != 'y']\n",
        "x = np.array(x, dtype=np.float32)\n",
        "\n",
        "# Set the y column as output or 'y'\n",
        "y = np.array(df_stock_new['y'].values, dtype=np.float32)\n",
        "print(x.shape)\n",
        "print(y.shape)"
      ],
      "execution_count": null,
      "outputs": [
        {
          "output_type": "stream",
          "text": [
            "(4392, 5)\n",
            "(4392,)\n"
          ],
          "name": "stdout"
        }
      ]
    },
    {
      "cell_type": "markdown",
      "metadata": {
        "id": "7veatfSB5WHX"
      },
      "source": [
        "Data Transformation"
      ]
    },
    {
      "cell_type": "code",
      "metadata": {
        "id": "I6w71Bcp5mPo",
        "outputId": "ac51887c-e327-413c-cede-32065eb4606a",
        "colab": {
          "base_uri": "https://localhost:8080/"
        }
      },
      "source": [
        "SEQUENCE_SIZE = 7\n",
        "#x_lstm_seq_test,y_lstm_seq_test = to_sequences(SEQUENCE_SIZE,X_test,y_test)\n",
        "x_lstseq, y_lstseq = to_sequences(SEQUENCE_SIZE, x, y)\n",
        "\n",
        "#print(\"Shape of x_test: {}\".format(x_lstm_seq_test.shape))\n",
        "print(\"Shape of x_lstseq: {}\".format(x_lstseq.shape))\n",
        "#print(\"Shape of y_test: {}\".format(y_lstm_seq_test.shape))\n",
        "print(\"Shape of y_lstseq: {}\".format(y_lstseq.shape))\n",
        "\n",
        "#reshaping the array\n",
        "x_newseq=x_lstseq.reshape(4385,35)"
      ],
      "execution_count": null,
      "outputs": [
        {
          "output_type": "stream",
          "text": [
            "Shape of x_lstseq: (4385, 7, 1, 5)\n",
            "Shape of y_lstseq: (4385,)\n"
          ],
          "name": "stdout"
        }
      ]
    },
    {
      "cell_type": "code",
      "metadata": {
        "id": "KwEtHG1J55yi"
      },
      "source": [
        "\n",
        "x_seq_2d = x_lstseq.reshape(4385,35)"
      ],
      "execution_count": null,
      "outputs": []
    },
    {
      "cell_type": "markdown",
      "metadata": {
        "id": "fGmeTBac6ELY"
      },
      "source": [
        "Split the data into 70 and 30"
      ]
    },
    {
      "cell_type": "code",
      "metadata": {
        "id": "LC_-g1wK6Hp2"
      },
      "source": [
        "from sklearn.model_selection import train_test_split\n",
        "X_train,X_test,Y_train,Y_test = train_test_split(x_seq_2d,y_lstseq,test_size=0.30,random_state=0)"
      ],
      "execution_count": null,
      "outputs": []
    },
    {
      "cell_type": "code",
      "metadata": {
        "id": "biTOvPnG68QX",
        "outputId": "423ad307-7328-4ff5-b994-5340a65d6401",
        "colab": {
          "base_uri": "https://localhost:8080/"
        }
      },
      "source": [
        "\n",
        "X_train.shape"
      ],
      "execution_count": null,
      "outputs": [
        {
          "output_type": "execute_result",
          "data": {
            "text/plain": [
              "(3069, 35)"
            ]
          },
          "metadata": {
            "tags": []
          },
          "execution_count": 32
        }
      ]
    },
    {
      "cell_type": "code",
      "metadata": {
        "id": "1UJGYGeL7Iym",
        "outputId": "4092a058-826a-4738-ebdf-98be1142a7b4",
        "colab": {
          "base_uri": "https://localhost:8080/"
        }
      },
      "source": [
        "\n",
        "X_test.shape"
      ],
      "execution_count": null,
      "outputs": [
        {
          "output_type": "execute_result",
          "data": {
            "text/plain": [
              "(1316, 35)"
            ]
          },
          "metadata": {
            "tags": []
          },
          "execution_count": 33
        }
      ]
    },
    {
      "cell_type": "code",
      "metadata": {
        "id": "NTQyr9Rw7Mnj",
        "outputId": "f3a42c9d-3646-4efa-d6e9-6b679ab14c17",
        "colab": {
          "base_uri": "https://localhost:8080/"
        }
      },
      "source": [
        "\n",
        "Y_train.shape"
      ],
      "execution_count": null,
      "outputs": [
        {
          "output_type": "execute_result",
          "data": {
            "text/plain": [
              "(3069,)"
            ]
          },
          "metadata": {
            "tags": []
          },
          "execution_count": 34
        }
      ]
    },
    {
      "cell_type": "code",
      "metadata": {
        "id": "UhQk3Gko7PlF",
        "outputId": "956baf61-0458-408d-e5e8-fdc49bb5e1f5",
        "colab": {
          "base_uri": "https://localhost:8080/"
        }
      },
      "source": [
        "\n",
        "Y_test.shape"
      ],
      "execution_count": null,
      "outputs": [
        {
          "output_type": "execute_result",
          "data": {
            "text/plain": [
              "(1316,)"
            ]
          },
          "metadata": {
            "tags": []
          },
          "execution_count": 35
        }
      ]
    },
    {
      "cell_type": "code",
      "metadata": {
        "id": "9zk-LmJK7Ynq",
        "outputId": "6b8f9e9e-e305-498e-8de8-31d0cad8d12b",
        "colab": {
          "base_uri": "https://localhost:8080/"
        }
      },
      "source": [
        "type(Y_test)\n",
        "type(X_test)\n",
        "type(X_train)\n",
        "type(Y_train)"
      ],
      "execution_count": null,
      "outputs": [
        {
          "output_type": "execute_result",
          "data": {
            "text/plain": [
              "numpy.ndarray"
            ]
          },
          "metadata": {
            "tags": []
          },
          "execution_count": 36
        }
      ]
    },
    {
      "cell_type": "markdown",
      "metadata": {
        "id": "0BFRLaJL7n80"
      },
      "source": [
        "Applying Neutral networks"
      ]
    },
    {
      "cell_type": "code",
      "metadata": {
        "id": "EP3snCTF7s6v"
      },
      "source": [
        "from sklearn import metrics\n",
        "\n",
        "from tensorflow.keras.models import Sequential\n",
        "from tensorflow.keras.layers import Dense, Activation\n",
        "from tensorflow.keras.callbacks import EarlyStopping\n",
        "from tensorflow.keras.callbacks import ModelCheckpoint\n",
        "from tensorflow.keras import optimizers"
      ],
      "execution_count": null,
      "outputs": []
    },
    {
      "cell_type": "code",
      "metadata": {
        "id": "SQMd7uqJ76k5",
        "outputId": "59f3644b-d16d-4ad3-fd3c-bc067fb0d2b9",
        "colab": {
          "base_uri": "https://localhost:8080/",
          "height": 1000
        }
      },
      "source": [
        "optimizers = ['adam','sgd']\n",
        "activation_functions = ['relu','sigmoid','tanh']\n",
        "\n",
        "for opt in optimizers:\n",
        "    for act in activation_functions:\n",
        "\n",
        "        print(\"\\n\\n\\nModel trained for \\\"{}\\\" optimizer and \\\"{}\\\" activation function : \\n\".format(opt,act))\n",
        "        \n",
        "        model = Sequential()\n",
        "        model.add(Dense(64, input_dim=X_train.shape[1], activation=act))\n",
        "        model.add(Dense(32,activation=act))\n",
        "        model.add(Dense(32,activation=act))\n",
        "        model.add(Dense(1))\n",
        "        model.compile(loss='mean_squared_error', optimizer=opt)\n",
        "\n",
        "        monitor = EarlyStopping(monitor='val_loss', min_delta=1e-3, patience=5, verbose=1, mode='auto')\n",
        "        checkpointer = ModelCheckpoint(filepath=\"best_weights_NN.hdf5\", verbose=0, save_best_only=True)\n",
        "\n",
        "        model.fit(X_train, Y_train,validation_data=(X_test,Y_test),callbacks=[monitor,checkpointer],verbose=2,epochs=200)\n",
        "\n",
        "        model.load_weights('best_weights_NN.hdf5')\n",
        "        \n",
        "        pred = model.predict(X_test)\n",
        "        \n",
        "        \n",
        "        # Measure MSE error.  \n",
        "        mse = metrics.mean_squared_error(pred,Y_test)\n",
        "        print(\"\\n\\nFinal score (MSE): {}\".format(mse))\n",
        "        \n",
        "        # Measure RMSE error.  RMSE is common for regression.\n",
        "        rmse = np.sqrt(metrics.mean_squared_error(pred,Y_test))\n",
        "        print(\"Final score (RMSE): {}\".format(rmse))\n",
        "        \n",
        "        chart_regression(pred.flatten(),Y_test,sort=True)"
      ],
      "execution_count": null,
      "outputs": [
        {
          "output_type": "stream",
          "text": [
            "\n",
            "\n",
            "\n",
            "Model trained for \"adam\" optimizer and \"relu\" activation function : \n",
            "\n",
            "Epoch 1/200\n",
            "96/96 - 0s - loss: 888.9897 - val_loss: 165.8084\n",
            "Epoch 2/200\n",
            "96/96 - 0s - loss: 139.2051 - val_loss: 112.7738\n",
            "Epoch 3/200\n",
            "96/96 - 0s - loss: 81.1216 - val_loss: 51.7107\n",
            "Epoch 4/200\n",
            "96/96 - 0s - loss: 28.5912 - val_loss: 15.0419\n",
            "Epoch 5/200\n",
            "96/96 - 0s - loss: 8.9379 - val_loss: 6.7603\n",
            "Epoch 6/200\n",
            "96/96 - 0s - loss: 3.7840 - val_loss: 4.1754\n",
            "Epoch 7/200\n",
            "96/96 - 0s - loss: 2.3563 - val_loss: 2.7377\n",
            "Epoch 8/200\n",
            "96/96 - 0s - loss: 2.0838 - val_loss: 3.3391\n",
            "Epoch 9/200\n",
            "96/96 - 0s - loss: 1.6336 - val_loss: 2.2378\n",
            "Epoch 10/200\n",
            "96/96 - 0s - loss: 1.3775 - val_loss: 2.4594\n",
            "Epoch 11/200\n",
            "96/96 - 0s - loss: 1.3761 - val_loss: 3.8735\n",
            "Epoch 12/200\n",
            "96/96 - 0s - loss: 1.4605 - val_loss: 1.8221\n",
            "Epoch 13/200\n",
            "96/96 - 0s - loss: 1.1176 - val_loss: 1.7338\n",
            "Epoch 14/200\n",
            "96/96 - 0s - loss: 1.4551 - val_loss: 3.4417\n",
            "Epoch 15/200\n",
            "96/96 - 0s - loss: 1.2263 - val_loss: 1.5196\n",
            "Epoch 16/200\n",
            "96/96 - 0s - loss: 1.2303 - val_loss: 1.4847\n",
            "Epoch 17/200\n",
            "96/96 - 0s - loss: 1.1346 - val_loss: 1.7244\n",
            "Epoch 18/200\n",
            "96/96 - 0s - loss: 1.3828 - val_loss: 1.4851\n",
            "Epoch 19/200\n",
            "96/96 - 0s - loss: 1.0904 - val_loss: 1.5722\n",
            "Epoch 20/200\n",
            "96/96 - 0s - loss: 0.9556 - val_loss: 1.3810\n",
            "Epoch 21/200\n",
            "96/96 - 0s - loss: 0.9543 - val_loss: 1.3323\n",
            "Epoch 22/200\n",
            "96/96 - 0s - loss: 1.1736 - val_loss: 1.3793\n",
            "Epoch 23/200\n",
            "96/96 - 0s - loss: 0.9494 - val_loss: 1.4640\n",
            "Epoch 24/200\n",
            "96/96 - 0s - loss: 0.9240 - val_loss: 1.4805\n",
            "Epoch 25/200\n",
            "96/96 - 0s - loss: 1.1124 - val_loss: 1.4923\n",
            "Epoch 26/200\n",
            "96/96 - 0s - loss: 0.9912 - val_loss: 1.3992\n",
            "Epoch 00026: early stopping\n",
            "\n",
            "\n",
            "Final score (MSE): 1.3322701454162598\n",
            "Final score (RMSE): 1.1542401313781738\n"
          ],
          "name": "stdout"
        },
        {
          "output_type": "display_data",
          "data": {
            "image/png": "[encoded data removed]",
            "text/plain": [
              "<Figure size 432x288 with 1 Axes>"
            ]
          },
          "metadata": {
            "tags": [],
            "needs_background": "light"
          }
        },
        {
          "output_type": "stream",
          "text": [
            "\n",
            "\n",
            "\n",
            "Model trained for \"adam\" optimizer and \"sigmoid\" activation function : \n",
            "\n",
            "Epoch 1/200\n",
            "96/96 - 0s - loss: 1640.8074 - val_loss: 1485.7268\n",
            "Epoch 2/200\n",
            "96/96 - 0s - loss: 1438.4329 - val_loss: 1347.3582\n",
            "Epoch 3/200\n",
            "96/96 - 0s - loss: 1327.6774 - val_loss: 1257.8425\n",
            "Epoch 4/200\n",
            "96/96 - 0s - loss: 1246.4604 - val_loss: 1186.2677\n",
            "Epoch 5/200\n",
            "96/96 - 0s - loss: 1178.6796 - val_loss: 1123.3062\n",
            "Epoch 6/200\n",
            "96/96 - 0s - loss: 1112.1813 - val_loss: 1051.0991\n",
            "Epoch 7/200\n",
            "96/96 - 0s - loss: 1041.5436 - val_loss: 984.7750\n",
            "Epoch 8/200\n",
            "96/96 - 0s - loss: 977.3649 - val_loss: 923.9652\n",
            "Epoch 9/200\n",
            "96/96 - 0s - loss: 917.8549 - val_loss: 867.7321\n",
            "Epoch 10/200\n",
            "96/96 - 0s - loss: 862.7985 - val_loss: 814.6506\n",
            "Epoch 11/200\n",
            "96/96 - 0s - loss: 811.7101 - val_loss: 766.4515\n",
            "Epoch 12/200\n",
            "96/96 - 0s - loss: 764.6422 - val_loss: 721.6643\n",
            "Epoch 13/200\n",
            "96/96 - 0s - loss: 721.3213 - val_loss: 680.3837\n",
            "Epoch 14/200\n",
            "96/96 - 0s - loss: 681.2283 - val_loss: 642.4550\n",
            "Epoch 15/200\n",
            "96/96 - 0s - loss: 644.0010 - val_loss: 606.7797\n",
            "Epoch 16/200\n",
            "96/96 - 0s - loss: 609.2176 - val_loss: 573.9355\n",
            "Epoch 17/200\n",
            "96/96 - 0s - loss: 576.8922 - val_loss: 542.8548\n",
            "Epoch 18/200\n",
            "96/96 - 0s - loss: 546.8812 - val_loss: 514.5712\n",
            "Epoch 19/200\n",
            "96/96 - 0s - loss: 519.1357 - val_loss: 487.8104\n",
            "Epoch 20/200\n",
            "96/96 - 0s - loss: 492.8416 - val_loss: 463.0027\n",
            "Epoch 21/200\n",
            "96/96 - 0s - loss: 467.9281 - val_loss: 439.1481\n",
            "Epoch 22/200\n",
            "96/96 - 0s - loss: 444.3626 - val_loss: 416.3332\n",
            "Epoch 23/200\n",
            "96/96 - 0s - loss: 421.9860 - val_loss: 395.2528\n",
            "Epoch 24/200\n",
            "96/96 - 0s - loss: 400.8667 - val_loss: 375.1900\n",
            "Epoch 25/200\n",
            "96/96 - 0s - loss: 380.9468 - val_loss: 355.3565\n",
            "Epoch 26/200\n",
            "96/96 - 0s - loss: 361.8049 - val_loss: 337.2872\n",
            "Epoch 27/200\n",
            "96/96 - 0s - loss: 343.6608 - val_loss: 319.4786\n",
            "Epoch 28/200\n",
            "96/96 - 0s - loss: 326.2304 - val_loss: 302.3035\n",
            "Epoch 29/200\n",
            "96/96 - 0s - loss: 309.4985 - val_loss: 286.3477\n",
            "Epoch 30/200\n",
            "96/96 - 0s - loss: 293.5442 - val_loss: 270.8139\n",
            "Epoch 31/200\n",
            "96/96 - 0s - loss: 278.2413 - val_loss: 256.0593\n",
            "Epoch 32/200\n",
            "96/96 - 0s - loss: 263.5336 - val_loss: 241.9969\n",
            "Epoch 33/200\n",
            "96/96 - 0s - loss: 249.5290 - val_loss: 228.2264\n",
            "Epoch 34/200\n",
            "96/96 - 0s - loss: 236.1053 - val_loss: 215.2594\n",
            "Epoch 35/200\n",
            "96/96 - 0s - loss: 223.2910 - val_loss: 202.9380\n",
            "Epoch 36/200\n",
            "96/96 - 0s - loss: 210.9724 - val_loss: 191.4290\n",
            "Epoch 37/200\n",
            "96/96 - 0s - loss: 199.3051 - val_loss: 180.1971\n",
            "Epoch 38/200\n",
            "96/96 - 0s - loss: 188.2028 - val_loss: 169.5256\n",
            "Epoch 39/200\n",
            "96/96 - 0s - loss: 177.6102 - val_loss: 159.4727\n",
            "Epoch 40/200\n",
            "96/96 - 0s - loss: 167.5803 - val_loss: 150.1114\n",
            "Epoch 41/200\n",
            "96/96 - 0s - loss: 158.0626 - val_loss: 141.1143\n",
            "Epoch 42/200\n",
            "96/96 - 0s - loss: 149.0476 - val_loss: 132.6917\n",
            "Epoch 43/200\n",
            "96/96 - 0s - loss: 140.4926 - val_loss: 124.7564\n",
            "Epoch 44/200\n",
            "96/96 - 0s - loss: 132.3670 - val_loss: 117.3287\n",
            "Epoch 45/200\n",
            "96/96 - 0s - loss: 124.7209 - val_loss: 110.2345\n",
            "Epoch 46/200\n",
            "96/96 - 0s - loss: 117.4925 - val_loss: 103.6121\n",
            "Epoch 47/200\n",
            "96/96 - 0s - loss: 110.5655 - val_loss: 97.5460\n",
            "Epoch 48/200\n",
            "96/96 - 0s - loss: 103.9763 - val_loss: 91.3612\n",
            "Epoch 49/200\n",
            "96/96 - 0s - loss: 97.7002 - val_loss: 85.6950\n",
            "Epoch 50/200\n",
            "96/96 - 0s - loss: 91.8112 - val_loss: 80.3372\n",
            "Epoch 51/200\n",
            "96/96 - 0s - loss: 86.2121 - val_loss: 75.3080\n",
            "Epoch 52/200\n",
            "96/96 - 0s - loss: 80.9042 - val_loss: 70.5746\n",
            "Epoch 53/200\n",
            "96/96 - 0s - loss: 75.8658 - val_loss: 65.9338\n",
            "Epoch 54/200\n",
            "96/96 - 0s - loss: 71.0256 - val_loss: 61.6946\n",
            "Epoch 55/200\n",
            "96/96 - 0s - loss: 66.5795 - val_loss: 57.7206\n",
            "Epoch 56/200\n",
            "96/96 - 0s - loss: 62.2196 - val_loss: 54.1395\n",
            "Epoch 57/200\n",
            "96/96 - 0s - loss: 58.2463 - val_loss: 50.1891\n",
            "Epoch 58/200\n",
            "96/96 - 0s - loss: 54.3381 - val_loss: 46.7557\n",
            "Epoch 59/200\n",
            "96/96 - 0s - loss: 50.7227 - val_loss: 43.5670\n",
            "Epoch 60/200\n",
            "96/96 - 0s - loss: 47.3516 - val_loss: 40.4608\n",
            "Epoch 61/200\n",
            "96/96 - 0s - loss: 44.0976 - val_loss: 37.7462\n",
            "Epoch 62/200\n",
            "96/96 - 0s - loss: 41.0562 - val_loss: 35.0333\n",
            "Epoch 63/200\n",
            "96/96 - 0s - loss: 38.1956 - val_loss: 32.4906\n",
            "Epoch 64/200\n",
            "96/96 - 0s - loss: 35.5616 - val_loss: 30.2178\n",
            "Epoch 65/200\n",
            "96/96 - 0s - loss: 33.0573 - val_loss: 27.9357\n",
            "Epoch 66/200\n",
            "96/96 - 0s - loss: 30.6275 - val_loss: 25.8666\n",
            "Epoch 67/200\n",
            "96/96 - 0s - loss: 28.4851 - val_loss: 24.0188\n",
            "Epoch 68/200\n",
            "96/96 - 0s - loss: 26.3828 - val_loss: 22.2549\n",
            "Epoch 69/200\n",
            "96/96 - 0s - loss: 24.4193 - val_loss: 20.6076\n",
            "Epoch 70/200\n",
            "96/96 - 0s - loss: 22.7163 - val_loss: 18.9920\n",
            "Epoch 71/200\n",
            "96/96 - 0s - loss: 21.0914 - val_loss: 17.5563\n",
            "Epoch 72/200\n",
            "96/96 - 0s - loss: 19.4626 - val_loss: 16.5739\n",
            "Epoch 73/200\n",
            "96/96 - 0s - loss: 17.9252 - val_loss: 14.9194\n",
            "Epoch 74/200\n",
            "96/96 - 0s - loss: 16.7976 - val_loss: 13.7723\n",
            "Epoch 75/200\n",
            "96/96 - 0s - loss: 15.3147 - val_loss: 12.9655\n",
            "Epoch 76/200\n",
            "96/96 - 0s - loss: 14.2273 - val_loss: 11.6836\n",
            "Epoch 77/200\n",
            "96/96 - 0s - loss: 13.1648 - val_loss: 10.9289\n",
            "Epoch 78/200\n",
            "96/96 - 0s - loss: 11.9777 - val_loss: 10.0909\n",
            "Epoch 79/200\n",
            "96/96 - 0s - loss: 11.1979 - val_loss: 9.1477\n",
            "Epoch 80/200\n",
            "96/96 - 0s - loss: 10.1041 - val_loss: 8.3288\n",
            "Epoch 81/200\n",
            "96/96 - 0s - loss: 9.3062 - val_loss: 7.6404\n",
            "Epoch 82/200\n",
            "96/96 - 0s - loss: 8.7731 - val_loss: 7.0548\n",
            "Epoch 83/200\n",
            "96/96 - 0s - loss: 7.9595 - val_loss: 6.4248\n",
            "Epoch 84/200\n",
            "96/96 - 0s - loss: 7.2682 - val_loss: 6.1059\n",
            "Epoch 85/200\n",
            "96/96 - 0s - loss: 6.7060 - val_loss: 5.4167\n",
            "Epoch 86/200\n",
            "96/96 - 0s - loss: 6.0222 - val_loss: 5.7123\n",
            "Epoch 87/200\n",
            "96/96 - 0s - loss: 5.6698 - val_loss: 4.4911\n",
            "Epoch 88/200\n",
            "96/96 - 0s - loss: 5.0511 - val_loss: 4.2420\n",
            "Epoch 89/200\n",
            "96/96 - 0s - loss: 4.5888 - val_loss: 4.0056\n",
            "Epoch 90/200\n",
            "96/96 - 0s - loss: 4.2856 - val_loss: 3.8715\n",
            "Epoch 91/200\n",
            "96/96 - 0s - loss: 3.9864 - val_loss: 3.5465\n",
            "Epoch 92/200\n",
            "96/96 - 0s - loss: 3.5275 - val_loss: 2.9346\n",
            "Epoch 93/200\n",
            "96/96 - 0s - loss: 3.2396 - val_loss: 2.6754\n",
            "Epoch 94/200\n",
            "96/96 - 0s - loss: 2.9140 - val_loss: 2.4910\n",
            "Epoch 95/200\n",
            "96/96 - 0s - loss: 2.6858 - val_loss: 2.7907\n",
            "Epoch 96/200\n",
            "96/96 - 0s - loss: 2.6030 - val_loss: 2.2075\n",
            "Epoch 97/200\n",
            "96/96 - 0s - loss: 2.4106 - val_loss: 2.0741\n",
            "Epoch 98/200\n",
            "96/96 - 0s - loss: 2.2801 - val_loss: 1.9389\n",
            "Epoch 99/200\n",
            "96/96 - 0s - loss: 1.9472 - val_loss: 1.9376\n",
            "Epoch 100/200\n",
            "96/96 - 0s - loss: 1.9103 - val_loss: 1.8744\n",
            "Epoch 101/200\n",
            "96/96 - 0s - loss: 1.7712 - val_loss: 1.7596\n",
            "Epoch 102/200\n",
            "96/96 - 0s - loss: 1.7482 - val_loss: 1.5821\n",
            "Epoch 103/200\n",
            "96/96 - 0s - loss: 1.5346 - val_loss: 2.0010\n",
            "Epoch 104/200\n",
            "96/96 - 0s - loss: 1.4894 - val_loss: 1.4344\n",
            "Epoch 105/200\n",
            "96/96 - 0s - loss: 1.4042 - val_loss: 1.4516\n",
            "Epoch 106/200\n",
            "96/96 - 0s - loss: 1.2435 - val_loss: 1.3247\n",
            "Epoch 107/200\n",
            "96/96 - 0s - loss: 1.2447 - val_loss: 1.2597\n",
            "Epoch 108/200\n",
            "96/96 - 0s - loss: 1.3060 - val_loss: 1.4378\n",
            "Epoch 109/200\n",
            "96/96 - 0s - loss: 1.1481 - val_loss: 1.2210\n",
            "Epoch 110/200\n",
            "96/96 - 0s - loss: 1.0588 - val_loss: 1.1943\n",
            "Epoch 111/200\n",
            "96/96 - 0s - loss: 1.1804 - val_loss: 1.2602\n",
            "Epoch 112/200\n",
            "96/96 - 0s - loss: 1.0574 - val_loss: 1.5443\n",
            "Epoch 113/200\n",
            "96/96 - 0s - loss: 1.0093 - val_loss: 1.2515\n",
            "Epoch 114/200\n",
            "96/96 - 0s - loss: 1.0667 - val_loss: 1.1143\n",
            "Epoch 115/200\n",
            "96/96 - 0s - loss: 0.9601 - val_loss: 1.2868\n",
            "Epoch 116/200\n",
            "96/96 - 0s - loss: 0.9309 - val_loss: 1.2862\n",
            "Epoch 117/200\n",
            "96/96 - 0s - loss: 0.9171 - val_loss: 1.2178\n",
            "Epoch 118/200\n",
            "96/96 - 0s - loss: 0.9069 - val_loss: 1.1111\n",
            "Epoch 119/200\n",
            "96/96 - 0s - loss: 0.8524 - val_loss: 1.3442\n",
            "Epoch 120/200\n",
            "96/96 - 0s - loss: 0.9234 - val_loss: 1.1239\n",
            "Epoch 121/200\n",
            "96/96 - 0s - loss: 0.9181 - val_loss: 1.2892\n",
            "Epoch 122/200\n",
            "96/96 - 0s - loss: 0.9108 - val_loss: 1.1237\n",
            "Epoch 123/200\n",
            "96/96 - 0s - loss: 0.8637 - val_loss: 1.8571\n",
            "Epoch 00123: early stopping\n",
            "\n",
            "\n",
            "Final score (MSE): 1.1111276149749756\n",
            "Final score (RMSE): 1.0541003942489624\n"
          ],
          "name": "stdout"
        },
        {
          "output_type": "display_data",
          "data": {
            "image/png": "[encoded data removed]",
            "text/plain": [
              "<Figure size 432x288 with 1 Axes>"
            ]
          },
          "metadata": {
            "tags": [],
            "needs_background": "light"
          }
        },
        {
          "output_type": "stream",
          "text": [
            "\n",
            "\n",
            "\n",
            "Model trained for \"adam\" optimizer and \"tanh\" activation function : \n",
            "\n",
            "Epoch 1/200\n",
            "96/96 - 0s - loss: 1583.5714 - val_loss: 1301.7140\n",
            "Epoch 2/200\n",
            "96/96 - 0s - loss: 1205.5797 - val_loss: 1098.9038\n",
            "Epoch 3/200\n",
            "96/96 - 0s - loss: 1065.4764 - val_loss: 985.8232\n",
            "Epoch 4/200\n",
            "96/96 - 0s - loss: 960.5522 - val_loss: 891.2633\n",
            "Epoch 5/200\n",
            "96/96 - 0s - loss: 869.2566 - val_loss: 805.5768\n",
            "Epoch 6/200\n",
            "96/96 - 0s - loss: 789.6962 - val_loss: 731.6063\n",
            "Epoch 7/200\n",
            "96/96 - 0s - loss: 720.0066 - val_loss: 667.7745\n",
            "Epoch 8/200\n",
            "96/96 - 0s - loss: 658.8788 - val_loss: 611.4493\n",
            "Epoch 9/200\n",
            "96/96 - 0s - loss: 605.2319 - val_loss: 561.5588\n",
            "Epoch 10/200\n",
            "96/96 - 0s - loss: 557.7300 - val_loss: 518.1750\n",
            "Epoch 11/200\n",
            "96/96 - 0s - loss: 516.1539 - val_loss: 479.1587\n",
            "Epoch 12/200\n",
            "96/96 - 0s - loss: 479.5635 - val_loss: 446.1842\n",
            "Epoch 13/200\n",
            "96/96 - 0s - loss: 445.8321 - val_loss: 412.2814\n",
            "Epoch 14/200\n",
            "96/96 - 0s - loss: 412.3819 - val_loss: 381.1965\n",
            "Epoch 15/200\n",
            "96/96 - 0s - loss: 382.0890 - val_loss: 352.6872\n",
            "Epoch 16/200\n",
            "96/96 - 0s - loss: 354.2165 - val_loss: 326.2930\n",
            "Epoch 17/200\n",
            "96/96 - 0s - loss: 328.2628 - val_loss: 300.8808\n",
            "Epoch 18/200\n",
            "96/96 - 0s - loss: 303.9616 - val_loss: 277.9116\n",
            "Epoch 19/200\n",
            "96/96 - 0s - loss: 281.5241 - val_loss: 255.9843\n",
            "Epoch 20/200\n",
            "96/96 - 0s - loss: 260.3766 - val_loss: 236.3805\n",
            "Epoch 21/200\n",
            "96/96 - 0s - loss: 240.7182 - val_loss: 217.2049\n",
            "Epoch 22/200\n",
            "96/96 - 0s - loss: 222.3580 - val_loss: 199.6619\n",
            "Epoch 23/200\n",
            "96/96 - 0s - loss: 205.1892 - val_loss: 183.6795\n",
            "Epoch 24/200\n",
            "96/96 - 0s - loss: 189.2610 - val_loss: 168.7766\n",
            "Epoch 25/200\n",
            "96/96 - 0s - loss: 174.5905 - val_loss: 155.1228\n",
            "Epoch 26/200\n",
            "96/96 - 0s - loss: 161.0585 - val_loss: 142.3290\n",
            "Epoch 27/200\n",
            "96/96 - 0s - loss: 148.6406 - val_loss: 130.8680\n",
            "Epoch 28/200\n",
            "96/96 - 0s - loss: 137.1609 - val_loss: 120.9456\n",
            "Epoch 29/200\n",
            "96/96 - 0s - loss: 126.6947 - val_loss: 111.0051\n",
            "Epoch 30/200\n",
            "96/96 - 0s - loss: 116.7597 - val_loss: 101.8173\n",
            "Epoch 31/200\n",
            "96/96 - 0s - loss: 107.5631 - val_loss: 93.8622\n",
            "Epoch 32/200\n",
            "96/96 - 0s - loss: 99.0565 - val_loss: 87.3978\n",
            "Epoch 33/200\n",
            "96/96 - 0s - loss: 91.5073 - val_loss: 78.9916\n",
            "Epoch 34/200\n",
            "96/96 - 0s - loss: 83.7992 - val_loss: 72.5108\n",
            "Epoch 35/200\n",
            "96/96 - 0s - loss: 77.1394 - val_loss: 66.6667\n",
            "Epoch 36/200\n",
            "96/96 - 0s - loss: 71.0197 - val_loss: 61.3073\n",
            "Epoch 37/200\n",
            "96/96 - 0s - loss: 65.0920 - val_loss: 56.0047\n",
            "Epoch 38/200\n",
            "96/96 - 0s - loss: 59.9116 - val_loss: 51.0926\n",
            "Epoch 39/200\n",
            "96/96 - 0s - loss: 55.0209 - val_loss: 46.6192\n",
            "Epoch 40/200\n",
            "96/96 - 0s - loss: 50.4280 - val_loss: 42.6270\n",
            "Epoch 41/200\n",
            "96/96 - 0s - loss: 46.3291 - val_loss: 38.9270\n",
            "Epoch 42/200\n",
            "96/96 - 0s - loss: 41.9752 - val_loss: 35.4903\n",
            "Epoch 43/200\n",
            "96/96 - 0s - loss: 38.3398 - val_loss: 32.5752\n",
            "Epoch 44/200\n",
            "96/96 - 0s - loss: 34.8898 - val_loss: 30.2124\n",
            "Epoch 45/200\n",
            "96/96 - 0s - loss: 31.9988 - val_loss: 26.8537\n",
            "Epoch 46/200\n",
            "96/96 - 0s - loss: 29.0726 - val_loss: 24.5017\n",
            "Epoch 47/200\n",
            "96/96 - 0s - loss: 26.5117 - val_loss: 23.0057\n",
            "Epoch 48/200\n",
            "96/96 - 0s - loss: 24.5293 - val_loss: 20.2913\n",
            "Epoch 49/200\n",
            "96/96 - 0s - loss: 22.0464 - val_loss: 18.4729\n",
            "Epoch 50/200\n",
            "96/96 - 0s - loss: 20.1257 - val_loss: 17.0421\n",
            "Epoch 51/200\n",
            "96/96 - 0s - loss: 18.5579 - val_loss: 15.2674\n",
            "Epoch 52/200\n",
            "96/96 - 0s - loss: 17.0945 - val_loss: 14.5982\n",
            "Epoch 53/200\n",
            "96/96 - 0s - loss: 16.3462 - val_loss: 12.7198\n",
            "Epoch 54/200\n",
            "96/96 - 0s - loss: 13.9666 - val_loss: 11.4414\n",
            "Epoch 55/200\n",
            "96/96 - 0s - loss: 12.7428 - val_loss: 12.1306\n",
            "Epoch 56/200\n",
            "96/96 - 0s - loss: 11.5369 - val_loss: 9.5244\n",
            "Epoch 57/200\n",
            "96/96 - 0s - loss: 10.3550 - val_loss: 8.6328\n",
            "Epoch 58/200\n",
            "96/96 - 0s - loss: 9.3653 - val_loss: 7.8190\n",
            "Epoch 59/200\n",
            "96/96 - 0s - loss: 8.4626 - val_loss: 7.2698\n",
            "Epoch 60/200\n",
            "96/96 - 0s - loss: 7.6404 - val_loss: 6.3809\n",
            "Epoch 61/200\n",
            "96/96 - 0s - loss: 6.9067 - val_loss: 5.6175\n",
            "Epoch 62/200\n",
            "96/96 - 0s - loss: 6.3706 - val_loss: 5.2200\n",
            "Epoch 63/200\n",
            "96/96 - 0s - loss: 5.6756 - val_loss: 6.0002\n",
            "Epoch 64/200\n",
            "96/96 - 0s - loss: 5.3598 - val_loss: 7.1079\n",
            "Epoch 65/200\n",
            "96/96 - 0s - loss: 4.8862 - val_loss: 4.3583\n",
            "Epoch 66/200\n",
            "96/96 - 0s - loss: 4.3792 - val_loss: 5.5214\n",
            "Epoch 67/200\n",
            "96/96 - 0s - loss: 4.2031 - val_loss: 3.7141\n",
            "Epoch 68/200\n",
            "96/96 - 0s - loss: 3.5271 - val_loss: 3.1108\n",
            "Epoch 69/200\n",
            "96/96 - 0s - loss: 3.0236 - val_loss: 2.5722\n",
            "Epoch 70/200\n",
            "96/96 - 0s - loss: 2.8169 - val_loss: 2.9545\n",
            "Epoch 71/200\n",
            "96/96 - 0s - loss: 2.5934 - val_loss: 2.4354\n",
            "Epoch 72/200\n",
            "96/96 - 0s - loss: 2.3995 - val_loss: 2.3691\n",
            "Epoch 73/200\n",
            "96/96 - 0s - loss: 2.4284 - val_loss: 2.4801\n",
            "Epoch 74/200\n",
            "96/96 - 0s - loss: 2.1123 - val_loss: 2.1305\n",
            "Epoch 75/200\n",
            "96/96 - 0s - loss: 1.8897 - val_loss: 1.8200\n",
            "Epoch 76/200\n",
            "96/96 - 0s - loss: 1.8761 - val_loss: 2.1345\n",
            "Epoch 77/200\n",
            "96/96 - 0s - loss: 1.7316 - val_loss: 1.6241\n",
            "Epoch 78/200\n",
            "96/96 - 0s - loss: 1.5508 - val_loss: 2.8171\n",
            "Epoch 79/200\n",
            "96/96 - 0s - loss: 1.6112 - val_loss: 1.5583\n",
            "Epoch 80/200\n",
            "96/96 - 0s - loss: 1.3808 - val_loss: 1.6031\n",
            "Epoch 81/200\n",
            "96/96 - 0s - loss: 1.4826 - val_loss: 1.7528\n",
            "Epoch 82/200\n",
            "96/96 - 0s - loss: 1.2412 - val_loss: 1.6335\n",
            "Epoch 83/200\n",
            "96/96 - 0s - loss: 1.1122 - val_loss: 1.8084\n",
            "Epoch 84/200\n",
            "96/96 - 0s - loss: 1.3356 - val_loss: 1.5283\n",
            "Epoch 85/200\n",
            "96/96 - 0s - loss: 1.2720 - val_loss: 1.8119\n",
            "Epoch 86/200\n",
            "96/96 - 0s - loss: 1.1060 - val_loss: 1.3904\n",
            "Epoch 87/200\n",
            "96/96 - 0s - loss: 0.9632 - val_loss: 1.3647\n",
            "Epoch 88/200\n",
            "96/96 - 0s - loss: 1.3572 - val_loss: 1.4065\n",
            "Epoch 89/200\n",
            "96/96 - 0s - loss: 1.1075 - val_loss: 1.7454\n",
            "Epoch 90/200\n",
            "96/96 - 0s - loss: 1.0772 - val_loss: 1.3981\n",
            "Epoch 91/200\n",
            "96/96 - 0s - loss: 0.9632 - val_loss: 2.0574\n",
            "Epoch 92/200\n",
            "96/96 - 0s - loss: 1.2700 - val_loss: 2.3345\n",
            "Epoch 00092: early stopping\n",
            "\n",
            "\n",
            "Final score (MSE): 1.3646965026855469\n",
            "Final score (RMSE): 1.16820228099823\n"
          ],
          "name": "stdout"
        },
        {
          "output_type": "display_data",
          "data": {
            "image/png": "[encoded data removed]",
            "text/plain": [
              "<Figure size 432x288 with 1 Axes>"
            ]
          },
          "metadata": {
            "tags": [],
            "needs_background": "light"
          }
        },
        {
          "output_type": "stream",
          "text": [
            "\n",
            "\n",
            "\n",
            "Model trained for \"sgd\" optimizer and \"relu\" activation function : \n",
            "\n",
            "Epoch 1/200\n",
            "96/96 - 0s - loss: nan - val_loss: nan\n",
            "Epoch 2/200\n",
            "96/96 - 0s - loss: nan - val_loss: nan\n",
            "Epoch 3/200\n",
            "96/96 - 0s - loss: nan - val_loss: nan\n",
            "Epoch 4/200\n",
            "96/96 - 0s - loss: nan - val_loss: nan\n",
            "Epoch 5/200\n",
            "96/96 - 0s - loss: nan - val_loss: nan\n",
            "Epoch 00005: early stopping\n",
            "\n",
            "\n",
            "Final score (MSE): 21360.341796875\n",
            "Final score (RMSE): 146.1517791748047\n"
          ],
          "name": "stdout"
        },
        {
          "output_type": "display_data",
          "data": {
            "image/png": "[encoded data removed]",
            "text/plain": [
              "<Figure size 432x288 with 1 Axes>"
            ]
          },
          "metadata": {
            "tags": [],
            "needs_background": "light"
          }
        },
        {
          "output_type": "stream",
          "text": [
            "\n",
            "\n",
            "\n",
            "Model trained for \"sgd\" optimizer and \"sigmoid\" activation function : \n",
            "\n",
            "Epoch 1/200\n",
            "96/96 - 0s - loss: 268.2057 - val_loss: 50.2250\n",
            "Epoch 2/200\n",
            "96/96 - 0s - loss: 93.8504 - val_loss: 96.9063\n",
            "Epoch 3/200\n",
            "96/96 - 0s - loss: 83.7068 - val_loss: 50.9744\n",
            "Epoch 4/200\n",
            "96/96 - 0s - loss: 64.8906 - val_loss: 44.3444\n",
            "Epoch 5/200\n",
            "96/96 - 0s - loss: 55.1255 - val_loss: 38.1976\n",
            "Epoch 6/200\n",
            "96/96 - 0s - loss: 63.4300 - val_loss: 18.6000\n",
            "Epoch 7/200\n",
            "96/96 - 0s - loss: 72.7898 - val_loss: 61.4724\n",
            "Epoch 8/200\n",
            "96/96 - 0s - loss: 65.9526 - val_loss: 79.6957\n",
            "Epoch 9/200\n",
            "96/96 - 0s - loss: 55.2972 - val_loss: 51.3587\n",
            "Epoch 10/200\n",
            "96/96 - 0s - loss: 44.0219 - val_loss: 15.6895\n",
            "Epoch 11/200\n",
            "96/96 - 0s - loss: 36.3966 - val_loss: 49.1924\n",
            "Epoch 12/200\n",
            "96/96 - 0s - loss: 33.8584 - val_loss: 46.8418\n",
            "Epoch 13/200\n",
            "96/96 - 0s - loss: 17.9832 - val_loss: 11.1126\n",
            "Epoch 14/200\n",
            "96/96 - 0s - loss: 13.1400 - val_loss: 7.7902\n",
            "Epoch 15/200\n",
            "96/96 - 0s - loss: 7.5818 - val_loss: 4.5340\n",
            "Epoch 16/200\n",
            "96/96 - 0s - loss: 7.3586 - val_loss: 3.6957\n",
            "Epoch 17/200\n",
            "96/96 - 0s - loss: 6.4908 - val_loss: 8.2586\n",
            "Epoch 18/200\n",
            "96/96 - 0s - loss: 7.9881 - val_loss: 2.5801\n",
            "Epoch 19/200\n",
            "96/96 - 0s - loss: 7.5291 - val_loss: 2.3433\n",
            "Epoch 20/200\n",
            "96/96 - 0s - loss: 7.0482 - val_loss: 4.5652\n",
            "Epoch 21/200\n",
            "96/96 - 0s - loss: 8.2625 - val_loss: 4.4676\n",
            "Epoch 22/200\n",
            "96/96 - 0s - loss: 3.3746 - val_loss: 4.4740\n",
            "Epoch 23/200\n",
            "96/96 - 0s - loss: 5.7909 - val_loss: 2.6256\n",
            "Epoch 24/200\n",
            "96/96 - 0s - loss: 4.7503 - val_loss: 2.6388\n",
            "Epoch 00024: early stopping\n",
            "\n",
            "\n",
            "Final score (MSE): 2.3433451652526855\n",
            "Final score (RMSE): 1.5307989120483398\n"
          ],
          "name": "stdout"
        },
        {
          "output_type": "display_data",
          "data": {
            "image/png": "[encoded data removed]",
            "text/plain": [
              "<Figure size 432x288 with 1 Axes>"
            ]
          },
          "metadata": {
            "tags": [],
            "needs_background": "light"
          }
        },
        {
          "output_type": "stream",
          "text": [
            "\n",
            "\n",
            "\n",
            "Model trained for \"sgd\" optimizer and \"tanh\" activation function : \n",
            "\n",
            "Epoch 1/200\n",
            "96/96 - 0s - loss: 615.3344 - val_loss: 292.4713\n",
            "Epoch 2/200\n",
            "96/96 - 0s - loss: 247.6826 - val_loss: 213.6115\n",
            "Epoch 3/200\n",
            "96/96 - 0s - loss: 167.7759 - val_loss: 91.0204\n",
            "Epoch 4/200\n",
            "96/96 - 0s - loss: 168.3149 - val_loss: 233.2161\n",
            "Epoch 5/200\n",
            "96/96 - 0s - loss: 148.5519 - val_loss: 70.1235\n",
            "Epoch 6/200\n",
            "96/96 - 0s - loss: 187.6027 - val_loss: 167.6600\n",
            "Epoch 7/200\n",
            "96/96 - 0s - loss: 203.0999 - val_loss: 170.5771\n",
            "Epoch 8/200\n",
            "96/96 - 0s - loss: 147.7797 - val_loss: 83.4527\n",
            "Epoch 9/200\n",
            "96/96 - 0s - loss: 276.1729 - val_loss: 118.6356\n",
            "Epoch 10/200\n",
            "96/96 - 0s - loss: 255.1095 - val_loss: 179.7388\n",
            "Epoch 00010: early stopping\n",
            "\n",
            "\n",
            "Final score (MSE): 70.12350463867188\n",
            "Final score (RMSE): 8.373977661132812\n"
          ],
          "name": "stdout"
        },
        {
          "output_type": "display_data",
          "data": {
            "image/png": "[encoded data removed]",
            "text/plain": [
              "<Figure size 432x288 with 1 Axes>"
            ]
          },
          "metadata": {
            "tags": [],
            "needs_background": "light"
          }
        }
      ]
    }
  ]
}