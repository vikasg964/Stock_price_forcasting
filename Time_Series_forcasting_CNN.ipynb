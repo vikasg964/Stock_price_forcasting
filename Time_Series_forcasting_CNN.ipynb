{
  "nbformat": 4,
  "nbformat_minor": 0,
  "metadata": {
    "colab": {
      "name": "Time_Series_forcasting_CNN.ipynb",
      "provenance": [],
      "mount_file_id": "1R_5Qqi4Y0AVv1IC6PNv-ldsIlT6HKQ6m",
      "authorship_tag": "ABX9TyO+IJ2nC3lqxGGcBysNRPpN",
      "include_colab_link": true
    },
    "kernelspec": {
      "name": "python3",
      "display_name": "Python 3"
    }
  },
  "cells": [
    {
      "cell_type": "markdown",
      "metadata": {
        "id": "view-in-github",
        "colab_type": "text"
      },
      "source": [
        "<a href=\"https://colab.research.google.com/github/vikasg964/Stock_price_forcasting/blob/main/Time_Series_forcasting_CNN.ipynb\" target=\"_parent\"><img src=\"https://colab.research.google.com/assets/colab-badge.svg\" alt=\"Open In Colab\"/></a>"
      ]
    },
    {
      "cell_type": "code",
      "metadata": {
        "id": "AjF1R0d-J88e"
      },
      "source": [
        "import pandas as pd\n",
        "import numpy as np\n",
        "import matplotlib.pyplot as plt\n",
        "import scipy.stats as st\n",
        "\n",
        "%matplotlib inline\n",
        "\n",
        "from collections.abc import Sequence\n",
        "from sklearn import preprocessing\n",
        "import matplotlib.pyplot as plt\n",
        "import io\n",
        "import requests\n",
        "import shutil\n",
        "import os\n",
        "\n",
        "from sklearn.model_selection import train_test_split\n",
        "from tensorflow.keras.models import Sequential\n",
        "from tensorflow.keras.layers import Dense, Activation\n",
        "from tensorflow.keras.callbacks import EarlyStopping\n",
        "from tensorflow.keras.callbacks import ModelCheckpoint\n",
        "from tensorflow.keras import optimizers\n",
        "from sklearn import metrics"
      ],
      "execution_count": null,
      "outputs": []
    },
    {
      "cell_type": "markdown",
      "metadata": {
        "id": "iSBcq37RKDF5"
      },
      "source": [
        "Helper functions"
      ]
    },
    {
      "cell_type": "code",
      "metadata": {
        "id": "FjGRR9SFKFGL"
      },
      "source": [
        "# Encode text values to dummy variables(i.e. [1,0,0],[0,1,0],[0,0,1] for red,green,blue)\n",
        "def encode_text_dummy(df, name):\n",
        "    dummies = pd.get_dummies(df[name])\n",
        "    for x in dummies.columns:\n",
        "        dummy_name = \"{}-{}\".format(name, x)\n",
        "        df[dummy_name] = dummies[x]\n",
        "    df.drop(name, axis=1, inplace=True)\n",
        "\n",
        "\n",
        "# Encode text values to indexes(i.e. [1],[2],[3] for red,green,blue).\n",
        "def encode_text_index(df, name):\n",
        "    le = preprocessing.LabelEncoder()\n",
        "    df[name] = le.fit_transform(df[name])\n",
        "    return le.classes_\n",
        "\n",
        "\n",
        "# Encode a numeric column as zscores\n",
        "def encode_numeric_zscore(df, name, mean=None, sd=None):\n",
        "    if mean is None:\n",
        "        mean = df[name].mean()\n",
        "\n",
        "    if sd is None:\n",
        "        sd = df[name].std()\n",
        "\n",
        "    df[name] = (df[name] - mean) / sd\n",
        "\n",
        "\n",
        "# Convert all missing values in the specified column to the median\n",
        "def missing_median(df, name):\n",
        "    med = df[name].median()\n",
        "    df[name] = df[name].fillna(med)\n",
        "\n",
        "\n",
        "# Convert all missing values in the specified column to the default\n",
        "def missing_default(df, name, default_value):\n",
        "    df[name] = df[name].fillna(default_value)\n",
        "    \n",
        "# Nicely formatted time string\n",
        "def hms_string(sec_elapsed):\n",
        "    h = int(sec_elapsed / (60 * 60))\n",
        "    m = int((sec_elapsed % (60 * 60)) / 60)\n",
        "    s = sec_elapsed % 60\n",
        "    return \"{}:{:>02}:{:>05.2f}\".format(h, m, s)\n",
        "\n",
        "    # Regression chart.\n",
        "def chart_regression(pred,y,sort=True):\n",
        "    t = pd.DataFrame({'pred' : pred, 'y' : y.flatten()})\n",
        "    if sort:\n",
        "        t.sort_values(by=['y'],inplace=True)\n",
        "    a = plt.plot(t['y'].tolist(),label='expected')\n",
        "    b = plt.plot(t['pred'].tolist(),label='prediction')\n",
        "    plt.ylabel('output')\n",
        "    plt.legend()\n",
        "    plt.show()\n",
        "\n",
        "# Remove all rows where the specified column is +/- sd standard deviations\n",
        "def remove_outliers(df, name, sd):\n",
        "    drop_rows = df.index[(np.abs(df[name] - df[name].mean()) >= (sd * df[name].std()))]\n",
        "    df.drop(drop_rows, axis=0, inplace=True)\n",
        "\n",
        "\n",
        "# Encode a column to a range between normalized_low and normalized_high.\n",
        "def encode_numeric_range(df, name, normalized_low=-1, normalized_high=1,\n",
        "                         data_low=None, data_high=None):\n",
        "    if data_low is None:\n",
        "        data_low = min(df[name])\n",
        "        data_high = max(df[name])\n",
        "\n",
        "    df[name] = ((df[name] - data_low) / (data_high - data_low)) \\\n",
        "               * (normalized_high - normalized_low) + normalized_low\n"
      ],
      "execution_count": null,
      "outputs": []
    },
    {
      "cell_type": "code",
      "metadata": {
        "id": "Y2pkArdELG3n"
      },
      "source": [
        "df_stock = pd.read_csv('/content/sample_data/CSC215_P2_Stock_Price.csv')"
      ],
      "execution_count": null,
      "outputs": []
    },
    {
      "cell_type": "code",
      "metadata": {
        "id": "Z-TG0ab3LXw_",
        "outputId": "58269a34-775a-4bf6-91f0-f4ac18298614",
        "colab": {
          "base_uri": "https://localhost:8080/",
          "height": 33
        }
      },
      "source": [
        "\n",
        "df_stock.shape"
      ],
      "execution_count": null,
      "outputs": [
        {
          "output_type": "execute_result",
          "data": {
            "text/plain": [
              "(4392, 7)"
            ]
          },
          "metadata": {
            "tags": []
          },
          "execution_count": 79
        }
      ]
    },
    {
      "cell_type": "code",
      "metadata": {
        "id": "xoZqANllLZRE",
        "outputId": "939f70ab-b496-4202-8a32-9e7ca78f3f28",
        "colab": {
          "base_uri": "https://localhost:8080/",
          "height": 191
        }
      },
      "source": [
        "df_stock.head()"
      ],
      "execution_count": null,
      "outputs": [
        {
          "output_type": "execute_result",
          "data": {
            "text/html": [
              "<div>\n",
              "<style scoped>\n",
              "    .dataframe tbody tr th:only-of-type {\n",
              "        vertical-align: middle;\n",
              "    }\n",
              "\n",
              "    .dataframe tbody tr th {\n",
              "        vertical-align: top;\n",
              "    }\n",
              "\n",
              "    .dataframe thead th {\n",
              "        text-align: right;\n",
              "    }\n",
              "</style>\n",
              "<table border=\"1\" class=\"dataframe\">\n",
              "  <thead>\n",
              "    <tr style=\"text-align: right;\">\n",
              "      <th></th>\n",
              "      <th>Date</th>\n",
              "      <th>Open</th>\n",
              "      <th>High</th>\n",
              "      <th>Low</th>\n",
              "      <th>Close</th>\n",
              "      <th>Adj_Close</th>\n",
              "      <th>Volume</th>\n",
              "    </tr>\n",
              "  </thead>\n",
              "  <tbody>\n",
              "    <tr>\n",
              "      <th>0</th>\n",
              "      <td>2000/3/27</td>\n",
              "      <td>3.812500</td>\n",
              "      <td>4.156250</td>\n",
              "      <td>3.812500</td>\n",
              "      <td>4.125000</td>\n",
              "      <td>4.125000</td>\n",
              "      <td>3675600</td>\n",
              "    </tr>\n",
              "    <tr>\n",
              "      <th>1</th>\n",
              "      <td>2000/3/28</td>\n",
              "      <td>4.125000</td>\n",
              "      <td>4.125000</td>\n",
              "      <td>4.000000</td>\n",
              "      <td>4.015625</td>\n",
              "      <td>4.015625</td>\n",
              "      <td>1077600</td>\n",
              "    </tr>\n",
              "    <tr>\n",
              "      <th>2</th>\n",
              "      <td>2000/3/29</td>\n",
              "      <td>4.000000</td>\n",
              "      <td>4.031250</td>\n",
              "      <td>3.953125</td>\n",
              "      <td>4.000000</td>\n",
              "      <td>4.000000</td>\n",
              "      <td>437200</td>\n",
              "    </tr>\n",
              "    <tr>\n",
              "      <th>3</th>\n",
              "      <td>2000/3/30</td>\n",
              "      <td>4.000000</td>\n",
              "      <td>4.000000</td>\n",
              "      <td>3.843750</td>\n",
              "      <td>3.843750</td>\n",
              "      <td>3.843750</td>\n",
              "      <td>1883600</td>\n",
              "    </tr>\n",
              "    <tr>\n",
              "      <th>4</th>\n",
              "      <td>2000/3/31</td>\n",
              "      <td>3.734375</td>\n",
              "      <td>3.734375</td>\n",
              "      <td>3.390625</td>\n",
              "      <td>3.390625</td>\n",
              "      <td>3.390625</td>\n",
              "      <td>7931600</td>\n",
              "    </tr>\n",
              "  </tbody>\n",
              "</table>\n",
              "</div>"
            ],
            "text/plain": [
              "        Date      Open      High       Low     Close  Adj_Close   Volume\n",
              "0  2000/3/27  3.812500  4.156250  3.812500  4.125000   4.125000  3675600\n",
              "1  2000/3/28  4.125000  4.125000  4.000000  4.015625   4.015625  1077600\n",
              "2  2000/3/29  4.000000  4.031250  3.953125  4.000000   4.000000   437200\n",
              "3  2000/3/30  4.000000  4.000000  3.843750  3.843750   3.843750  1883600\n",
              "4  2000/3/31  3.734375  3.734375  3.390625  3.390625   3.390625  7931600"
            ]
          },
          "metadata": {
            "tags": []
          },
          "execution_count": 80
        }
      ]
    },
    {
      "cell_type": "markdown",
      "metadata": {
        "id": "OoN5OzFALoQJ"
      },
      "source": [
        "Dropping missing values"
      ]
    },
    {
      "cell_type": "code",
      "metadata": {
        "id": "J3NchGNaMJ9I",
        "outputId": "ea1e42bd-ffa2-4b7e-cc30-f0ae55c622a2",
        "colab": {
          "base_uri": "https://localhost:8080/",
          "height": 191
        }
      },
      "source": [
        "\n",
        "# storing the original dataset in a different dataframe before dropping the columns \n",
        "df_stock_new = df_stock\n",
        "df_stock_new.head()"
      ],
      "execution_count": null,
      "outputs": [
        {
          "output_type": "execute_result",
          "data": {
            "text/html": [
              "<div>\n",
              "<style scoped>\n",
              "    .dataframe tbody tr th:only-of-type {\n",
              "        vertical-align: middle;\n",
              "    }\n",
              "\n",
              "    .dataframe tbody tr th {\n",
              "        vertical-align: top;\n",
              "    }\n",
              "\n",
              "    .dataframe thead th {\n",
              "        text-align: right;\n",
              "    }\n",
              "</style>\n",
              "<table border=\"1\" class=\"dataframe\">\n",
              "  <thead>\n",
              "    <tr style=\"text-align: right;\">\n",
              "      <th></th>\n",
              "      <th>Date</th>\n",
              "      <th>Open</th>\n",
              "      <th>High</th>\n",
              "      <th>Low</th>\n",
              "      <th>Close</th>\n",
              "      <th>Adj_Close</th>\n",
              "      <th>Volume</th>\n",
              "    </tr>\n",
              "  </thead>\n",
              "  <tbody>\n",
              "    <tr>\n",
              "      <th>0</th>\n",
              "      <td>2000/3/27</td>\n",
              "      <td>3.812500</td>\n",
              "      <td>4.156250</td>\n",
              "      <td>3.812500</td>\n",
              "      <td>4.125000</td>\n",
              "      <td>4.125000</td>\n",
              "      <td>3675600</td>\n",
              "    </tr>\n",
              "    <tr>\n",
              "      <th>1</th>\n",
              "      <td>2000/3/28</td>\n",
              "      <td>4.125000</td>\n",
              "      <td>4.125000</td>\n",
              "      <td>4.000000</td>\n",
              "      <td>4.015625</td>\n",
              "      <td>4.015625</td>\n",
              "      <td>1077600</td>\n",
              "    </tr>\n",
              "    <tr>\n",
              "      <th>2</th>\n",
              "      <td>2000/3/29</td>\n",
              "      <td>4.000000</td>\n",
              "      <td>4.031250</td>\n",
              "      <td>3.953125</td>\n",
              "      <td>4.000000</td>\n",
              "      <td>4.000000</td>\n",
              "      <td>437200</td>\n",
              "    </tr>\n",
              "    <tr>\n",
              "      <th>3</th>\n",
              "      <td>2000/3/30</td>\n",
              "      <td>4.000000</td>\n",
              "      <td>4.000000</td>\n",
              "      <td>3.843750</td>\n",
              "      <td>3.843750</td>\n",
              "      <td>3.843750</td>\n",
              "      <td>1883600</td>\n",
              "    </tr>\n",
              "    <tr>\n",
              "      <th>4</th>\n",
              "      <td>2000/3/31</td>\n",
              "      <td>3.734375</td>\n",
              "      <td>3.734375</td>\n",
              "      <td>3.390625</td>\n",
              "      <td>3.390625</td>\n",
              "      <td>3.390625</td>\n",
              "      <td>7931600</td>\n",
              "    </tr>\n",
              "  </tbody>\n",
              "</table>\n",
              "</div>"
            ],
            "text/plain": [
              "        Date      Open      High       Low     Close  Adj_Close   Volume\n",
              "0  2000/3/27  3.812500  4.156250  3.812500  4.125000   4.125000  3675600\n",
              "1  2000/3/28  4.125000  4.125000  4.000000  4.015625   4.015625  1077600\n",
              "2  2000/3/29  4.000000  4.031250  3.953125  4.000000   4.000000   437200\n",
              "3  2000/3/30  4.000000  4.000000  3.843750  3.843750   3.843750  1883600\n",
              "4  2000/3/31  3.734375  3.734375  3.390625  3.390625   3.390625  7931600"
            ]
          },
          "metadata": {
            "tags": []
          },
          "execution_count": 81
        }
      ]
    },
    {
      "cell_type": "code",
      "metadata": {
        "id": "W62Ks_8mMSE0",
        "outputId": "6060c967-69f7-4abe-bca2-a981b32cce8d",
        "colab": {
          "base_uri": "https://localhost:8080/",
          "height": 191
        }
      },
      "source": [
        "# dropping the columns Date and Adj_Close\n",
        "df_stock_new=df_stock_new.drop(['Date', 'Adj_Close'], axis=1)\n",
        "df_stock_new.head()\n",
        "#df_stock_new.['y'] = df_stock_new.['Close']"
      ],
      "execution_count": null,
      "outputs": [
        {
          "output_type": "execute_result",
          "data": {
            "text/html": [
              "<div>\n",
              "<style scoped>\n",
              "    .dataframe tbody tr th:only-of-type {\n",
              "        vertical-align: middle;\n",
              "    }\n",
              "\n",
              "    .dataframe tbody tr th {\n",
              "        vertical-align: top;\n",
              "    }\n",
              "\n",
              "    .dataframe thead th {\n",
              "        text-align: right;\n",
              "    }\n",
              "</style>\n",
              "<table border=\"1\" class=\"dataframe\">\n",
              "  <thead>\n",
              "    <tr style=\"text-align: right;\">\n",
              "      <th></th>\n",
              "      <th>Open</th>\n",
              "      <th>High</th>\n",
              "      <th>Low</th>\n",
              "      <th>Close</th>\n",
              "      <th>Volume</th>\n",
              "    </tr>\n",
              "  </thead>\n",
              "  <tbody>\n",
              "    <tr>\n",
              "      <th>0</th>\n",
              "      <td>3.812500</td>\n",
              "      <td>4.156250</td>\n",
              "      <td>3.812500</td>\n",
              "      <td>4.125000</td>\n",
              "      <td>3675600</td>\n",
              "    </tr>\n",
              "    <tr>\n",
              "      <th>1</th>\n",
              "      <td>4.125000</td>\n",
              "      <td>4.125000</td>\n",
              "      <td>4.000000</td>\n",
              "      <td>4.015625</td>\n",
              "      <td>1077600</td>\n",
              "    </tr>\n",
              "    <tr>\n",
              "      <th>2</th>\n",
              "      <td>4.000000</td>\n",
              "      <td>4.031250</td>\n",
              "      <td>3.953125</td>\n",
              "      <td>4.000000</td>\n",
              "      <td>437200</td>\n",
              "    </tr>\n",
              "    <tr>\n",
              "      <th>3</th>\n",
              "      <td>4.000000</td>\n",
              "      <td>4.000000</td>\n",
              "      <td>3.843750</td>\n",
              "      <td>3.843750</td>\n",
              "      <td>1883600</td>\n",
              "    </tr>\n",
              "    <tr>\n",
              "      <th>4</th>\n",
              "      <td>3.734375</td>\n",
              "      <td>3.734375</td>\n",
              "      <td>3.390625</td>\n",
              "      <td>3.390625</td>\n",
              "      <td>7931600</td>\n",
              "    </tr>\n",
              "  </tbody>\n",
              "</table>\n",
              "</div>"
            ],
            "text/plain": [
              "       Open      High       Low     Close   Volume\n",
              "0  3.812500  4.156250  3.812500  4.125000  3675600\n",
              "1  4.125000  4.125000  4.000000  4.015625  1077600\n",
              "2  4.000000  4.031250  3.953125  4.000000   437200\n",
              "3  4.000000  4.000000  3.843750  3.843750  1883600\n",
              "4  3.734375  3.734375  3.390625  3.390625  7931600"
            ]
          },
          "metadata": {
            "tags": []
          },
          "execution_count": 82
        }
      ]
    },
    {
      "cell_type": "code",
      "metadata": {
        "id": "NvJ3JQfmMW8a",
        "outputId": "3a169d9f-8780-4d19-ee26-74314a8da7ae",
        "colab": {
          "base_uri": "https://localhost:8080/",
          "height": 33
        }
      },
      "source": [
        "df_stock_new.shape"
      ],
      "execution_count": null,
      "outputs": [
        {
          "output_type": "execute_result",
          "data": {
            "text/plain": [
              "(4392, 5)"
            ]
          },
          "metadata": {
            "tags": []
          },
          "execution_count": 83
        }
      ]
    },
    {
      "cell_type": "code",
      "metadata": {
        "id": "TmjMzY9jMYIA",
        "outputId": "2900380e-88dc-4f32-f68a-67b1760affa6",
        "colab": {
          "base_uri": "https://localhost:8080/",
          "height": 33
        }
      },
      "source": [
        "df_stock.shape"
      ],
      "execution_count": null,
      "outputs": [
        {
          "output_type": "execute_result",
          "data": {
            "text/plain": [
              "(4392, 7)"
            ]
          },
          "metadata": {
            "tags": []
          },
          "execution_count": 84
        }
      ]
    },
    {
      "cell_type": "markdown",
      "metadata": {
        "id": "5HAeEV3NMqg6"
      },
      "source": [
        "Removing null values"
      ]
    },
    {
      "cell_type": "code",
      "metadata": {
        "id": "RM4c71T4MtJj",
        "outputId": "af2ee17d-8246-4a67-eff3-cd82afe2c7e9",
        "colab": {
          "base_uri": "https://localhost:8080/",
          "height": 115
        }
      },
      "source": [
        "#Calling sum() of the DataFrame returned by isnull() will give a series containing data about count of NaN in each column\n",
        "df_stock_new.isnull().sum()"
      ],
      "execution_count": null,
      "outputs": [
        {
          "output_type": "execute_result",
          "data": {
            "text/plain": [
              "Open      0\n",
              "High      0\n",
              "Low       0\n",
              "Close     0\n",
              "Volume    0\n",
              "dtype: int64"
            ]
          },
          "metadata": {
            "tags": []
          },
          "execution_count": 85
        }
      ]
    },
    {
      "cell_type": "code",
      "metadata": {
        "id": "Qc4vwAaSM3KI"
      },
      "source": [
        "# creating a copy of the column, Close\n",
        "df_stock_new['y'] = df_stock_new['Close']"
      ],
      "execution_count": null,
      "outputs": []
    },
    {
      "cell_type": "code",
      "metadata": {
        "id": "Oxrzm-oxM7Hm",
        "outputId": "367a675a-ed7d-4f8e-e835-8bbeb72438f7",
        "colab": {
          "base_uri": "https://localhost:8080/",
          "height": 191
        }
      },
      "source": [
        "df_stock_new.head()"
      ],
      "execution_count": null,
      "outputs": [
        {
          "output_type": "execute_result",
          "data": {
            "text/html": [
              "<div>\n",
              "<style scoped>\n",
              "    .dataframe tbody tr th:only-of-type {\n",
              "        vertical-align: middle;\n",
              "    }\n",
              "\n",
              "    .dataframe tbody tr th {\n",
              "        vertical-align: top;\n",
              "    }\n",
              "\n",
              "    .dataframe thead th {\n",
              "        text-align: right;\n",
              "    }\n",
              "</style>\n",
              "<table border=\"1\" class=\"dataframe\">\n",
              "  <thead>\n",
              "    <tr style=\"text-align: right;\">\n",
              "      <th></th>\n",
              "      <th>Open</th>\n",
              "      <th>High</th>\n",
              "      <th>Low</th>\n",
              "      <th>Close</th>\n",
              "      <th>Volume</th>\n",
              "      <th>y</th>\n",
              "    </tr>\n",
              "  </thead>\n",
              "  <tbody>\n",
              "    <tr>\n",
              "      <th>0</th>\n",
              "      <td>3.812500</td>\n",
              "      <td>4.156250</td>\n",
              "      <td>3.812500</td>\n",
              "      <td>4.125000</td>\n",
              "      <td>3675600</td>\n",
              "      <td>4.125000</td>\n",
              "    </tr>\n",
              "    <tr>\n",
              "      <th>1</th>\n",
              "      <td>4.125000</td>\n",
              "      <td>4.125000</td>\n",
              "      <td>4.000000</td>\n",
              "      <td>4.015625</td>\n",
              "      <td>1077600</td>\n",
              "      <td>4.015625</td>\n",
              "    </tr>\n",
              "    <tr>\n",
              "      <th>2</th>\n",
              "      <td>4.000000</td>\n",
              "      <td>4.031250</td>\n",
              "      <td>3.953125</td>\n",
              "      <td>4.000000</td>\n",
              "      <td>437200</td>\n",
              "      <td>4.000000</td>\n",
              "    </tr>\n",
              "    <tr>\n",
              "      <th>3</th>\n",
              "      <td>4.000000</td>\n",
              "      <td>4.000000</td>\n",
              "      <td>3.843750</td>\n",
              "      <td>3.843750</td>\n",
              "      <td>1883600</td>\n",
              "      <td>3.843750</td>\n",
              "    </tr>\n",
              "    <tr>\n",
              "      <th>4</th>\n",
              "      <td>3.734375</td>\n",
              "      <td>3.734375</td>\n",
              "      <td>3.390625</td>\n",
              "      <td>3.390625</td>\n",
              "      <td>7931600</td>\n",
              "      <td>3.390625</td>\n",
              "    </tr>\n",
              "  </tbody>\n",
              "</table>\n",
              "</div>"
            ],
            "text/plain": [
              "       Open      High       Low     Close   Volume         y\n",
              "0  3.812500  4.156250  3.812500  4.125000  3675600  4.125000\n",
              "1  4.125000  4.125000  4.000000  4.015625  1077600  4.015625\n",
              "2  4.000000  4.031250  3.953125  4.000000   437200  4.000000\n",
              "3  4.000000  4.000000  3.843750  3.843750  1883600  3.843750\n",
              "4  3.734375  3.734375  3.390625  3.390625  7931600  3.390625"
            ]
          },
          "metadata": {
            "tags": []
          },
          "execution_count": 87
        }
      ]
    },
    {
      "cell_type": "markdown",
      "metadata": {
        "id": "q53YqVDSNPwQ"
      },
      "source": [
        "Normalizing the columns"
      ]
    },
    {
      "cell_type": "code",
      "metadata": {
        "id": "G3R29BadNSWF",
        "outputId": "12b3bfe9-5ffd-4f0f-a6cd-e88f4df0158e",
        "colab": {
          "base_uri": "https://localhost:8080/",
          "height": 245
        }
      },
      "source": [
        "#Normalizing except  last column y\n",
        "for column in df_stock_new.columns:\n",
        "  if  column != 'y':\n",
        "    encode_numeric_zscore(df_stock_new, column)\n",
        "\n",
        "#print first  5 rows in new csv file to check for normalizing\n",
        "print(df_newstock.head)"
      ],
      "execution_count": null,
      "outputs": [
        {
          "output_type": "stream",
          "text": [
            "<bound method NDFrame.head of            Date        Open        High  ...       Close   Adj_Close   Volume\n",
            "0     2000/3/27    3.812500    4.156250  ...    4.125000    4.125000  3675600\n",
            "1     2000/3/28    4.125000    4.125000  ...    4.015625    4.015625  1077600\n",
            "2     2000/3/29    4.000000    4.031250  ...    4.000000    4.000000   437200\n",
            "3     2000/3/30    4.000000    4.000000  ...    3.843750    3.843750  1883600\n",
            "4     2000/3/31    3.734375    3.734375  ...    3.390625    3.390625  7931600\n",
            "...         ...         ...         ...  ...         ...         ...      ...\n",
            "4387   2017/9/1  113.790001  114.099998  ...  113.309998  113.309998   950000\n",
            "4388   2017/9/5  112.519997  113.529999  ...  111.870003  111.870003  1805200\n",
            "4389   2017/9/6  112.029999  112.489998  ...  112.230003  112.230003  2136700\n",
            "4390   2017/9/7  112.459999  112.900002  ...  112.339996  112.339996  1251600\n",
            "4391   2017/9/8  112.300003  114.790001  ...  113.190002  113.190002  1611700\n",
            "\n",
            "[4392 rows x 7 columns]>\n"
          ],
          "name": "stdout"
        }
      ]
    },
    {
      "cell_type": "code",
      "metadata": {
        "id": "P7gz_ff5QVf7",
        "outputId": "503a9881-9ca1-4b3a-8e8a-17e7a0468411",
        "colab": {
          "base_uri": "https://localhost:8080/",
          "height": 50
        }
      },
      "source": [
        "# Set all column other than y as input or 'x'\n",
        "x = df_stock_new.iloc[:,df_stock_new.columns != 'y']\n",
        "x = np.array(x, dtype=np.float32)\n",
        "\n",
        "# Set the y column as output or 'y'\n",
        "y = np.array(df_stock_new['y'].values, dtype=np.float32)\n",
        "print(x.shape)\n",
        "print(y.shape)"
      ],
      "execution_count": null,
      "outputs": [
        {
          "output_type": "stream",
          "text": [
            "(4392, 5)\n",
            "(4392,)\n"
          ],
          "name": "stdout"
        }
      ]
    },
    {
      "cell_type": "code",
      "metadata": {
        "id": "P2AWfFRNQo60"
      },
      "source": [
        "import numpy as np\n",
        "\n",
        "def to_sequences(seq_size, data1, data2):\n",
        "    x = []\n",
        "    y = []\n",
        "\n",
        "    for i in range(len(data1)-seq_size):\n",
        "        #print(i)\n",
        "        window = data1[i:(i+seq_size)]\n",
        "        after_window = data2[i+seq_size]\n",
        "        window = [[x] for x in window]\n",
        "        #print(\"{} - {}\".format(window,after_window))\n",
        "        x.append(window)\n",
        "        y.append(after_window)\n",
        "        \n",
        "    return np.array(x), np.array(y)"
      ],
      "execution_count": null,
      "outputs": []
    },
    {
      "cell_type": "code",
      "metadata": {
        "id": "Ig2LHucaQu06",
        "outputId": "c52e1cea-8f45-4b16-e565-75e4f51dcd70",
        "colab": {
          "base_uri": "https://localhost:8080/",
          "height": 50
        }
      },
      "source": [
        "SEQUENCE_SIZE = 7\n",
        "#x_lstm_seq_test,y_lstm_seq_test = to_sequences(SEQUENCE_SIZE,X_test,y_test)\n",
        "x_lstseq, y_lstseq = to_sequences(SEQUENCE_SIZE, x, y)\n",
        "\n",
        "#print(\"Shape of x_test: {}\".format(x_lstm_seq_test.shape))\n",
        "print(\"Shape of x_lstseq: {}\".format(x_lstseq.shape))\n",
        "#print(\"Shape of y_test: {}\".format(y_lstm_seq_test.shape))\n",
        "print(\"Shape of y_lstseq: {}\".format(y_lstseq.shape))"
      ],
      "execution_count": null,
      "outputs": [
        {
          "output_type": "stream",
          "text": [
            "Shape of x_lstseq: (4385, 7, 1, 5)\n",
            "Shape of y_lstseq: (4385,)\n"
          ],
          "name": "stdout"
        }
      ]
    },
    {
      "cell_type": "code",
      "metadata": {
        "id": "i4Cm-tN8RRd1"
      },
      "source": [
        "x_seq_4d = x_lstseq.reshape(4385,1,7,5)"
      ],
      "execution_count": null,
      "outputs": []
    },
    {
      "cell_type": "markdown",
      "metadata": {
        "id": "Ty5VtQb5R3Oy"
      },
      "source": [
        "Split data into 70/30"
      ]
    },
    {
      "cell_type": "code",
      "metadata": {
        "id": "EtixaGe3R66H",
        "outputId": "296f11b8-3df3-468f-f43a-bd17c6c26fc5",
        "colab": {
          "base_uri": "https://localhost:8080/",
          "height": 98
        }
      },
      "source": [
        "##Split train and test date 70/30\n",
        "x_train, x_test, y_train, y_test = train_test_split(x_lstseq, y_lstseq, test_size=0.3, random_state=0)\n",
        "\n",
        "print(\"Shape of x_train :{}\".format(x_train.shape))\n",
        "print(\"Shape of x_test  :{}\".format(x_test.shape))\n",
        "\n",
        "print(\"Shape of y_train :{}\".format(y_train.shape))\n",
        "print(\"Shape of y_test  :{}\".format(y_test.shape))\n",
        "\n",
        "type(x_test),type(y_test),type(x_train),type(y_train)"
      ],
      "execution_count": null,
      "outputs": [
        {
          "output_type": "stream",
          "text": [
            "Shape of x_train :(3069, 7, 1, 5)\n",
            "Shape of x_test  :(1316, 7, 1, 5)\n",
            "Shape of y_train :(3069,)\n",
            "Shape of y_test  :(1316,)\n"
          ],
          "name": "stdout"
        },
        {
          "output_type": "execute_result",
          "data": {
            "text/plain": [
              "(numpy.ndarray, numpy.ndarray, numpy.ndarray, numpy.ndarray)"
            ]
          },
          "metadata": {
            "tags": []
          },
          "execution_count": 108
        }
      ]
    },
    {
      "cell_type": "markdown",
      "metadata": {
        "id": "e3C_jKaHShkE"
      },
      "source": [
        "Neural Networks"
      ]
    },
    {
      "cell_type": "code",
      "metadata": {
        "id": "oSNJu9Y0TG7O",
        "outputId": "543d7e7a-eb72-47ec-d959-2dca2eeb3aff",
        "colab": {
          "base_uri": "https://localhost:8080/",
          "height": 1000
        }
      },
      "source": [
        "from sklearn import metrics\n",
        "from tensorflow.keras.datasets import mnist\n",
        "from tensorflow.keras.models import Sequential\n",
        "from tensorflow.keras.layers import Dense, Dropout, Flatten\n",
        "from tensorflow.keras.layers import Conv2D, MaxPooling2D\n",
        "from tensorflow.keras.models import Sequential\n",
        "from tensorflow.keras.layers import Dense, Activation\n",
        "from tensorflow.keras.callbacks import EarlyStopping\n",
        "from tensorflow.keras.callbacks import ModelCheckpoint\n",
        "\n",
        "\n",
        "optimizers = ['adam','sgd']\n",
        "activation_functions = ['relu','sigmoid','tanh']\n",
        "\n",
        "for opt in optimizers:\n",
        "    for act in activation_functions:\n",
        "        \n",
        "        print(\"\\n\\n\\nModel trained for \\\"{}\\\" optimizer and \\\"{}\\\" activation function : \\n\".format(opt,act))\n",
        "        \n",
        "        model = Sequential()\n",
        "        model.add(Conv2D(64, kernel_size=(3,3), strides=(1, 1), padding='same',activation=act,input_shape=(1,7,5)))\n",
        "        model.add(MaxPooling2D(pool_size=(1,1), strides=None))\n",
        "        model.add(Flatten())\n",
        "        model.add(Dense(64, activation=act))\n",
        "        model.add(Dropout(0.5))\n",
        "        model.add(Dense(1))\n",
        "        model.compile(loss='mean_squared_error', optimizer=opt)\n",
        "        model.summary()\n",
        "        monitor = EarlyStopping(monitor='val_loss', min_delta=1e-3, patience=5, verbose=1, mode='auto')\n",
        "        checkpointer = ModelCheckpoint(filepath=\"best_weights.hdf5\", verbose=0, save_best_only=True)\n",
        "        \n",
        "        model.fit(x_train, y_train,validation_data=(x_test,y_test),callbacks=[monitor,checkpointer],verbose=2,epochs=200)\n",
        "        model.load_weights('best_weights.hdf5')\n",
        "        \n",
        "        pred = model.predict(x_test)\n",
        "        \n",
        "        # Measure MSE error.  \n",
        "        mse = metrics.mean_squared_error(pred,y_test)\n",
        "        print(\"\\n\\nFinal score (MSE): {}\".format(mse))\n",
        "        \n",
        "        # Measure RMSE error.  RMSE is common for regression.\n",
        "        rmse = np.sqrt(metrics.mean_squared_error(pred,y_test))\n",
        "        print(\"Final score (RMSE): {}\".format(rmse))\n",
        "        \n",
        "        chart_regression(pred.flatten(),y_test,sort=True)"
      ],
      "execution_count": null,
      "outputs": [
        {
          "output_type": "stream",
          "text": [
            "\n",
            "\n",
            "\n",
            "Model trained for \"adam\" optimizer and \"relu\" activation function : \n",
            "\n",
            "Model: \"sequential_8\"\n",
            "_________________________________________________________________\n",
            "Layer (type)                 Output Shape              Param #   \n",
            "=================================================================\n",
            "conv2d_7 (Conv2D)            (None, 1, 7, 64)          2944      \n",
            "_________________________________________________________________\n",
            "max_pooling2d_7 (MaxPooling2 (None, 1, 7, 64)          0         \n",
            "_________________________________________________________________\n",
            "flatten_7 (Flatten)          (None, 448)               0         \n",
            "_________________________________________________________________\n",
            "dense_18 (Dense)             (None, 64)                28736     \n",
            "_________________________________________________________________\n",
            "dropout_7 (Dropout)          (None, 64)                0         \n",
            "_________________________________________________________________\n",
            "dense_19 (Dense)             (None, 1)                 65        \n",
            "=================================================================\n",
            "Total params: 31,745\n",
            "Trainable params: 31,745\n",
            "Non-trainable params: 0\n",
            "_________________________________________________________________\n",
            "Epoch 1/200\n",
            "WARNING:tensorflow:Model was constructed with shape (None, 1, 7, 5) for input Tensor(\"conv2d_7_input:0\", shape=(None, 1, 7, 5), dtype=float32), but it was called on an input with incompatible shape (None, 7, 1, 5).\n",
            "WARNING:tensorflow:Model was constructed with shape (None, 1, 7, 5) for input Tensor(\"conv2d_7_input:0\", shape=(None, 1, 7, 5), dtype=float32), but it was called on an input with incompatible shape (None, 7, 1, 5).\n",
            "WARNING:tensorflow:Model was constructed with shape (None, 1, 7, 5) for input Tensor(\"conv2d_7_input:0\", shape=(None, 1, 7, 5), dtype=float32), but it was called on an input with incompatible shape (None, 7, 1, 5).\n",
            "96/96 - 0s - loss: 694.2631 - val_loss: 111.3833\n",
            "Epoch 2/200\n",
            "96/96 - 0s - loss: 142.6670 - val_loss: 40.1701\n",
            "Epoch 3/200\n",
            "96/96 - 0s - loss: 91.0398 - val_loss: 15.6458\n",
            "Epoch 4/200\n",
            "96/96 - 0s - loss: 74.8184 - val_loss: 10.6338\n",
            "Epoch 5/200\n",
            "96/96 - 0s - loss: 62.3736 - val_loss: 9.9655\n",
            "Epoch 6/200\n",
            "96/96 - 0s - loss: 64.9935 - val_loss: 4.7554\n",
            "Epoch 7/200\n",
            "96/96 - 0s - loss: 68.3139 - val_loss: 5.8979\n",
            "Epoch 8/200\n",
            "96/96 - 0s - loss: 67.7037 - val_loss: 12.4792\n",
            "Epoch 9/200\n",
            "96/96 - 0s - loss: 67.9334 - val_loss: 4.7039\n",
            "Epoch 10/200\n",
            "96/96 - 0s - loss: 67.3149 - val_loss: 3.4893\n",
            "Epoch 11/200\n",
            "96/96 - 0s - loss: 66.8091 - val_loss: 8.2538\n",
            "Epoch 12/200\n",
            "96/96 - 0s - loss: 75.3669 - val_loss: 6.8845\n",
            "Epoch 13/200\n",
            "96/96 - 0s - loss: 67.2129 - val_loss: 3.2497\n",
            "Epoch 14/200\n",
            "96/96 - 0s - loss: 71.4959 - val_loss: 4.1842\n",
            "Epoch 15/200\n",
            "96/96 - 0s - loss: 65.6629 - val_loss: 15.9544\n",
            "Epoch 16/200\n",
            "96/96 - 0s - loss: 69.3349 - val_loss: 3.7608\n",
            "Epoch 17/200\n",
            "96/96 - 0s - loss: 67.0785 - val_loss: 4.3466\n",
            "Epoch 18/200\n",
            "96/96 - 0s - loss: 67.4139 - val_loss: 13.6223\n",
            "Epoch 00018: early stopping\n",
            "WARNING:tensorflow:Model was constructed with shape (None, 1, 7, 5) for input Tensor(\"conv2d_7_input:0\", shape=(None, 1, 7, 5), dtype=float32), but it was called on an input with incompatible shape (None, 7, 1, 5).\n",
            "\n",
            "\n",
            "Final score (MSE): 3.249678373336792\n",
            "Final score (RMSE): 1.8026864528656006\n"
          ],
          "name": "stdout"
        },
        {
          "output_type": "display_data",
          "data": {
            "image/png": "[encoded data removed]",
            "text/plain": [
              "<Figure size 432x288 with 1 Axes>"
            ]
          },
          "metadata": {
            "tags": [],
            "needs_background": "light"
          }
        },
        {
          "output_type": "stream",
          "text": [
            "\n",
            "\n",
            "\n",
            "Model trained for \"adam\" optimizer and \"sigmoid\" activation function : \n",
            "\n",
            "Model: \"sequential_9\"\n",
            "_________________________________________________________________\n",
            "Layer (type)                 Output Shape              Param #   \n",
            "=================================================================\n",
            "conv2d_8 (Conv2D)            (None, 1, 7, 64)          2944      \n",
            "_________________________________________________________________\n",
            "max_pooling2d_8 (MaxPooling2 (None, 1, 7, 64)          0         \n",
            "_________________________________________________________________\n",
            "flatten_8 (Flatten)          (None, 448)               0         \n",
            "_________________________________________________________________\n",
            "dense_20 (Dense)             (None, 64)                28736     \n",
            "_________________________________________________________________\n",
            "dropout_8 (Dropout)          (None, 64)                0         \n",
            "_________________________________________________________________\n",
            "dense_21 (Dense)             (None, 1)                 65        \n",
            "=================================================================\n",
            "Total params: 31,745\n",
            "Trainable params: 31,745\n",
            "Non-trainable params: 0\n",
            "_________________________________________________________________\n",
            "Epoch 1/200\n",
            "WARNING:tensorflow:Model was constructed with shape (None, 1, 7, 5) for input Tensor(\"conv2d_8_input:0\", shape=(None, 1, 7, 5), dtype=float32), but it was called on an input with incompatible shape (None, 7, 1, 5).\n",
            "WARNING:tensorflow:Model was constructed with shape (None, 1, 7, 5) for input Tensor(\"conv2d_8_input:0\", shape=(None, 1, 7, 5), dtype=float32), but it was called on an input with incompatible shape (None, 7, 1, 5).\n",
            "WARNING:tensorflow:Model was constructed with shape (None, 1, 7, 5) for input Tensor(\"conv2d_8_input:0\", shape=(None, 1, 7, 5), dtype=float32), but it was called on an input with incompatible shape (None, 7, 1, 5).\n",
            "96/96 - 0s - loss: 1543.1615 - val_loss: 1419.3420\n",
            "Epoch 2/200\n",
            "96/96 - 0s - loss: 1386.1074 - val_loss: 1296.8096\n",
            "Epoch 3/200\n",
            "96/96 - 0s - loss: 1280.5559 - val_loss: 1198.9857\n",
            "Epoch 4/200\n",
            "96/96 - 0s - loss: 1181.9304 - val_loss: 1119.8859\n",
            "Epoch 5/200\n",
            "96/96 - 0s - loss: 1114.6801 - val_loss: 1035.0001\n",
            "Epoch 6/200\n",
            "96/96 - 0s - loss: 1010.0276 - val_loss: 933.2666\n",
            "Epoch 7/200\n",
            "96/96 - 0s - loss: 922.0408 - val_loss: 853.1512\n",
            "Epoch 8/200\n",
            "96/96 - 0s - loss: 853.9515 - val_loss: 782.9727\n",
            "Epoch 9/200\n",
            "96/96 - 0s - loss: 783.4507 - val_loss: 719.9084\n",
            "Epoch 10/200\n",
            "96/96 - 0s - loss: 735.2291 - val_loss: 664.0804\n",
            "Epoch 11/200\n",
            "96/96 - 0s - loss: 681.3102 - val_loss: 615.1534\n",
            "Epoch 12/200\n",
            "96/96 - 0s - loss: 632.0657 - val_loss: 570.7366\n",
            "Epoch 13/200\n",
            "96/96 - 0s - loss: 582.0015 - val_loss: 529.9393\n",
            "Epoch 14/200\n",
            "96/96 - 0s - loss: 550.5821 - val_loss: 494.8167\n",
            "Epoch 15/200\n",
            "96/96 - 0s - loss: 515.9866 - val_loss: 461.7973\n",
            "Epoch 16/200\n",
            "96/96 - 0s - loss: 486.4275 - val_loss: 430.1705\n",
            "Epoch 17/200\n",
            "96/96 - 0s - loss: 447.5936 - val_loss: 401.8186\n",
            "Epoch 18/200\n",
            "96/96 - 0s - loss: 436.5895 - val_loss: 375.3024\n",
            "Epoch 19/200\n",
            "96/96 - 0s - loss: 393.3624 - val_loss: 350.8453\n",
            "Epoch 20/200\n",
            "96/96 - 0s - loss: 379.3714 - val_loss: 326.8817\n",
            "Epoch 21/200\n",
            "96/96 - 0s - loss: 352.1783 - val_loss: 301.7300\n",
            "Epoch 22/200\n",
            "96/96 - 0s - loss: 335.8453 - val_loss: 281.3856\n",
            "Epoch 23/200\n",
            "96/96 - 0s - loss: 314.0164 - val_loss: 259.9389\n",
            "Epoch 24/200\n",
            "96/96 - 0s - loss: 300.1299 - val_loss: 240.9247\n",
            "Epoch 25/200\n",
            "96/96 - 0s - loss: 280.3218 - val_loss: 223.2740\n",
            "Epoch 26/200\n",
            "96/96 - 0s - loss: 258.8434 - val_loss: 206.6936\n",
            "Epoch 27/200\n",
            "96/96 - 0s - loss: 244.1543 - val_loss: 191.4088\n",
            "Epoch 28/200\n",
            "96/96 - 0s - loss: 225.2022 - val_loss: 178.1171\n",
            "Epoch 29/200\n",
            "96/96 - 0s - loss: 223.3026 - val_loss: 160.4973\n",
            "Epoch 30/200\n",
            "96/96 - 0s - loss: 210.5067 - val_loss: 148.8905\n",
            "Epoch 31/200\n",
            "96/96 - 0s - loss: 176.9257 - val_loss: 136.7950\n",
            "Epoch 32/200\n",
            "96/96 - 0s - loss: 180.5137 - val_loss: 126.4116\n",
            "Epoch 33/200\n",
            "96/96 - 0s - loss: 173.0844 - val_loss: 118.2770\n",
            "Epoch 34/200\n",
            "96/96 - 0s - loss: 162.4089 - val_loss: 107.9459\n",
            "Epoch 35/200\n",
            "96/96 - 0s - loss: 158.1789 - val_loss: 101.2859\n",
            "Epoch 36/200\n",
            "96/96 - 0s - loss: 151.3147 - val_loss: 93.1077\n",
            "Epoch 37/200\n",
            "96/96 - 0s - loss: 138.7551 - val_loss: 88.1862\n",
            "Epoch 38/200\n",
            "96/96 - 0s - loss: 129.2230 - val_loss: 80.7821\n",
            "Epoch 39/200\n",
            "96/96 - 0s - loss: 132.0750 - val_loss: 76.2644\n",
            "Epoch 40/200\n",
            "96/96 - 0s - loss: 124.7275 - val_loss: 72.5780\n",
            "Epoch 41/200\n",
            "96/96 - 0s - loss: 111.4808 - val_loss: 65.7232\n",
            "Epoch 42/200\n",
            "96/96 - 0s - loss: 117.2323 - val_loss: 60.3564\n",
            "Epoch 43/200\n",
            "96/96 - 0s - loss: 107.6553 - val_loss: 54.4474\n",
            "Epoch 44/200\n",
            "96/96 - 0s - loss: 105.5861 - val_loss: 51.2872\n",
            "Epoch 45/200\n",
            "96/96 - 0s - loss: 92.4990 - val_loss: 46.9330\n",
            "Epoch 46/200\n",
            "96/96 - 0s - loss: 101.4135 - val_loss: 45.6495\n",
            "Epoch 47/200\n",
            "96/96 - 0s - loss: 90.3802 - val_loss: 43.8784\n",
            "Epoch 48/200\n",
            "96/96 - 0s - loss: 89.8010 - val_loss: 41.7065\n",
            "Epoch 49/200\n",
            "96/96 - 0s - loss: 86.4418 - val_loss: 38.5320\n",
            "Epoch 50/200\n",
            "96/96 - 0s - loss: 82.0113 - val_loss: 31.9503\n",
            "Epoch 51/200\n",
            "96/96 - 0s - loss: 91.6566 - val_loss: 31.0198\n",
            "Epoch 52/200\n",
            "96/96 - 0s - loss: 79.5441 - val_loss: 28.7465\n",
            "Epoch 53/200\n",
            "96/96 - 0s - loss: 77.5731 - val_loss: 25.6129\n",
            "Epoch 54/200\n",
            "96/96 - 0s - loss: 76.2894 - val_loss: 23.4813\n",
            "Epoch 55/200\n",
            "96/96 - 0s - loss: 72.9503 - val_loss: 21.4844\n",
            "Epoch 56/200\n",
            "96/96 - 0s - loss: 76.6768 - val_loss: 21.8672\n",
            "Epoch 57/200\n",
            "96/96 - 0s - loss: 69.7235 - val_loss: 19.2157\n",
            "Epoch 58/200\n",
            "96/96 - 0s - loss: 64.9380 - val_loss: 21.0453\n",
            "Epoch 59/200\n",
            "96/96 - 0s - loss: 76.7123 - val_loss: 16.9341\n",
            "Epoch 60/200\n",
            "96/96 - 0s - loss: 67.7929 - val_loss: 16.3824\n",
            "Epoch 61/200\n",
            "96/96 - 0s - loss: 72.0136 - val_loss: 17.5779\n",
            "Epoch 62/200\n",
            "96/96 - 0s - loss: 73.7823 - val_loss: 14.6923\n",
            "Epoch 63/200\n",
            "96/96 - 0s - loss: 63.6414 - val_loss: 15.3582\n",
            "Epoch 64/200\n",
            "96/96 - 0s - loss: 64.7184 - val_loss: 14.3243\n",
            "Epoch 65/200\n",
            "96/96 - 0s - loss: 61.7254 - val_loss: 12.6633\n",
            "Epoch 66/200\n",
            "96/96 - 0s - loss: 64.9783 - val_loss: 11.6445\n",
            "Epoch 67/200\n",
            "96/96 - 0s - loss: 60.9420 - val_loss: 15.5175\n",
            "Epoch 68/200\n",
            "96/96 - 0s - loss: 61.8236 - val_loss: 13.8803\n",
            "Epoch 69/200\n",
            "96/96 - 0s - loss: 63.3162 - val_loss: 11.5823\n",
            "Epoch 70/200\n",
            "96/96 - 0s - loss: 60.5035 - val_loss: 14.1189\n",
            "Epoch 71/200\n",
            "96/96 - 0s - loss: 59.0685 - val_loss: 11.1509\n",
            "Epoch 72/200\n",
            "96/96 - 0s - loss: 59.8228 - val_loss: 12.4018\n",
            "Epoch 73/200\n",
            "96/96 - 0s - loss: 62.2207 - val_loss: 11.9428\n",
            "Epoch 74/200\n",
            "96/96 - 0s - loss: 61.7318 - val_loss: 9.0049\n",
            "Epoch 75/200\n",
            "96/96 - 0s - loss: 59.0775 - val_loss: 12.0133\n",
            "Epoch 76/200\n",
            "96/96 - 0s - loss: 63.5403 - val_loss: 10.2308\n",
            "Epoch 77/200\n",
            "96/96 - 0s - loss: 55.6538 - val_loss: 9.4541\n",
            "Epoch 78/200\n",
            "96/96 - 0s - loss: 53.4095 - val_loss: 8.4441\n",
            "Epoch 79/200\n",
            "96/96 - 0s - loss: 60.2154 - val_loss: 7.1440\n",
            "Epoch 80/200\n",
            "96/96 - 0s - loss: 60.1700 - val_loss: 9.0855\n",
            "Epoch 81/200\n",
            "96/96 - 0s - loss: 58.8132 - val_loss: 7.1642\n",
            "Epoch 82/200\n",
            "96/96 - 0s - loss: 58.4269 - val_loss: 7.5217\n",
            "Epoch 83/200\n",
            "96/96 - 0s - loss: 54.7495 - val_loss: 6.7794\n",
            "Epoch 84/200\n",
            "96/96 - 0s - loss: 59.1286 - val_loss: 7.1194\n",
            "Epoch 85/200\n",
            "96/96 - 0s - loss: 53.3987 - val_loss: 6.5234\n",
            "Epoch 86/200\n",
            "96/96 - 0s - loss: 60.5682 - val_loss: 13.3268\n",
            "Epoch 87/200\n",
            "96/96 - 0s - loss: 60.1410 - val_loss: 6.2990\n",
            "Epoch 88/200\n",
            "96/96 - 0s - loss: 59.5467 - val_loss: 5.4314\n",
            "Epoch 89/200\n",
            "96/96 - 0s - loss: 57.7858 - val_loss: 11.6063\n",
            "Epoch 90/200\n",
            "96/96 - 0s - loss: 57.2572 - val_loss: 6.4654\n",
            "Epoch 91/200\n",
            "96/96 - 0s - loss: 60.7790 - val_loss: 8.4530\n",
            "Epoch 92/200\n",
            "96/96 - 0s - loss: 53.8675 - val_loss: 10.2075\n",
            "Epoch 93/200\n",
            "96/96 - 0s - loss: 58.1714 - val_loss: 10.4725\n",
            "Epoch 00093: early stopping\n",
            "WARNING:tensorflow:Model was constructed with shape (None, 1, 7, 5) for input Tensor(\"conv2d_8_input:0\", shape=(None, 1, 7, 5), dtype=float32), but it was called on an input with incompatible shape (None, 7, 1, 5).\n",
            "\n",
            "\n",
            "Final score (MSE): 5.431422233581543\n",
            "Final score (RMSE): 2.3305411338806152\n"
          ],
          "name": "stdout"
        },
        {
          "output_type": "display_data",
          "data": {
            "image/png": "[encoded data removed]",
            "text/plain": [
              "<Figure size 432x288 with 1 Axes>"
            ]
          },
          "metadata": {
            "tags": [],
            "needs_background": "light"
          }
        },
        {
          "output_type": "stream",
          "text": [
            "\n",
            "\n",
            "\n",
            "Model trained for \"adam\" optimizer and \"tanh\" activation function : \n",
            "\n",
            "Model: \"sequential_10\"\n",
            "_________________________________________________________________\n",
            "Layer (type)                 Output Shape              Param #   \n",
            "=================================================================\n",
            "conv2d_9 (Conv2D)            (None, 1, 7, 64)          2944      \n",
            "_________________________________________________________________\n",
            "max_pooling2d_9 (MaxPooling2 (None, 1, 7, 64)          0         \n",
            "_________________________________________________________________\n",
            "flatten_9 (Flatten)          (None, 448)               0         \n",
            "_________________________________________________________________\n",
            "dense_22 (Dense)             (None, 64)                28736     \n",
            "_________________________________________________________________\n",
            "dropout_9 (Dropout)          (None, 64)                0         \n",
            "_________________________________________________________________\n",
            "dense_23 (Dense)             (None, 1)                 65        \n",
            "=================================================================\n",
            "Total params: 31,745\n",
            "Trainable params: 31,745\n",
            "Non-trainable params: 0\n",
            "_________________________________________________________________\n",
            "Epoch 1/200\n",
            "WARNING:tensorflow:Model was constructed with shape (None, 1, 7, 5) for input Tensor(\"conv2d_9_input:0\", shape=(None, 1, 7, 5), dtype=float32), but it was called on an input with incompatible shape (None, 7, 1, 5).\n",
            "WARNING:tensorflow:Model was constructed with shape (None, 1, 7, 5) for input Tensor(\"conv2d_9_input:0\", shape=(None, 1, 7, 5), dtype=float32), but it was called on an input with incompatible shape (None, 7, 1, 5).\n",
            "WARNING:tensorflow:Model was constructed with shape (None, 1, 7, 5) for input Tensor(\"conv2d_9_input:0\", shape=(None, 1, 7, 5), dtype=float32), but it was called on an input with incompatible shape (None, 7, 1, 5).\n",
            "96/96 - 0s - loss: 1413.8862 - val_loss: 1091.1710\n",
            "Epoch 2/200\n",
            "96/96 - 0s - loss: 995.3066 - val_loss: 878.9582\n",
            "Epoch 3/200\n",
            "96/96 - 0s - loss: 834.4172 - val_loss: 735.0671\n",
            "Epoch 4/200\n",
            "96/96 - 0s - loss: 704.1904 - val_loss: 624.0659\n",
            "Epoch 5/200\n",
            "96/96 - 0s - loss: 606.5047 - val_loss: 533.4294\n",
            "Epoch 6/200\n",
            "96/96 - 0s - loss: 521.0880 - val_loss: 463.0435\n",
            "Epoch 7/200\n",
            "96/96 - 0s - loss: 460.0663 - val_loss: 401.6755\n",
            "Epoch 8/200\n",
            "96/96 - 0s - loss: 401.7478 - val_loss: 352.0164\n",
            "Epoch 9/200\n",
            "96/96 - 0s - loss: 360.4844 - val_loss: 310.3467\n",
            "Epoch 10/200\n",
            "96/96 - 0s - loss: 323.8620 - val_loss: 275.4324\n",
            "Epoch 11/200\n",
            "96/96 - 0s - loss: 286.3017 - val_loss: 242.6300\n",
            "Epoch 12/200\n",
            "96/96 - 0s - loss: 259.6615 - val_loss: 214.7179\n",
            "Epoch 13/200\n",
            "96/96 - 0s - loss: 240.5588 - val_loss: 191.0189\n",
            "Epoch 14/200\n",
            "96/96 - 0s - loss: 214.8498 - val_loss: 167.2965\n",
            "Epoch 15/200\n",
            "96/96 - 0s - loss: 191.4681 - val_loss: 147.4654\n",
            "Epoch 16/200\n",
            "96/96 - 0s - loss: 188.8793 - val_loss: 135.3992\n",
            "Epoch 17/200\n",
            "96/96 - 0s - loss: 163.7163 - val_loss: 118.4790\n",
            "Epoch 18/200\n",
            "96/96 - 0s - loss: 153.0678 - val_loss: 109.8166\n",
            "Epoch 19/200\n",
            "96/96 - 0s - loss: 141.9137 - val_loss: 96.1390\n",
            "Epoch 20/200\n",
            "96/96 - 0s - loss: 132.8763 - val_loss: 79.9133\n",
            "Epoch 21/200\n",
            "96/96 - 0s - loss: 118.5312 - val_loss: 75.8205\n",
            "Epoch 22/200\n",
            "96/96 - 0s - loss: 110.6493 - val_loss: 68.3022\n",
            "Epoch 23/200\n",
            "96/96 - 0s - loss: 101.6975 - val_loss: 57.1469\n",
            "Epoch 24/200\n",
            "96/96 - 0s - loss: 89.4007 - val_loss: 52.0134\n",
            "Epoch 25/200\n",
            "96/96 - 0s - loss: 82.2620 - val_loss: 49.6150\n",
            "Epoch 26/200\n",
            "96/96 - 0s - loss: 78.6661 - val_loss: 42.1398\n",
            "Epoch 27/200\n",
            "96/96 - 0s - loss: 70.8630 - val_loss: 38.6959\n",
            "Epoch 28/200\n",
            "96/96 - 0s - loss: 64.7537 - val_loss: 35.9904\n",
            "Epoch 29/200\n",
            "96/96 - 0s - loss: 59.2915 - val_loss: 33.4588\n",
            "Epoch 30/200\n",
            "96/96 - 0s - loss: 53.9221 - val_loss: 28.2467\n",
            "Epoch 31/200\n",
            "96/96 - 0s - loss: 55.5678 - val_loss: 26.4151\n",
            "Epoch 32/200\n",
            "96/96 - 0s - loss: 54.0689 - val_loss: 25.6214\n",
            "Epoch 33/200\n",
            "96/96 - 0s - loss: 54.9871 - val_loss: 23.7543\n",
            "Epoch 34/200\n",
            "96/96 - 0s - loss: 47.9016 - val_loss: 24.7160\n",
            "Epoch 35/200\n",
            "96/96 - 0s - loss: 48.8943 - val_loss: 22.1576\n",
            "Epoch 36/200\n",
            "96/96 - 0s - loss: 45.5399 - val_loss: 18.0450\n",
            "Epoch 37/200\n",
            "96/96 - 0s - loss: 46.7655 - val_loss: 16.3100\n",
            "Epoch 38/200\n",
            "96/96 - 0s - loss: 43.0056 - val_loss: 19.2356\n",
            "Epoch 39/200\n",
            "96/96 - 0s - loss: 44.8793 - val_loss: 17.6434\n",
            "Epoch 40/200\n",
            "96/96 - 0s - loss: 39.7162 - val_loss: 12.8061\n",
            "Epoch 41/200\n",
            "96/96 - 0s - loss: 41.5575 - val_loss: 12.7391\n",
            "Epoch 42/200\n",
            "96/96 - 0s - loss: 41.2469 - val_loss: 14.6265\n",
            "Epoch 43/200\n",
            "96/96 - 0s - loss: 36.7107 - val_loss: 13.5724\n",
            "Epoch 44/200\n",
            "96/96 - 0s - loss: 45.6700 - val_loss: 11.0238\n",
            "Epoch 45/200\n",
            "96/96 - 0s - loss: 39.5001 - val_loss: 9.3346\n",
            "Epoch 46/200\n",
            "96/96 - 0s - loss: 40.7768 - val_loss: 12.6539\n",
            "Epoch 47/200\n",
            "96/96 - 0s - loss: 39.1086 - val_loss: 9.6481\n",
            "Epoch 48/200\n",
            "96/96 - 0s - loss: 37.6792 - val_loss: 9.6112\n",
            "Epoch 49/200\n",
            "96/96 - 0s - loss: 37.1157 - val_loss: 10.6485\n",
            "Epoch 50/200\n",
            "96/96 - 0s - loss: 40.6968 - val_loss: 9.0390\n",
            "Epoch 51/200\n",
            "96/96 - 0s - loss: 34.7746 - val_loss: 10.2098\n",
            "Epoch 52/200\n",
            "96/96 - 0s - loss: 37.0056 - val_loss: 10.7997\n",
            "Epoch 53/200\n",
            "96/96 - 0s - loss: 34.9915 - val_loss: 8.1083\n",
            "Epoch 54/200\n",
            "96/96 - 0s - loss: 33.9021 - val_loss: 6.1096\n",
            "Epoch 55/200\n",
            "96/96 - 0s - loss: 34.2397 - val_loss: 6.1978\n",
            "Epoch 56/200\n",
            "96/96 - 0s - loss: 41.9207 - val_loss: 6.4763\n",
            "Epoch 57/200\n",
            "96/96 - 0s - loss: 33.8237 - val_loss: 5.9251\n",
            "Epoch 58/200\n",
            "96/96 - 0s - loss: 32.8721 - val_loss: 6.2037\n",
            "Epoch 59/200\n",
            "96/96 - 0s - loss: 34.6354 - val_loss: 6.7754\n",
            "Epoch 60/200\n",
            "96/96 - 0s - loss: 34.6552 - val_loss: 6.2083\n",
            "Epoch 61/200\n",
            "96/96 - 0s - loss: 31.3039 - val_loss: 9.1297\n",
            "Epoch 62/200\n",
            "96/96 - 0s - loss: 32.3265 - val_loss: 5.7371\n",
            "Epoch 63/200\n",
            "96/96 - 0s - loss: 33.0371 - val_loss: 8.8593\n",
            "Epoch 64/200\n",
            "96/96 - 0s - loss: 33.4538 - val_loss: 4.4045\n",
            "Epoch 65/200\n",
            "96/96 - 0s - loss: 33.4594 - val_loss: 6.5124\n",
            "Epoch 66/200\n",
            "96/96 - 0s - loss: 32.3300 - val_loss: 11.4061\n",
            "Epoch 67/200\n",
            "96/96 - 0s - loss: 34.6385 - val_loss: 5.5766\n",
            "Epoch 68/200\n",
            "96/96 - 0s - loss: 32.4675 - val_loss: 3.8478\n",
            "Epoch 69/200\n",
            "96/96 - 0s - loss: 29.9240 - val_loss: 8.5323\n",
            "Epoch 70/200\n",
            "96/96 - 0s - loss: 32.9917 - val_loss: 5.4958\n",
            "Epoch 71/200\n",
            "96/96 - 0s - loss: 30.7651 - val_loss: 3.6051\n",
            "Epoch 72/200\n",
            "96/96 - 0s - loss: 30.5250 - val_loss: 6.7793\n",
            "Epoch 73/200\n",
            "96/96 - 0s - loss: 30.8946 - val_loss: 4.3121\n",
            "Epoch 74/200\n",
            "96/96 - 0s - loss: 34.0452 - val_loss: 4.5603\n",
            "Epoch 75/200\n",
            "96/96 - 0s - loss: 31.8193 - val_loss: 5.4745\n",
            "Epoch 76/200\n",
            "96/96 - 0s - loss: 32.4764 - val_loss: 5.0353\n",
            "Epoch 00076: early stopping\n",
            "WARNING:tensorflow:Model was constructed with shape (None, 1, 7, 5) for input Tensor(\"conv2d_9_input:0\", shape=(None, 1, 7, 5), dtype=float32), but it was called on an input with incompatible shape (None, 7, 1, 5).\n",
            "\n",
            "\n",
            "Final score (MSE): 3.6050758361816406\n",
            "Final score (RMSE): 1.898703694343567\n"
          ],
          "name": "stdout"
        },
        {
          "output_type": "display_data",
          "data": {
            "image/png": "[encoded data removed]",
            "text/plain": [
              "<Figure size 432x288 with 1 Axes>"
            ]
          },
          "metadata": {
            "tags": [],
            "needs_background": "light"
          }
        },
        {
          "output_type": "stream",
          "text": [
            "\n",
            "\n",
            "\n",
            "Model trained for \"sgd\" optimizer and \"relu\" activation function : \n",
            "\n",
            "Model: \"sequential_11\"\n",
            "_________________________________________________________________\n",
            "Layer (type)                 Output Shape              Param #   \n",
            "=================================================================\n",
            "conv2d_10 (Conv2D)           (None, 1, 7, 64)          2944      \n",
            "_________________________________________________________________\n",
            "max_pooling2d_10 (MaxPooling (None, 1, 7, 64)          0         \n",
            "_________________________________________________________________\n",
            "flatten_10 (Flatten)         (None, 448)               0         \n",
            "_________________________________________________________________\n",
            "dense_24 (Dense)             (None, 64)                28736     \n",
            "_________________________________________________________________\n",
            "dropout_10 (Dropout)         (None, 64)                0         \n",
            "_________________________________________________________________\n",
            "dense_25 (Dense)             (None, 1)                 65        \n",
            "=================================================================\n",
            "Total params: 31,745\n",
            "Trainable params: 31,745\n",
            "Non-trainable params: 0\n",
            "_________________________________________________________________\n",
            "Epoch 1/200\n",
            "WARNING:tensorflow:Model was constructed with shape (None, 1, 7, 5) for input Tensor(\"conv2d_10_input:0\", shape=(None, 1, 7, 5), dtype=float32), but it was called on an input with incompatible shape (None, 7, 1, 5).\n",
            "WARNING:tensorflow:Model was constructed with shape (None, 1, 7, 5) for input Tensor(\"conv2d_10_input:0\", shape=(None, 1, 7, 5), dtype=float32), but it was called on an input with incompatible shape (None, 7, 1, 5).\n",
            "WARNING:tensorflow:Model was constructed with shape (None, 1, 7, 5) for input Tensor(\"conv2d_10_input:0\", shape=(None, 1, 7, 5), dtype=float32), but it was called on an input with incompatible shape (None, 7, 1, 5).\n",
            "96/96 - 0s - loss: nan - val_loss: nan\n",
            "Epoch 2/200\n",
            "96/96 - 0s - loss: nan - val_loss: nan\n",
            "Epoch 3/200\n",
            "96/96 - 0s - loss: nan - val_loss: nan\n",
            "Epoch 4/200\n",
            "96/96 - 0s - loss: nan - val_loss: nan\n",
            "Epoch 5/200\n",
            "96/96 - 0s - loss: nan - val_loss: nan\n",
            "Epoch 00005: early stopping\n",
            "WARNING:tensorflow:Model was constructed with shape (None, 1, 7, 5) for input Tensor(\"conv2d_10_input:0\", shape=(None, 1, 7, 5), dtype=float32), but it was called on an input with incompatible shape (None, 7, 1, 5).\n",
            "\n",
            "\n",
            "Final score (MSE): 1766.324462890625\n",
            "Final score (RMSE): 42.02766418457031\n"
          ],
          "name": "stdout"
        },
        {
          "output_type": "display_data",
          "data": {
            "image/png": "[encoded data removed]",
            "text/plain": [
              "<Figure size 432x288 with 1 Axes>"
            ]
          },
          "metadata": {
            "tags": [],
            "needs_background": "light"
          }
        },
        {
          "output_type": "stream",
          "text": [
            "\n",
            "\n",
            "\n",
            "Model trained for \"sgd\" optimizer and \"sigmoid\" activation function : \n",
            "\n",
            "Model: \"sequential_12\"\n",
            "_________________________________________________________________\n",
            "Layer (type)                 Output Shape              Param #   \n",
            "=================================================================\n",
            "conv2d_11 (Conv2D)           (None, 1, 7, 64)          2944      \n",
            "_________________________________________________________________\n",
            "max_pooling2d_11 (MaxPooling (None, 1, 7, 64)          0         \n",
            "_________________________________________________________________\n",
            "flatten_11 (Flatten)         (None, 448)               0         \n",
            "_________________________________________________________________\n",
            "dense_26 (Dense)             (None, 64)                28736     \n",
            "_________________________________________________________________\n",
            "dropout_11 (Dropout)         (None, 64)                0         \n",
            "_________________________________________________________________\n",
            "dense_27 (Dense)             (None, 1)                 65        \n",
            "=================================================================\n",
            "Total params: 31,745\n",
            "Trainable params: 31,745\n",
            "Non-trainable params: 0\n",
            "_________________________________________________________________\n",
            "Epoch 1/200\n",
            "WARNING:tensorflow:Model was constructed with shape (None, 1, 7, 5) for input Tensor(\"conv2d_11_input:0\", shape=(None, 1, 7, 5), dtype=float32), but it was called on an input with incompatible shape (None, 7, 1, 5).\n",
            "WARNING:tensorflow:Model was constructed with shape (None, 1, 7, 5) for input Tensor(\"conv2d_11_input:0\", shape=(None, 1, 7, 5), dtype=float32), but it was called on an input with incompatible shape (None, 7, 1, 5).\n",
            "WARNING:tensorflow:Model was constructed with shape (None, 1, 7, 5) for input Tensor(\"conv2d_11_input:0\", shape=(None, 1, 7, 5), dtype=float32), but it was called on an input with incompatible shape (None, 7, 1, 5).\n",
            "96/96 - 0s - loss: 212.8836 - val_loss: 24.3314\n",
            "Epoch 2/200\n",
            "96/96 - 0s - loss: 74.9956 - val_loss: 12.9375\n",
            "Epoch 3/200\n",
            "96/96 - 0s - loss: 65.8906 - val_loss: 31.1317\n",
            "Epoch 4/200\n",
            "96/96 - 0s - loss: 52.2093 - val_loss: 25.0529\n",
            "Epoch 5/200\n",
            "96/96 - 0s - loss: 51.6300 - val_loss: 76.0564\n",
            "Epoch 6/200\n",
            "96/96 - 0s - loss: 55.6097 - val_loss: 17.0151\n",
            "Epoch 7/200\n",
            "96/96 - 0s - loss: 55.3848 - val_loss: 11.9926\n",
            "Epoch 8/200\n",
            "96/96 - 0s - loss: 49.1238 - val_loss: 18.2248\n",
            "Epoch 9/200\n",
            "96/96 - 0s - loss: 46.0323 - val_loss: 7.1243\n",
            "Epoch 10/200\n",
            "96/96 - 0s - loss: 46.6613 - val_loss: 11.7008\n",
            "Epoch 11/200\n",
            "96/96 - 0s - loss: 56.2126 - val_loss: 34.3622\n",
            "Epoch 12/200\n",
            "96/96 - 0s - loss: 45.4496 - val_loss: 12.0819\n",
            "Epoch 13/200\n",
            "96/96 - 0s - loss: 40.9879 - val_loss: 10.2760\n",
            "Epoch 14/200\n",
            "96/96 - 0s - loss: 52.8732 - val_loss: 10.9143\n",
            "Epoch 00014: early stopping\n",
            "WARNING:tensorflow:Model was constructed with shape (None, 1, 7, 5) for input Tensor(\"conv2d_11_input:0\", shape=(None, 1, 7, 5), dtype=float32), but it was called on an input with incompatible shape (None, 7, 1, 5).\n",
            "\n",
            "\n",
            "Final score (MSE): 7.1243367195129395\n",
            "Final score (RMSE): 2.669145345687866\n"
          ],
          "name": "stdout"
        },
        {
          "output_type": "display_data",
          "data": {
            "image/png": "[encoded data removed]",
            "text/plain": [
              "<Figure size 432x288 with 1 Axes>"
            ]
          },
          "metadata": {
            "tags": [],
            "needs_background": "light"
          }
        },
        {
          "output_type": "stream",
          "text": [
            "\n",
            "\n",
            "\n",
            "Model trained for \"sgd\" optimizer and \"tanh\" activation function : \n",
            "\n",
            "Model: \"sequential_13\"\n",
            "_________________________________________________________________\n",
            "Layer (type)                 Output Shape              Param #   \n",
            "=================================================================\n",
            "conv2d_12 (Conv2D)           (None, 1, 7, 64)          2944      \n",
            "_________________________________________________________________\n",
            "max_pooling2d_12 (MaxPooling (None, 1, 7, 64)          0         \n",
            "_________________________________________________________________\n",
            "flatten_12 (Flatten)         (None, 448)               0         \n",
            "_________________________________________________________________\n",
            "dense_28 (Dense)             (None, 64)                28736     \n",
            "_________________________________________________________________\n",
            "dropout_12 (Dropout)         (None, 64)                0         \n",
            "_________________________________________________________________\n",
            "dense_29 (Dense)             (None, 1)                 65        \n",
            "=================================================================\n",
            "Total params: 31,745\n",
            "Trainable params: 31,745\n",
            "Non-trainable params: 0\n",
            "_________________________________________________________________\n",
            "Epoch 1/200\n",
            "WARNING:tensorflow:Model was constructed with shape (None, 1, 7, 5) for input Tensor(\"conv2d_12_input:0\", shape=(None, 1, 7, 5), dtype=float32), but it was called on an input with incompatible shape (None, 7, 1, 5).\n",
            "WARNING:tensorflow:Model was constructed with shape (None, 1, 7, 5) for input Tensor(\"conv2d_12_input:0\", shape=(None, 1, 7, 5), dtype=float32), but it was called on an input with incompatible shape (None, 7, 1, 5).\n",
            "WARNING:tensorflow:Model was constructed with shape (None, 1, 7, 5) for input Tensor(\"conv2d_12_input:0\", shape=(None, 1, 7, 5), dtype=float32), but it was called on an input with incompatible shape (None, 7, 1, 5).\n",
            "96/96 - 0s - loss: 468.1034 - val_loss: 87.6675\n",
            "Epoch 2/200\n",
            "96/96 - 0s - loss: 195.4505 - val_loss: 61.5358\n",
            "Epoch 3/200\n",
            "96/96 - 0s - loss: 207.5510 - val_loss: 59.8184\n",
            "Epoch 4/200\n",
            "96/96 - 0s - loss: 251.6492 - val_loss: 114.6937\n",
            "Epoch 5/200\n",
            "96/96 - 0s - loss: 206.8092 - val_loss: 97.5200\n",
            "Epoch 6/200\n",
            "96/96 - 0s - loss: 263.3515 - val_loss: 111.6108\n",
            "Epoch 7/200\n",
            "96/96 - 0s - loss: 262.1161 - val_loss: 190.3441\n",
            "Epoch 8/200\n",
            "96/96 - 0s - loss: 252.6559 - val_loss: 104.2988\n",
            "Epoch 00008: early stopping\n",
            "WARNING:tensorflow:Model was constructed with shape (None, 1, 7, 5) for input Tensor(\"conv2d_12_input:0\", shape=(None, 1, 7, 5), dtype=float32), but it was called on an input with incompatible shape (None, 7, 1, 5).\n",
            "\n",
            "\n",
            "Final score (MSE): 59.81837844848633\n",
            "Final score (RMSE): 7.73423433303833\n"
          ],
          "name": "stdout"
        },
        {
          "output_type": "display_data",
          "data": {
            "image/png": "[encoded data removed]",
            "text/plain": [
              "<Figure size 432x288 with 1 Axes>"
            ]
          },
          "metadata": {
            "tags": [],
            "needs_background": "light"
          }
        }
      ]
    }
  ]
}